{
 "cells": [
  {
   "cell_type": "code",
   "execution_count": 1,
   "id": "a2e28da6",
   "metadata": {},
   "outputs": [],
   "source": [
    "#IMPORTAÇÃO DOS MODULOS E CHAMADA DAS TABELAS\n",
    "import os\n",
    "import pandas as pd\n",
    "import glob\n",
    "import pyodbc"
   ]
  },
  {
   "cell_type": "code",
   "execution_count": 2,
   "id": "aad45d51",
   "metadata": {},
   "outputs": [
    {
     "name": "stdout",
     "output_type": "stream",
     "text": [
      "Conexão ao BD realizada com Socesso!\n"
     ]
    },
    {
     "data": {
      "text/plain": [
       "<pyodbc.Connection at 0x2760d174030>"
      ]
     },
     "execution_count": 2,
     "metadata": {},
     "output_type": "execute_result"
    }
   ],
   "source": [
    "#FUNÇAO PARA CONEXAO COM O BANCO DE DADOS SQL\n",
    "def executar_conexao():\n",
    "    server = 'TBDBL-GLEISSON'\n",
    "    database = 'Dados_Pavimento'\n",
    "    username = 'gleisson.santos'\n",
    "    password = '12345'\n",
    "    conexao = pyodbc.connect(\n",
    "        'DRIVER={SQL Server};SERVER=' + server + ';DATABASE=' + database + ';UID=' + username + ';PWD=' + password)\n",
    "    print('Conexão ao BD realizada com Socesso!')\n",
    "    return conexao\n",
    "executar_conexao()"
   ]
  },
  {
   "cell_type": "code",
   "execution_count": 3,
   "id": "a3229cd4",
   "metadata": {
    "scrolled": false
   },
   "outputs": [
    {
     "ename": "FileNotFoundError",
     "evalue": "[WinError 3] O sistema não pode encontrar o caminho especificado: 'C:\\\\Users\\\\gleisson.santos\\\\Desktop\\\\Projetos Checkd Git\\\\# 1 Extração e Automação de dados\\\\Extração da dados\\\\Extração de dados Selenium e BD\\\\Extracao-de-dados-Selenium-e-BD\\\\aa'",
     "output_type": "error",
     "traceback": [
      "\u001b[1;31m---------------------------------------------------------------------------\u001b[0m",
      "\u001b[1;31mFileNotFoundError\u001b[0m                         Traceback (most recent call last)",
      "\u001b[1;32mC:\\Users\\GLEISS~1.SAN\\AppData\\Local\\Temp/ipykernel_8724/2087779316.py\u001b[0m in \u001b[0;36m<module>\u001b[1;34m\u001b[0m\n\u001b[0;32m      1\u001b[0m \u001b[0mpath\u001b[0m \u001b[1;33m=\u001b[0m \u001b[1;34mr'C:\\Users\\gleisson.santos\\Desktop\\Projetos Checkd Git\\# 1 Extração e Automação de dados\\Extração da dados\\Extração de dados Selenium e BD\\Extracao-de-dados-Selenium-e-BD\\aa'\u001b[0m\u001b[1;33m\u001b[0m\u001b[1;33m\u001b[0m\u001b[0m\n\u001b[1;32m----> 2\u001b[1;33m \u001b[0mfiles_xls\u001b[0m \u001b[1;33m=\u001b[0m \u001b[0mos\u001b[0m\u001b[1;33m.\u001b[0m\u001b[0mlistdir\u001b[0m\u001b[1;33m(\u001b[0m\u001b[0mpath\u001b[0m\u001b[1;33m)\u001b[0m\u001b[1;33m\u001b[0m\u001b[1;33m\u001b[0m\u001b[0m\n\u001b[0m\u001b[0;32m      3\u001b[0m \u001b[1;33m\u001b[0m\u001b[0m\n\u001b[0;32m      4\u001b[0m \u001b[0mdf\u001b[0m \u001b[1;33m=\u001b[0m \u001b[0mpd\u001b[0m\u001b[1;33m.\u001b[0m\u001b[0mDataFrame\u001b[0m\u001b[1;33m(\u001b[0m\u001b[1;33m)\u001b[0m\u001b[1;33m\u001b[0m\u001b[1;33m\u001b[0m\u001b[0m\n\u001b[0;32m      5\u001b[0m \u001b[1;32mfor\u001b[0m \u001b[0mf\u001b[0m \u001b[1;32min\u001b[0m \u001b[0mfiles_xls\u001b[0m\u001b[1;33m:\u001b[0m\u001b[1;33m\u001b[0m\u001b[1;33m\u001b[0m\u001b[0m\n",
      "\u001b[1;31mFileNotFoundError\u001b[0m: [WinError 3] O sistema não pode encontrar o caminho especificado: 'C:\\\\Users\\\\gleisson.santos\\\\Desktop\\\\Projetos Checkd Git\\\\# 1 Extração e Automação de dados\\\\Extração da dados\\\\Extração de dados Selenium e BD\\\\Extracao-de-dados-Selenium-e-BD\\\\aa'"
     ]
    }
   ],
   "source": [
    "path = r'C:\\Users\\gleisson.santos\\Desktop\\Projetos Checkd Git\\# 1 Extração e Automação de dados\\Extração da dados\\Extração de dados Selenium e BD\\Extracao-de-dados-Selenium-BD\\aa'\n",
    "files_xls = os.listdir(path)\n",
    "\n",
    "df = pd.DataFrame()\n",
    "for f in files_xls:\n",
    "    file_path = os.path.join(path, f)\n",
    "    data = pd.read_html(file_path)\n",
    "    data = data[1]\n",
    "    data = data.dropna(axis=1, how='all')\n",
    "    df = df.append(data)   \n",
    "df\n",
    "\n"
   ]
  },
  {
   "cell_type": "code",
   "execution_count": 5,
   "id": "8c758fec",
   "metadata": {},
   "outputs": [],
   "source": [
    "df.to_excel('Dados.xlsx', index=False)"
   ]
  },
  {
   "cell_type": "code",
   "execution_count": 204,
   "id": "db14af06",
   "metadata": {
    "collapsed": true
   },
   "outputs": [
    {
     "name": "stdout",
     "output_type": "stream",
     "text": [
      "Conexão Ok\n"
     ]
    },
    {
     "ename": "ProgrammingError",
     "evalue": "('42000', '[42000] [Microsoft][ODBC SQL Server Driver][SQL Server]O fluxo de protocolo da chamada de procedimento remoto (RPC) do protocolo TDS recebido está incorreto. Parâmetro 13 (\"\"): o valor fornecido não é uma instância válida do tipo de dados float. Procure valores inválidos nos dados de origem. Dados do tipo numérico com escala maior que precisão são um exemplo de um valor inválido. (8023) (SQLExecDirectW)')",
     "output_type": "error",
     "traceback": [
      "\u001b[1;31m---------------------------------------------------------------------------\u001b[0m",
      "\u001b[1;31mProgrammingError\u001b[0m                          Traceback (most recent call last)",
      "\u001b[1;32mC:\\Users\\GLEISS~1.SAN\\AppData\\Local\\Temp/ipykernel_14376/4258093957.py\u001b[0m in \u001b[0;36m<module>\u001b[1;34m\u001b[0m\n\u001b[0;32m      2\u001b[0m \u001b[0mcursor\u001b[0m \u001b[1;33m=\u001b[0m \u001b[0mexecutar_conexao\u001b[0m\u001b[1;33m(\u001b[0m\u001b[1;33m)\u001b[0m\u001b[1;33m.\u001b[0m\u001b[0mcursor\u001b[0m\u001b[1;33m(\u001b[0m\u001b[1;33m)\u001b[0m\u001b[1;33m\u001b[0m\u001b[1;33m\u001b[0m\u001b[0m\n\u001b[0;32m      3\u001b[0m \u001b[1;32mfor\u001b[0m \u001b[0mindex\u001b[0m\u001b[1;33m,\u001b[0m \u001b[0mrow\u001b[0m \u001b[1;32min\u001b[0m \u001b[0mdf\u001b[0m\u001b[1;33m.\u001b[0m\u001b[0miterrows\u001b[0m\u001b[1;33m(\u001b[0m\u001b[1;33m)\u001b[0m\u001b[1;33m:\u001b[0m\u001b[1;33m\u001b[0m\u001b[1;33m\u001b[0m\u001b[0m\n\u001b[1;32m----> 4\u001b[1;33m     cursor.execute(\"INSERT INTO Material (SS, OS, Serviço, Equipe, Localidade, Bairro, Logradouro, Encerramento, ObsOS, ObsEnc) values(?,?,?,?,?,?,?,?,?,?)\",\n\u001b[0m\u001b[0;32m      5\u001b[0m                 row.SS, row.OS, row.Serviço, row.Equipe, row.Localidade,  row.Bairro, row.Logradouro, row.Encerramento, row.ObsOS, row.ObsEnc)\n\u001b[0;32m      6\u001b[0m \u001b[1;33m\u001b[0m\u001b[0m\n",
      "\u001b[1;31mProgrammingError\u001b[0m: ('42000', '[42000] [Microsoft][ODBC SQL Server Driver][SQL Server]O fluxo de protocolo da chamada de procedimento remoto (RPC) do protocolo TDS recebido está incorreto. Parâmetro 13 (\"\"): o valor fornecido não é uma instância válida do tipo de dados float. Procure valores inválidos nos dados de origem. Dados do tipo numérico com escala maior que precisão são um exemplo de um valor inválido. (8023) (SQLExecDirectW)')"
     ]
    }
   ],
   "source": [
    "#INSERT DA TABALA TRATADA AO BANCO DE DADOS SQL\n",
    "cursor = executar_conexao().cursor()\n",
    "for index, row in df.iterrows():\n",
    "    cursor.execute(\"INSERT INTO Material (SS, OS, Serviço, Equipe, Localidade, Bairro, Logradouro, Encerramento, ObsOS, ObsEnc) values(?,?,?,?,?,?,?,?,?,?)\",\n",
    "                row.SS, row.OS, row.Serviço, row.Equipe, row.Localidade,  row.Bairro, row.Logradouro, row.Encerramento, row.ObsOS, row.ObsEnc)\n",
    "\n",
    "cursor.commit()\n",
    "cursor.close()"
   ]
  },
  {
   "cell_type": "code",
   "execution_count": 171,
   "id": "e9551660",
   "metadata": {},
   "outputs": [
    {
     "name": "stdout",
     "output_type": "stream",
     "text": [
      "Conexão Ok\n"
     ]
    }
   ],
   "source": [
    "#APAGAR REGISTROS NA TABELA\n",
    "cursor = executar_conexao().cursor()\n",
    "cursor.execute('TRUNCATE TABLE Material')\n",
    "cursor.commit()"
   ]
  }
 ],
 "metadata": {
  "kernelspec": {
   "display_name": "Python 3 (ipykernel)",
   "language": "python",
   "name": "python3"
  },
  "language_info": {
   "codemirror_mode": {
    "name": "ipython",
    "version": 3
   },
   "file_extension": ".py",
   "mimetype": "text/x-python",
   "name": "python",
   "nbconvert_exporter": "python",
   "pygments_lexer": "ipython3",
   "version": "3.9.7"
  }
 },
 "nbformat": 4,
 "nbformat_minor": 5
}
