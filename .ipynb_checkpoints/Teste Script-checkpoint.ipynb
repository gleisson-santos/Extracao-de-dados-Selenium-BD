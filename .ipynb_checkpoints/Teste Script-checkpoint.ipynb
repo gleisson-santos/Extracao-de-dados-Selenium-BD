{
 "cells": [
  {
   "cell_type": "code",
   "execution_count": 1,
   "id": "d7f43394",
   "metadata": {},
   "outputs": [],
   "source": [
    "#Iniciando modulos\n",
    "from selenium import webdriver\n",
    "from selenium.webdriver.common.by import By\n",
    "from selenium.webdriver.support.ui import WebDriverWait\n",
    "from selenium.webdriver.support import expected_conditions as EC\n",
    "from selenium.common.exceptions import NoSuchElementException\n",
    "from selenium.webdriver.chrome.options import Options\n",
    "from webdriver_manager.chrome import ChromeDriverManager\n",
    "from selenium.webdriver.support.select import Select\n",
    "import pandas as pd\n",
    "import pyodbc\n",
    "import time\n"
   ]
  },
  {
   "cell_type": "code",
   "execution_count": null,
   "id": "36081375",
   "metadata": {},
   "outputs": [],
   "source": [
    "#Acesso ao banco de dados\n",
    "def executar_conexao_bd():\n",
    "    server = 'TBDBL-GLEISSON'\n",
    "    database = 'Dados_Pavimento'\n",
    "    username = 'gleisson.santos'\n",
    "    password = '12345'\n",
    "    conexao = pyodbc.connect(\n",
    "        'DRIVER={SQL Server};SERVER=' + server + ';DATABASE=' + database + ';UID=' + username + ';PWD=' + password)\n",
    "    print('Executado a conexão com o BD......')\n",
    "    return conexao\n",
    "\n",
    "cursor = executar_conexao_bd()\n",
    "cursor"
   ]
  },
  {
   "cell_type": "code",
   "execution_count": 2,
   "id": "c816402c",
   "metadata": {
    "collapsed": true
   },
   "outputs": [
    {
     "name": "stdout",
     "output_type": "stream",
     "text": [
      "\n"
     ]
    },
    {
     "name": "stderr",
     "output_type": "stream",
     "text": [
      "[WDM] - ====== WebDriver manager ======\n",
      "[WDM] - Current google-chrome version is 111.0.5563\n",
      "[WDM] - Get LATEST chromedriver version for 111.0.5563 google-chrome\n",
      "[WDM] - About to download new driver from https://chromedriver.storage.googleapis.com/111.0.5563.64/chromedriver_win32.zip\n",
      "[WDM] - Driver has been saved in cache [C:\\Users\\gleisson.santos\\.wdm\\drivers\\chromedriver\\win32\\111.0.5563.64]\n",
      "C:\\Users\\GLEISS~1.SAN\\AppData\\Local\\Temp/ipykernel_3896/3751352982.py:4: DeprecationWarning: executable_path has been deprecated, please pass in a Service object\n",
      "  driver = webdriver.Chrome(ChromeDriverManager().install())\n"
     ]
    }
   ],
   "source": [
    "#Inicinado automação / abrindo navegador\n",
    "options = Options()\n",
    "options.add_argument(\"start-maximized\")\n",
    "driver = webdriver.Chrome(ChromeDriverManager().install())\n",
    "chrome_options = webdriver.ChromeOptions()"
   ]
  },
  {
   "cell_type": "code",
   "execution_count": 3,
   "id": "9aefd81c",
   "metadata": {},
   "outputs": [],
   "source": [
    "login = 't034183'\n",
    "senha = 'CNB@2022'\n",
    "driver.get(\"https://sciweb.embasanet.ba.gov.br/sci-web/\")\n",
    "time.sleep(2)\n",
    "\n",
    "# Procurar a tag random do site / Login e senha\n",
    "randomtag = driver.find_element(By.ID, \"random-tag\").get_attribute('value')\n",
    "driver.find_element(By.ID, \"loginForm-usuario-{randomtag}\".format(randomtag=randomtag)).send_keys(login)\n",
    "driver.find_element(By.ID, \"loginForm-senha-{randomtag}\".format(randomtag=randomtag)).send_keys(senha)\n",
    "driver.find_element(By.ID, \"loginForm-submit\").click()\n",
    "time.sleep(2)"
   ]
  },
  {
   "cell_type": "code",
   "execution_count": 4,
   "id": "7a52746e",
   "metadata": {},
   "outputs": [],
   "source": [
    "#tipo: insu, menu: GOSI_anchor - ACESSAR MENU DE INSUMOS\n",
    "def arvore_acesso(driver, tipo, menu ):\n",
    "    # Proc detalhe da Os no campo de buscar\n",
    "    driver.find_element(By.ID, \"arvoreSearch\").send_keys(tipo)\n",
    "    # aguardar ate o elemento aparecer e/ou seguir codigo\n",
    "    wait = WebDriverWait(driver, 5)\n",
    "    element1 = wait.until(EC.element_to_be_clickable((By.ID, menu)))\n",
    "    # acessar Campo detalhe da Os\n",
    "    driver.find_element(By.ID, menu).click()\n",
    "    time.sleep(3)\n",
    "    #acessar camada frame do site\n",
    "    driver.switch_to.frame(\"frame-content\")\n",
    "\n",
    "#ACESSAR MENU PAR EXTRAR INSUMADOS\n",
    "arvore_acesso(driver, 'insum', 'GOSI_anchor')"
   ]
  },
  {
   "cell_type": "code",
   "execution_count": null,
   "id": "64346ca7",
   "metadata": {},
   "outputs": [],
   "source": [
    "itens = ['INTDIG01 - LUVA PVC JS 40MM', 'INTDIG01 - JOELHO 90 PVC C/ANEL 100MM ESG PRED']"
   ]
  },
  {
   "cell_type": "code",
   "execution_count": 10,
   "id": "19f077be",
   "metadata": {},
   "outputs": [],
   "source": [
    "#Consultar na label Material\n",
    "def preencher_ss(driver, lista, lista2):\n",
    "    driver.find_element(By.XPATH, '//*[@id=\"form-j_idt71-j_idt72-item\"]').clear()\n",
    "    driver.find_element(By.XPATH, '//*[@id=\"form-j_idt71-j_idt80-item\"]').clear()\n",
    "    \n",
    "    driver.find_element(By.XPATH, '//*[@id=\"form-j_idt71-j_idt72-item\"]').send_keys(lista)\n",
    "    time.sleep(0.5)\n",
    "    driver.find_element(By.XPATH, '//*[@id=\"form-j_idt71-j_idt80-item\"]').send_keys(lista2)\n",
    "    time.sleep(0.5)\n",
    "    # clinical em buscar\n",
    "    driver.find_element(By.XPATH, '//*[@id=\"form-j_idt71-panel\"]/input').click()"
   ]
  },
  {
   "cell_type": "code",
   "execution_count": 35,
   "id": "0482e973",
   "metadata": {},
   "outputs": [],
   "source": [
    "#Acessando e inserindo material\n",
    "def campo_material(driver, material)\n",
    "    campo1 = driver.find_element(By.XPATH,'//*[@id=\"form-cpnlAssociarInsumo-tmpCodigoAutoComp-codAutoComp_input\"]')\n",
    "    campo1.click()\n",
    "    campo1.clear()\n",
    "    campo.send_keys(material)"
   ]
  },
  {
   "cell_type": "code",
   "execution_count": 36,
   "id": "88d0731f",
   "metadata": {},
   "outputs": [],
   "source": [
    "#Acessando e inserindo quantidade e medir\n",
    "def campo_quantidade(driver, qtd, medir)\n",
    "    campo2 = driver.find_element(By.XPATH, '//*[@id=\"form-cpnlAssociarInsumo-quantidade-item\"]')\n",
    "    campo2.click()\n",
    "    campo2.clear()\n",
    "    campo2.send_keys(qtd)\n",
    "    time.sleep(0.5)\n",
    "    #Acessando e inserindo Disp p medir S/N\n",
    "    select_element = driver.find_element(By.ID, 'form-cpnlAssociarInsumo-j_idt290-comboBooleanSN-item')\n",
    "    select = Select(select_element)\n",
    "    select.select_by_value(medir)\n",
    "    # select.select_by_visible_text('Não')\n",
    "    time.sleep(0.5)\n",
    "    #Confirar insumo\n",
    "    driver.find_element(By.XPATH,'//*[@id=\"form-cpnlAssociarInsumo-confirmar\"]').click()"
   ]
  },
  {
   "cell_type": "code",
   "execution_count": 12,
   "id": "2ae27d70",
   "metadata": {},
   "outputs": [],
   "source": [
    "\n"
   ]
  },
  {
   "cell_type": "code",
   "execution_count": null,
   "id": "19855b2d",
   "metadata": {},
   "outputs": [],
   "source": [
    "    try:\n",
    "        material = driver.find_element(By.CSS_SELECTOR, \"label[title='Material Utilizado'] \").text\n",
    "    except NoSuchElementException:\n",
    "        material = 'None'\n",
    "    \n",
    "    try:\n",
    "        hd = driver.find_element(By.CSS_SELECTOR, \"label[title='Número do HD'] \").text\n",
    "    except NoSuchElementException:\n",
    "        try:\n",
    "            hd = driver.find_element(By.CSS_SELECTOR, \"label[title='Número do HD Instalado'] \").text\n",
    "        except NoSuchElementException:\n",
    "            try:\n",
    "                hd = driver.find_element(By.CSS_SELECTOR, \"label[title='Número do Hidrômetro Instalado'] \").text\n",
    "            except NoSuchElementException:\n",
    "                try:\n",
    "                    hd = driver.find_element(By.CSS_SELECTOR, \"label[title='Número do Hidrômetro'] \").text\n",
    "                except NoSuchElementException:\n",
    "                    try:\n",
    "                        hd = driver.find_element(By.CSS_SELECTOR, \"label[title='Hidrômetro Instalado'] \").text\n",
    "                    except NoSuchElementException:\n",
    "                        hd = None\n",
    "\n",
    "    return material, hd"
   ]
  },
  {
   "cell_type": "code",
   "execution_count": null,
   "id": "9cb2c4df",
   "metadata": {},
   "outputs": [],
   "source": [
    "df = pd.read_sql('SELECT * FROM [- 700Com_material]', executar_conexao_bd())\n",
    "df = pd.DataFrame(df, columns = ['SS', 'OS', 'Material', 'Mureta','Hd'])\n",
    "#df = df.astype(str)\n",
    "\n",
    "display(df)"
   ]
  },
  {
   "cell_type": "code",
   "execution_count": null,
   "id": "f96327eb",
   "metadata": {},
   "outputs": [],
   "source": [
    "#Extrair valores e criar coluna Material insumado\n",
    "dados = []\n",
    "hds = []\n",
    "for i, row in df.iterrows():\n",
    "    a = preencher_ss(driver, row['SS'], row['OS'])\n",
    "    time.sleep(0.3)\n",
    "    dados.append(a[0])\n",
    "    hds.append(a[1])\n",
    "df['Material'] = dados\n",
    "df['Hd'] = hds\n"
   ]
  },
  {
   "cell_type": "code",
   "execution_count": null,
   "id": "d5662cb7",
   "metadata": {},
   "outputs": [],
   "source": [
    "#Acessar tabela do BD e extrair apenas item do texto\n",
    "m_encontrado = ['Mureta', 'mureta']\n",
    "\n",
    "material = []\n",
    "\n",
    "for i, row in df.iterrows():\n",
    "    if any(x in row['Material'] for x in m_encontrado):\n",
    "        material.append('Sim')\n",
    "    else:\n",
    "        material.append('Não')     \n",
    "df['Mureta'] = material\n",
    "\n",
    "\n",
    "df = df.astype(str)\n",
    "df = pd.DataFrame(df, columns = ['SS', 'OS', 'Material', 'Mureta','Hd'])\n",
    "#display(df)\n",
    "mureta_df = df[df[\"Material\"].str.contains(\"Mureta|mureta\")]\n",
    "display(mureta_df)"
   ]
  },
  {
   "cell_type": "code",
   "execution_count": null,
   "id": "ac4acd6d",
   "metadata": {},
   "outputs": [],
   "source": [
    "for index, row in df.iterrows():    \n",
    "    ID = row.Material\n",
    "    SS = row.SS\n",
    "    MT = row.Mureta\n",
    "    HD = row.Hd\n",
    "    #comando_sql = (f\"UPDATE [Janeiro26/12-25/01] SET Material='{ID}', Mureta='{MT}', Hd='{HD}' WHERE SS={SS} \")\n",
    "    comando_sql = \"UPDATE [Insumar] SET Material='{}', Mureta='{}', Hd='{}' WHERE SS={}\".format(\n",
    "    ID.replace(\"'\", \"''\"), MT.replace(\"'\", \"''\"), HD.replace(\"'\", \"''\"), SS)  \n",
    "    cursor.execute(comando_sql)\n",
    "    \n",
    "cursor.commit()"
   ]
  },
  {
   "cell_type": "code",
   "execution_count": null,
   "id": "8a6a11cf",
   "metadata": {},
   "outputs": [],
   "source": []
  }
 ],
 "metadata": {
  "kernelspec": {
   "display_name": "Python 3 (ipykernel)",
   "language": "python",
   "name": "python3"
  },
  "language_info": {
   "codemirror_mode": {
    "name": "ipython",
    "version": 3
   },
   "file_extension": ".py",
   "mimetype": "text/x-python",
   "name": "python",
   "nbconvert_exporter": "python",
   "pygments_lexer": "ipython3",
   "version": "3.9.7"
  }
 },
 "nbformat": 4,
 "nbformat_minor": 5
}
