{
 "cells": [
  {
   "cell_type": "code",
   "execution_count": 1,
   "id": "d7f43394",
   "metadata": {},
   "outputs": [],
   "source": [
    "#Iniciando modulos\n",
    "from selenium import webdriver\n",
    "from selenium.webdriver.common.keys import Keys\n",
    "from selenium.webdriver.common.by import By\n",
    "from selenium.webdriver.support.ui import WebDriverWait\n",
    "from selenium.webdriver.support import expected_conditions as EC\n",
    "from selenium.common.exceptions import NoSuchElementException\n",
    "from selenium.webdriver.chrome.options import Options\n",
    "from webdriver_manager.chrome import ChromeDriverManager\n",
    "from selenium.webdriver.support.select import Select\n",
    "import pandas as pd\n",
    "import pyodbc\n",
    "import time\n",
    "import re\n"
   ]
  },
  {
   "cell_type": "code",
   "execution_count": 2,
   "id": "36081375",
   "metadata": {},
   "outputs": [
    {
     "name": "stdout",
     "output_type": "stream",
     "text": [
      "Executado a conexão com o BD......\n"
     ]
    },
    {
     "data": {
      "text/plain": [
       "<pyodbc.Connection at 0x21709184e00>"
      ]
     },
     "execution_count": 2,
     "metadata": {},
     "output_type": "execute_result"
    }
   ],
   "source": [
    "#Acesso ao banco de dados\n",
    "def executar_conexao_bd():\n",
    "    server = 'DESKTOP-0P0H9IO'\n",
    "    database = 'Dados_Pavimento'\n",
    "    #username = 'gleisson.santos'\n",
    "    #password = '12345'\n",
    "    conexao = pyodbc.connect(\n",
    "        'DRIVER={SQL Server};SERVER=' + server + ';DATABASE=' + database)\n",
    "        #'DRIVER={SQL Server};SERVER=' + server + ';DATABASE=' + database + ';UID=' + username + ';PWD=' + password)\n",
    "    print('Executado a conexão com o BD......')\n",
    "    return conexao\n",
    "\n",
    "cursor = executar_conexao_bd()\n",
    "cursor"
   ]
  },
  {
   "cell_type": "code",
   "execution_count": 6,
   "id": "dda0c4c4",
   "metadata": {
    "collapsed": true
   },
   "outputs": [
    {
     "name": "stdout",
     "output_type": "stream",
     "text": [
      "Executado a conexão com o BD......\n"
     ]
    },
    {
     "data": {
      "text/plain": [
       "<pyodbc.Connection at 0x14d34e09370>"
      ]
     },
     "execution_count": 6,
     "metadata": {},
     "output_type": "execute_result"
    }
   ],
   "source": [
    "#Acesso ao banco de dados\n",
    "def executar_conexao_bd():\n",
    "    server = 'TBDBL-GLEISSON'\n",
    "    database = 'Dados_Pavimento'\n",
    "    username = 'gleisson.santos'\n",
    "    password = '12345'\n",
    "    conexao = pyodbc.connect(\n",
    "        #'DRIVER={SQL Server};SERVER=' + server + ';DATABASE=' + database)\n",
    "        'DRIVER={SQL Server};SERVER=' + server + ';DATABASE=' + database + ';UID=' + username + ';PWD=' + password)\n",
    "    print('Executado a conexão com o BD......')\n",
    "    return conexao\n",
    "\n",
    "cursor = executar_conexao_bd()\n",
    "cursor"
   ]
  },
  {
   "cell_type": "code",
   "execution_count": 180,
   "id": "9b83c855",
   "metadata": {},
   "outputs": [
    {
     "name": "stdout",
     "output_type": "stream",
     "text": [
      "Executado a conexão com o BD......\n"
     ]
    },
    {
     "name": "stderr",
     "output_type": "stream",
     "text": [
      "C:\\Users\\55719\\anaconda3\\lib\\site-packages\\pandas\\io\\sql.py:761: UserWarning: pandas only support SQLAlchemy connectable(engine/connection) ordatabase string URI or sqlite3 DBAPI2 connectionother DBAPI2 objects are not tested, please consider using SQLAlchemy\n",
      "  warnings.warn(\n"
     ]
    },
    {
     "data": {
      "text/html": [
       "<div>\n",
       "<style scoped>\n",
       "    .dataframe tbody tr th:only-of-type {\n",
       "        vertical-align: middle;\n",
       "    }\n",
       "\n",
       "    .dataframe tbody tr th {\n",
       "        vertical-align: top;\n",
       "    }\n",
       "\n",
       "    .dataframe thead th {\n",
       "        text-align: right;\n",
       "    }\n",
       "</style>\n",
       "<table border=\"1\" class=\"dataframe\">\n",
       "  <thead>\n",
       "    <tr style=\"text-align: right;\">\n",
       "      <th></th>\n",
       "      <th>SS</th>\n",
       "      <th>OS</th>\n",
       "      <th>Tipo</th>\n",
       "      <th>Serviço</th>\n",
       "      <th>Ano</th>\n",
       "    </tr>\n",
       "  </thead>\n",
       "  <tbody>\n",
       "    <tr>\n",
       "      <th>571</th>\n",
       "      <td>950327746</td>\n",
       "      <td>1</td>\n",
       "      <td>26 - MANUTENCAO DE HIDROMETRO</td>\n",
       "      <td>12 - SUBSTITUICAO HID.</td>\n",
       "      <td>2020.0</td>\n",
       "    </tr>\n",
       "    <tr>\n",
       "      <th>575</th>\n",
       "      <td>950331729</td>\n",
       "      <td>1</td>\n",
       "      <td>26 - MANUTENCAO DE HIDROMETRO</td>\n",
       "      <td>12 - SUBSTITUICAO HID.</td>\n",
       "      <td>2020.0</td>\n",
       "    </tr>\n",
       "    <tr>\n",
       "      <th>578</th>\n",
       "      <td>951743416</td>\n",
       "      <td>1</td>\n",
       "      <td>26 - MANUTENCAO DE HIDROMETRO</td>\n",
       "      <td>12 - SUBSTITUICAO HID.</td>\n",
       "      <td>2020.0</td>\n",
       "    </tr>\n",
       "    <tr>\n",
       "      <th>580</th>\n",
       "      <td>953725963</td>\n",
       "      <td>1</td>\n",
       "      <td>26 - MANUTENCAO DE HIDROMETRO</td>\n",
       "      <td>766 - REV HIDROMETRO PARADO</td>\n",
       "      <td>2020.0</td>\n",
       "    </tr>\n",
       "    <tr>\n",
       "      <th>581</th>\n",
       "      <td>953725964</td>\n",
       "      <td>1</td>\n",
       "      <td>26 - MANUTENCAO DE HIDROMETRO</td>\n",
       "      <td>766 - REV HIDROMETRO PARADO</td>\n",
       "      <td>2020.0</td>\n",
       "    </tr>\n",
       "    <tr>\n",
       "      <th>...</th>\n",
       "      <td>...</td>\n",
       "      <td>...</td>\n",
       "      <td>...</td>\n",
       "      <td>...</td>\n",
       "      <td>...</td>\n",
       "    </tr>\n",
       "    <tr>\n",
       "      <th>713</th>\n",
       "      <td>951957330</td>\n",
       "      <td>1</td>\n",
       "      <td>26 - MANUTENCAO DE HIDROMETRO</td>\n",
       "      <td>12 - SUBSTITUICAO HID.</td>\n",
       "      <td>2020.0</td>\n",
       "    </tr>\n",
       "    <tr>\n",
       "      <th>716</th>\n",
       "      <td>953987467</td>\n",
       "      <td>2</td>\n",
       "      <td>26 - MANUTENCAO DE HIDROMETRO</td>\n",
       "      <td>12 - SUBSTITUICAO HID.</td>\n",
       "      <td>2020.0</td>\n",
       "    </tr>\n",
       "    <tr>\n",
       "      <th>717</th>\n",
       "      <td>953987468</td>\n",
       "      <td>2</td>\n",
       "      <td>26 - MANUTENCAO DE HIDROMETRO</td>\n",
       "      <td>12 - SUBSTITUICAO HID.</td>\n",
       "      <td>2020.0</td>\n",
       "    </tr>\n",
       "    <tr>\n",
       "      <th>721</th>\n",
       "      <td>954009408</td>\n",
       "      <td>1</td>\n",
       "      <td>26 - MANUTENCAO DE HIDROMETRO</td>\n",
       "      <td>12 - SUBSTITUICAO HID.</td>\n",
       "      <td>2020.0</td>\n",
       "    </tr>\n",
       "    <tr>\n",
       "      <th>727</th>\n",
       "      <td>953918698</td>\n",
       "      <td>1</td>\n",
       "      <td>26 - MANUTENCAO DE HIDROMETRO</td>\n",
       "      <td>12 - SUBSTITUICAO HID.</td>\n",
       "      <td>2020.0</td>\n",
       "    </tr>\n",
       "  </tbody>\n",
       "</table>\n",
       "<p>100 rows × 5 columns</p>\n",
       "</div>"
      ],
      "text/plain": [
       "            SS  OS                           Tipo  \\\n",
       "571  950327746   1  26 - MANUTENCAO DE HIDROMETRO   \n",
       "575  950331729   1  26 - MANUTENCAO DE HIDROMETRO   \n",
       "578  951743416   1  26 - MANUTENCAO DE HIDROMETRO   \n",
       "580  953725963   1  26 - MANUTENCAO DE HIDROMETRO   \n",
       "581  953725964   1  26 - MANUTENCAO DE HIDROMETRO   \n",
       "..         ...  ..                            ...   \n",
       "713  951957330   1  26 - MANUTENCAO DE HIDROMETRO   \n",
       "716  953987467   2  26 - MANUTENCAO DE HIDROMETRO   \n",
       "717  953987468   2  26 - MANUTENCAO DE HIDROMETRO   \n",
       "721  954009408   1  26 - MANUTENCAO DE HIDROMETRO   \n",
       "727  953918698   1  26 - MANUTENCAO DE HIDROMETRO   \n",
       "\n",
       "                         Serviço     Ano  \n",
       "571       12 - SUBSTITUICAO HID.  2020.0  \n",
       "575       12 - SUBSTITUICAO HID.  2020.0  \n",
       "578       12 - SUBSTITUICAO HID.  2020.0  \n",
       "580  766 - REV HIDROMETRO PARADO  2020.0  \n",
       "581  766 - REV HIDROMETRO PARADO  2020.0  \n",
       "..                           ...     ...  \n",
       "713       12 - SUBSTITUICAO HID.  2020.0  \n",
       "716       12 - SUBSTITUICAO HID.  2020.0  \n",
       "717       12 - SUBSTITUICAO HID.  2020.0  \n",
       "721       12 - SUBSTITUICAO HID.  2020.0  \n",
       "727       12 - SUBSTITUICAO HID.  2020.0  \n",
       "\n",
       "[100 rows x 5 columns]"
      ]
     },
     "metadata": {},
     "output_type": "display_data"
    },
    {
     "name": "stdout",
     "output_type": "stream",
     "text": [
      "Número de linhas:  100\n"
     ]
    }
   ],
   "source": [
    "#df = pd.read_sql('SELECT * FROM [Hds700]', executar_conexao_bd())\n",
    "df = pd.read_sql('SELECT * FROM Hds700', executar_conexao_bd())\n",
    "df = pd.DataFrame(df, columns = ['SS', 'OS','Tipo', 'Serviço','Ano'])\n",
    "#df = df.astype(str)\n",
    "\n",
    "# Filtra as linhas onde \"Tipo\" é igual a \"26 - MANUTENCAO DE HIDROMETRO\" e \"Serviço\" é igual a \"12 - SUBSTITUICAO HID.\" OU \"766 - REV HIDROMETRO PARADO\"\n",
    "df = df.loc[(df['Tipo'] == '26 - MANUTENCAO DE HIDROMETRO') & ((df['Serviço'] == '12 - SUBSTITUICAO HID.') | (df['Serviço'] == '766 - REV HIDROMETRO PARADO'))]\n",
    "\n",
    "# Seleciona apenas a coluna \"Serviço\"\n",
    "df_10 = df.head(100)\n",
    "\n",
    "display(df_10)\n",
    "n_linhas = len(df_10)\n",
    "print(\"Número de linhas: \", n_linhas)\n",
    "\n"
   ]
  },
  {
   "cell_type": "code",
   "execution_count": 195,
   "id": "c816402c",
   "metadata": {},
   "outputs": [
    {
     "name": "stdout",
     "output_type": "stream",
     "text": [
      "\n"
     ]
    },
    {
     "name": "stderr",
     "output_type": "stream",
     "text": [
      "[WDM] - ====== WebDriver manager ======\n",
      "[WDM] - Current google-chrome version is 111.0.5563\n",
      "[WDM] - Get LATEST chromedriver version for 111.0.5563 google-chrome\n",
      "[WDM] - Driver [C:\\Users\\55719\\.wdm\\drivers\\chromedriver\\win32\\111.0.5563.64\\chromedriver.exe] found in cache\n",
      "C:\\Users\\55719\\AppData\\Local\\Temp\\ipykernel_2136\\4068665143.py:4: DeprecationWarning: executable_path has been deprecated, please pass in a Service object\n",
      "  driver = webdriver.Chrome(ChromeDriverManager().install())\n"
     ]
    }
   ],
   "source": [
    "#Inicinado automação / abrindo navegador\n",
    "options = Options()\n",
    "options.add_argument(\"start-maximized\")\n",
    "driver = webdriver.Chrome(ChromeDriverManager().install())\n",
    "chrome_options = webdriver.ChromeOptions()"
   ]
  },
  {
   "cell_type": "code",
   "execution_count": 196,
   "id": "9aefd81c",
   "metadata": {},
   "outputs": [],
   "source": [
    "login = 't034183'\n",
    "senha = 'CNB@2022'\n",
    "driver.get(\"https://sciweb.embasanet.ba.gov.br/sci-web/\")\n",
    "time.sleep(2)\n",
    "\n",
    "# Procurar a tag random do site / Login e senha\n",
    "randomtag = driver.find_element(By.ID, \"random-tag\").get_attribute('value')\n",
    "driver.find_element(By.ID, \"loginForm-usuario-{randomtag}\".format(randomtag=randomtag)).send_keys(login)\n",
    "driver.find_element(By.ID, \"loginForm-senha-{randomtag}\".format(randomtag=randomtag)).send_keys(senha)\n",
    "driver.find_element(By.ID, \"loginForm-submit\").click()\n",
    "time.sleep(2)"
   ]
  },
  {
   "cell_type": "code",
   "execution_count": 197,
   "id": "7a52746e",
   "metadata": {},
   "outputs": [],
   "source": [
    "#tipo: insu, menu: GOSI_anchor - ACESSAR MENU DE INSUMOS\n",
    "def arvore_acesso(driver, tipo, menu ):\n",
    "    # Proc detalhe da Os no campo de buscar\n",
    "    driver.find_element(By.ID, \"arvoreSearch\").send_keys(tipo)\n",
    "    # aguardar ate o elemento aparecer e/ou seguir codigo\n",
    "    wait = WebDriverWait(driver, 5)\n",
    "    element1 = wait.until(EC.element_to_be_clickable((By.ID, menu)))\n",
    "    # acessar Campo detalhe da Os\n",
    "    driver.find_element(By.ID, menu).click()\n",
    "    time.sleep(2)\n",
    "    #acessar camada frame do site\n",
    "    driver.switch_to.frame(\"frame-content\")\n",
    "\n",
    "#ACESSAR MENU PAR EXTRAR INSUMADOS\n",
    "#arvore_acesso(driver, 'insum', 'GOSI_anchor')"
   ]
  },
  {
   "cell_type": "code",
   "execution_count": 198,
   "id": "19f077be",
   "metadata": {},
   "outputs": [],
   "source": [
    "#Consultar na label Material\n",
    "def preencher_ss(driver, lista, lista2):\n",
    "    driver.find_element(By.XPATH, '//*[@id=\"form-j_idt71-j_idt72-item\"]').clear()\n",
    "    driver.find_element(By.XPATH, '//*[@id=\"form-j_idt71-j_idt80-item\"]').clear()\n",
    "    \n",
    "    driver.find_element(By.XPATH, '//*[@id=\"form-j_idt71-j_idt72-item\"]').send_keys(lista)\n",
    "    time.sleep(0.5)\n",
    "    driver.find_element(By.XPATH, '//*[@id=\"form-j_idt71-j_idt80-item\"]').send_keys(lista2)\n",
    "    time.sleep(0.5)\n",
    "    # clinical em buscar\n",
    "    driver.find_element(By.XPATH, '//*[@id=\"form-j_idt71-panel\"]/input').click()\n",
    "    \n",
    "preencher_ss(driver, '953725963', '1')"
   ]
  },
  {
   "cell_type": "code",
   "execution_count": 199,
   "id": "34fb8f22",
   "metadata": {},
   "outputs": [],
   "source": [
    "um_meio = ['INTDIG01 - HIDROMETRO RES MONO 0,75M3/H 1/2\"S/C 45',           \n",
    "           'INTDIG01 - CONJ CONEXOES HIDROM 1/2 PP 1,5 M3/H',           \n",
    "           'INTDIG01 - REGISTRO PP 1/2\" ACIONAM RESTRITO PN10',\n",
    "          'INTDIG01 - LACRE TAMPA CX HIDROM AJUSTAVEL (AZUL)']\n",
    "\n",
    "de_tres = ['INTDIG01 - HIDROMETRO RES MULT 1,5M3/H 1/2\" S/C 45º',           \n",
    "           'INTDIG01 - CONJ CONEXOES HIDROM 1/2 PP 3 E 1,5 M3/H',           \n",
    "          'INTDIG01 - REGISTRO PP 1/2\" ACIONAM RESTRITO PN10',\n",
    "          'INTDIG01 - LACRE TAMPA CX HIDROM AJUSTAVEL (AZUL)']"
   ]
  },
  {
   "cell_type": "code",
   "execution_count": 173,
   "id": "7a16074b",
   "metadata": {},
   "outputs": [
    {
     "name": "stdout",
     "output_type": "stream",
     "text": [
      "HABITADA LIGADO HD A15S391566 LT 0319 FIZEMOS REVISAO NO HD ESTA NORMAL\n"
     ]
    }
   ],
   "source": [
    "campo = driver.find_element(By.XPATH, '//*[@id=\"form-j_idt135-j_idt147-item\"]')\n",
    "texto = campo.text\n",
    "print(texto)\n"
   ]
  },
  {
   "cell_type": "code",
   "execution_count": 200,
   "id": "0482e973",
   "metadata": {},
   "outputs": [],
   "source": [
    "def campo_material(driver, material1, material2, material3):\n",
    "    time.sleep(1)\n",
    "    campo = driver.find_element(By.XPATH, '//*[@id=\"form-j_idt135-j_idt147-item\"]')\n",
    "    texto = campo.text\n",
    "    \n",
    "    padrao_ay = r\"[AY][0-9]+\"\n",
    "    resultados = re.findall(padrao_ay, texto)\n",
    "    \n",
    "    try:\n",
    "        campo1 = driver.find_element(By.XPATH,'//*[@id=\"form-cpnlAssociarInsumo-tmpCodigoAutoComp-codAutoComp_input\"]')\n",
    "    except NoSuchElementException:\n",
    "        print(\"Erro na Unidade de medição\")\n",
    "        return\n",
    "    \n",
    "    try:\n",
    "        if any(resultado.startswith('Y') for resultado in resultados):\n",
    "            campo1.click()\n",
    "            time.sleep(1)\n",
    "            campo1.clear()\n",
    "            time.sleep(0.5)\n",
    "            campo1.send_keys(material1)\n",
    "            time.sleep(2)\n",
    "            campo1.send_keys(Keys.RETURN)\n",
    "            time.sleep(1)\n",
    "\n",
    "        elif any(resultado.startswith('A') for resultado in resultados):\n",
    "            campo1.click()\n",
    "            time.sleep(1)\n",
    "            campo1.clear()\n",
    "            time.sleep(0.5)\n",
    "            campo1.send_keys(material2)\n",
    "            time.sleep(2)\n",
    "            campo1.send_keys(Keys.RETURN)\n",
    "            time.sleep(1)\n",
    "\n",
    "        else:\n",
    "            campo1.click()\n",
    "            time.sleep(1)\n",
    "            campo1.clear()\n",
    "            time.sleep(0.5)\n",
    "            campo1.send_keys(material3)\n",
    "            time.sleep(2)\n",
    "            campo1.send_keys(Keys.RETURN)\n",
    "            time.sleep(1)\n",
    "    except NoSuchElementException:\n",
    "        print(\"Erro ao preencher campo de material\")\n"
   ]
  },
  {
   "cell_type": "code",
   "execution_count": 201,
   "id": "16d55f78",
   "metadata": {},
   "outputs": [],
   "source": [
    "campo_material(driver, um_meio, de_tres, um_meio)"
   ]
  },
  {
   "cell_type": "code",
   "execution_count": 138,
   "id": "88d0731f",
   "metadata": {},
   "outputs": [],
   "source": [
    "#Acessando e inserindo quantidade e medir\n",
    "def campo_quantidade(driver, qtd, medir):\n",
    "    campo2 = driver.find_element(By.XPATH, '//*[@id=\"form-cpnlAssociarInsumo-quantidade-item\"]')\n",
    "    campo2.click()\n",
    "    campo2.clear()\n",
    "    campo2.send_keys(qtd)\n",
    "    time.sleep(0.5)\n",
    "    #Acessando e inserindo Disp p medir S/N\n",
    "    select_element = driver.find_element(By.ID, 'form-cpnlAssociarInsumo-j_idt290-comboBooleanSN-item')\n",
    "    select = Select(select_element)\n",
    "    select.select_by_value(medir)\n",
    "    # select.select_by_visible_text('Não')\n",
    "    time.sleep(0.5)\n",
    "    #Confirar insumo\n",
    "    driver.find_element(By.XPATH,'//*[@id=\"form-cpnlAssociarInsumo-confirmar\"]').click()\n",
    "    \n",
    "#campo_quantidade(driver, '1', 'N')"
   ]
  },
  {
   "cell_type": "code",
   "execution_count": null,
   "id": "ac4acd6d",
   "metadata": {},
   "outputs": [],
   "source": [
    "for index, row in df.iterrows():    \n",
    "    ID = row.Material\n",
    "    SS = row.SS\n",
    "    MT = row.Mureta\n",
    "    HD = row.Hd\n",
    "    #comando_sql = (f\"UPDATE [Janeiro26/12-25/01] SET Material='{ID}', Mureta='{MT}', Hd='{HD}' WHERE SS={SS} \")\n",
    "    comando_sql = \"UPDATE [Insumar] SET Material='{}', Mureta='{}', Hd='{}' WHERE SS={}\".format(\n",
    "    ID.replace(\"'\", \"''\"), MT.replace(\"'\", \"''\"), HD.replace(\"'\", \"''\"), SS)  \n",
    "    cursor.execute(comando_sql)\n",
    "    \n",
    "cursor.commit()"
   ]
  },
  {
   "cell_type": "code",
   "execution_count": null,
   "id": "8a6a11cf",
   "metadata": {},
   "outputs": [],
   "source": [
    "def geral():\n",
    "    #Inicinado automação / abrindo navegador\n",
    "    options = Options()\n",
    "    options.add_argument(\"start-maximized\")\n",
    "    driver = webdriver.Chrome(ChromeDriverManager().install())\n",
    "    chrome_options = webdriver.ChromeOptions()\n",
    "    time.sleep(1)\n",
    "    \n",
    "    login = 't034183'\n",
    "    senha = 'CNB@2022'\n",
    "    driver.get(\"https://sciweb.embasanet.ba.gov.br/sci-web/\")\n",
    "    time.sleep(1)\n",
    "      \n",
    "\n",
    "    # Procurar a tag random do site / Login e senha\n",
    "    randomtag = driver.find_element(By.ID, \"random-tag\").get_attribute('value')\n",
    "    driver.find_element(By.ID, \"loginForm-usuario-{randomtag}\".format(randomtag=randomtag)).send_keys(login)\n",
    "    driver.find_element(By.ID, \"loginForm-senha-{randomtag}\".format(randomtag=randomtag)).send_keys(senha)\n",
    "    driver.find_element(By.ID, \"loginForm-submit\").click()\n",
    "    time.sleep(1)\n",
    "    \n",
    "    arvore_acesso(driver, 'insum', 'GOSI_anchor')\n",
    "    time.sleep(1)\n",
    "    \n",
    "    #itens = ['INTDIG01 - LUVA PVC JS 40MM', 'INTDIG01 - CAP PVC JS 25MM']\n",
    "\n",
    "    \n",
    "    for i, row in df.iterrows():\n",
    "        preencher_ss(driver, str(row['SS']), str(row['OS']))\n",
    "        time.sleep(1)\n",
    "        for item in itens:\n",
    "            campo_material(driver, item)            \n",
    "            time.sleep(1)\n",
    "            campo_quantidade(driver, '3', 'N')\n",
    "            time.sleep(1)\n",
    "            print(\"Materiais insumados com sucesso! :)\")\n",
    "   \n",
    "    "
   ]
  },
  {
   "cell_type": "code",
   "execution_count": 28,
   "id": "63c76525",
   "metadata": {},
   "outputs": [],
   "source": [
    "def esperar_sumir(driver):\n",
    "    wait = WebDriverWait(driver, 30)\n",
    "    element = wait.until(EC.invisibility_of_element_located((By.ID, \"j_idt24_modal\")))"
   ]
  },
  {
   "cell_type": "code",
   "execution_count": null,
   "id": "da436cc0",
   "metadata": {},
   "outputs": [],
   "source": [
    "geral()"
   ]
  },
  {
   "cell_type": "code",
   "execution_count": 202,
   "id": "a97d0767",
   "metadata": {},
   "outputs": [],
   "source": [
    "um_meio = ['INTDIG01 - HIDROMETRO RES MONO 0,75M3/H 1/2\"S/C 45',           \n",
    "           'INTDIG01 - CONJ CONEXOES HIDROM 1/2 PP 1,5 M3/H',           \n",
    "           'INTDIG01 - REGISTRO PP 1/2\" ACIONAM RESTRITO PN10',\n",
    "          'INTDIG01 - LACRE TAMPA CX HIDROM AJUSTAVEL (AZUL)']\n",
    "\n",
    "de_tres = ['INTDIG01 - HIDROMETRO RES MULT 1,5M3/H 1/2\" S/C 45º',           \n",
    "           'INTDIG01 - CONJ CONEXOES HIDROM 1/2 PP 3 E 1,5 M3/H',           \n",
    "          'INTDIG01 - REGISTRO PP 1/2\" ACIONAM RESTRITO PN10',\n",
    "          'INTDIG01 - LACRE TAMPA CX HIDROM AJUSTAVEL (AZUL)']\n",
    "\n",
    "\n",
    "def esperar_sumir(driver):\n",
    "    wait = WebDriverWait(driver, 30)\n",
    "    element = wait.until(EC.invisibility_of_element_located((By.ID, \"j_idt24_modal\")))\n",
    "\n",
    "def login(driver, user, senha):\n",
    "    \n",
    "    # Esperar pela tag random do site / Login e senha\n",
    "    randomtag = driver.find_element(By.ID, \"random-tag\").get_attribute('value')\n",
    "    driver.find_element(By.ID, \"loginForm-usuario-{randomtag}\".format(randomtag=randomtag)).send_keys(user)\n",
    "    driver.find_element(By.ID, \"loginForm-senha-{randomtag}\".format(randomtag=randomtag)).send_keys(senha)\n",
    "    driver.find_element(By.ID, \"loginForm-submit\").click()\n",
    "    time.sleep(0.5)\n",
    "\n",
    "def geral2():\n",
    "    #Iniciando automação / abrindo navegador\n",
    "    options = Options()\n",
    "    options.add_argument(\"start-maximized\")\n",
    "    driver = webdriver.Chrome(ChromeDriverManager().install())\n",
    "    chrome_options = webdriver.ChromeOptions()\n",
    "    time.sleep(0.5)\n",
    "    \n",
    "    user = 't034183'\n",
    "    senha = 'CNB@2022'\n",
    "    driver.get(\"https://sciweb.embasanet.ba.gov.br/sci-web/\")\n",
    "    time.sleep(0.5)\n",
    "    \n",
    "    # Esperar pela tag random do site / Login e senha\n",
    "    randomtag = driver.find_element(By.ID, \"random-tag\").get_attribute('value')\n",
    "    driver.find_element(By.ID, \"loginForm-usuario-{randomtag}\".format(randomtag=randomtag)).send_keys(user)\n",
    "    driver.find_element(By.ID, \"loginForm-senha-{randomtag}\".format(randomtag=randomtag)).send_keys(senha)\n",
    "    driver.find_element(By.ID, \"loginForm-submit\").click()\n",
    "    time.sleep(0.5)\n",
    "    \n",
    "    arvore_acesso(driver, 'insum', 'GOSI_anchor')\n",
    "    time.sleep(1)\n",
    "    \n",
    "    contador = 0\n",
    "\n",
    "    for i, row in df_10.iterrows():\n",
    "        preencher_ss(driver, str(row['SS']), str(row['OS']))\n",
    "        time.sleep(1)\n",
    "        for material1, material2, material1 in zip(um_meio, de_tres, um_meio):\n",
    "            campo_material(driver, material1, material2, material1)\n",
    "            time.sleep(0.5)\n",
    "            esperar_sumir(driver)\n",
    "            campo_quantidade(driver, 1, 'N')\n",
    "            time.sleep(0.5)\n",
    "            contador += 1\n",
    "\n",
    "    print(f\"{contador} Ss(s) insumada(s) com sucesso!\")\n",
    "\n"
   ]
  },
  {
   "cell_type": "code",
   "execution_count": 203,
   "id": "2ffe99a4",
   "metadata": {
    "collapsed": true
   },
   "outputs": [
    {
     "name": "stdout",
     "output_type": "stream",
     "text": [
      "\n"
     ]
    },
    {
     "name": "stderr",
     "output_type": "stream",
     "text": [
      "[WDM] - ====== WebDriver manager ======\n",
      "[WDM] - Current google-chrome version is 111.0.5563\n",
      "[WDM] - Get LATEST chromedriver version for 111.0.5563 google-chrome\n",
      "[WDM] - Driver [C:\\Users\\55719\\.wdm\\drivers\\chromedriver\\win32\\111.0.5563.64\\chromedriver.exe] found in cache\n",
      "C:\\Users\\55719\\AppData\\Local\\Temp\\ipykernel_2136\\3804491754.py:29: DeprecationWarning: executable_path has been deprecated, please pass in a Service object\n",
      "  driver = webdriver.Chrome(ChromeDriverManager().install())\n"
     ]
    },
    {
     "ename": "NoSuchWindowException",
     "evalue": "Message: no such window: target window already closed\nfrom unknown error: web view not found\n  (Session info: chrome=111.0.5563.66)\nStacktrace:\nBacktrace:\n\t(No symbol) [0x002FDCE3]\n\t(No symbol) [0x002939D1]\n\t(No symbol) [0x001A4DA8]\n\t(No symbol) [0x0018D0D3]\n\t(No symbol) [0x001EEA8B]\n\t(No symbol) [0x001FD093]\n\t(No symbol) [0x001EACC6]\n\t(No symbol) [0x001C6F68]\n\t(No symbol) [0x001C80CD]\n\tGetHandleVerifier [0x00573832+2506274]\n\tGetHandleVerifier [0x005A9794+2727300]\n\tGetHandleVerifier [0x005AE36C+2746716]\n\tGetHandleVerifier [0x003A6690+617600]\n\t(No symbol) [0x0029C712]\n\t(No symbol) [0x002A1FF8]\n\t(No symbol) [0x002A20DB]\n\t(No symbol) [0x002AC63B]\n\tBaseThreadInitThunk [0x759800F9+25]\n\tRtlGetAppContainerNamedObjectPath [0x77417BBE+286]\n\tRtlGetAppContainerNamedObjectPath [0x77417B8E+238]\n\t(No symbol) [0x00000000]\n",
     "output_type": "error",
     "traceback": [
      "\u001b[1;31m---------------------------------------------------------------------------\u001b[0m",
      "\u001b[1;31mNoSuchWindowException\u001b[0m                     Traceback (most recent call last)",
      "Input \u001b[1;32mIn [203]\u001b[0m, in \u001b[0;36m<cell line: 1>\u001b[1;34m()\u001b[0m\n\u001b[1;32m----> 1\u001b[0m \u001b[43mgeral2\u001b[49m\u001b[43m(\u001b[49m\u001b[43m)\u001b[49m\n",
      "Input \u001b[1;32mIn [202]\u001b[0m, in \u001b[0;36mgeral2\u001b[1;34m()\u001b[0m\n\u001b[0;32m     52\u001b[0m time\u001b[38;5;241m.\u001b[39msleep(\u001b[38;5;241m1\u001b[39m)\n\u001b[0;32m     53\u001b[0m \u001b[38;5;28;01mfor\u001b[39;00m material1, material2, material1 \u001b[38;5;129;01min\u001b[39;00m \u001b[38;5;28mzip\u001b[39m(um_meio, de_tres, um_meio):\n\u001b[1;32m---> 54\u001b[0m     \u001b[43mcampo_material\u001b[49m\u001b[43m(\u001b[49m\u001b[43mdriver\u001b[49m\u001b[43m,\u001b[49m\u001b[43m \u001b[49m\u001b[43mmaterial1\u001b[49m\u001b[43m,\u001b[49m\u001b[43m \u001b[49m\u001b[43mmaterial2\u001b[49m\u001b[43m,\u001b[49m\u001b[43m \u001b[49m\u001b[43mmaterial1\u001b[49m\u001b[43m)\u001b[49m\n\u001b[0;32m     55\u001b[0m     time\u001b[38;5;241m.\u001b[39msleep(\u001b[38;5;241m0.5\u001b[39m)\n\u001b[0;32m     56\u001b[0m     esperar_sumir(driver)\n",
      "Input \u001b[1;32mIn [200]\u001b[0m, in \u001b[0;36mcampo_material\u001b[1;34m(driver, material1, material2, material3)\u001b[0m\n\u001b[0;32m     17\u001b[0m campo1\u001b[38;5;241m.\u001b[39mclick()\n\u001b[0;32m     18\u001b[0m time\u001b[38;5;241m.\u001b[39msleep(\u001b[38;5;241m1\u001b[39m)\n\u001b[1;32m---> 19\u001b[0m \u001b[43mcampo1\u001b[49m\u001b[38;5;241;43m.\u001b[39;49m\u001b[43mclear\u001b[49m\u001b[43m(\u001b[49m\u001b[43m)\u001b[49m\n\u001b[0;32m     20\u001b[0m time\u001b[38;5;241m.\u001b[39msleep(\u001b[38;5;241m0.5\u001b[39m)\n\u001b[0;32m     21\u001b[0m campo1\u001b[38;5;241m.\u001b[39msend_keys(material1)\n",
      "File \u001b[1;32m~\\anaconda3\\lib\\site-packages\\selenium\\webdriver\\remote\\webelement.py:110\u001b[0m, in \u001b[0;36mWebElement.clear\u001b[1;34m(self)\u001b[0m\n\u001b[0;32m    108\u001b[0m \u001b[38;5;28;01mdef\u001b[39;00m \u001b[38;5;21mclear\u001b[39m(\u001b[38;5;28mself\u001b[39m) \u001b[38;5;241m-\u001b[39m\u001b[38;5;241m>\u001b[39m \u001b[38;5;28;01mNone\u001b[39;00m:\n\u001b[0;32m    109\u001b[0m     \u001b[38;5;124;03m\"\"\"Clears the text if it's a text entry element.\"\"\"\u001b[39;00m\n\u001b[1;32m--> 110\u001b[0m     \u001b[38;5;28;43mself\u001b[39;49m\u001b[38;5;241;43m.\u001b[39;49m\u001b[43m_execute\u001b[49m\u001b[43m(\u001b[49m\u001b[43mCommand\u001b[49m\u001b[38;5;241;43m.\u001b[39;49m\u001b[43mCLEAR_ELEMENT\u001b[49m\u001b[43m)\u001b[49m\n",
      "File \u001b[1;32m~\\anaconda3\\lib\\site-packages\\selenium\\webdriver\\remote\\webelement.py:773\u001b[0m, in \u001b[0;36mWebElement._execute\u001b[1;34m(self, command, params)\u001b[0m\n\u001b[0;32m    771\u001b[0m     params \u001b[38;5;241m=\u001b[39m {}\n\u001b[0;32m    772\u001b[0m params[\u001b[38;5;124m'\u001b[39m\u001b[38;5;124mid\u001b[39m\u001b[38;5;124m'\u001b[39m] \u001b[38;5;241m=\u001b[39m \u001b[38;5;28mself\u001b[39m\u001b[38;5;241m.\u001b[39m_id\n\u001b[1;32m--> 773\u001b[0m \u001b[38;5;28;01mreturn\u001b[39;00m \u001b[38;5;28;43mself\u001b[39;49m\u001b[38;5;241;43m.\u001b[39;49m\u001b[43m_parent\u001b[49m\u001b[38;5;241;43m.\u001b[39;49m\u001b[43mexecute\u001b[49m\u001b[43m(\u001b[49m\u001b[43mcommand\u001b[49m\u001b[43m,\u001b[49m\u001b[43m \u001b[49m\u001b[43mparams\u001b[49m\u001b[43m)\u001b[49m\n",
      "File \u001b[1;32m~\\anaconda3\\lib\\site-packages\\selenium\\webdriver\\remote\\webdriver.py:430\u001b[0m, in \u001b[0;36mWebDriver.execute\u001b[1;34m(self, driver_command, params)\u001b[0m\n\u001b[0;32m    428\u001b[0m response \u001b[38;5;241m=\u001b[39m \u001b[38;5;28mself\u001b[39m\u001b[38;5;241m.\u001b[39mcommand_executor\u001b[38;5;241m.\u001b[39mexecute(driver_command, params)\n\u001b[0;32m    429\u001b[0m \u001b[38;5;28;01mif\u001b[39;00m response:\n\u001b[1;32m--> 430\u001b[0m     \u001b[38;5;28;43mself\u001b[39;49m\u001b[38;5;241;43m.\u001b[39;49m\u001b[43merror_handler\u001b[49m\u001b[38;5;241;43m.\u001b[39;49m\u001b[43mcheck_response\u001b[49m\u001b[43m(\u001b[49m\u001b[43mresponse\u001b[49m\u001b[43m)\u001b[49m\n\u001b[0;32m    431\u001b[0m     response[\u001b[38;5;124m'\u001b[39m\u001b[38;5;124mvalue\u001b[39m\u001b[38;5;124m'\u001b[39m] \u001b[38;5;241m=\u001b[39m \u001b[38;5;28mself\u001b[39m\u001b[38;5;241m.\u001b[39m_unwrap_value(\n\u001b[0;32m    432\u001b[0m         response\u001b[38;5;241m.\u001b[39mget(\u001b[38;5;124m'\u001b[39m\u001b[38;5;124mvalue\u001b[39m\u001b[38;5;124m'\u001b[39m, \u001b[38;5;28;01mNone\u001b[39;00m))\n\u001b[0;32m    433\u001b[0m     \u001b[38;5;28;01mreturn\u001b[39;00m response\n",
      "File \u001b[1;32m~\\anaconda3\\lib\\site-packages\\selenium\\webdriver\\remote\\errorhandler.py:247\u001b[0m, in \u001b[0;36mErrorHandler.check_response\u001b[1;34m(self, response)\u001b[0m\n\u001b[0;32m    245\u001b[0m         alert_text \u001b[38;5;241m=\u001b[39m value[\u001b[38;5;124m'\u001b[39m\u001b[38;5;124malert\u001b[39m\u001b[38;5;124m'\u001b[39m]\u001b[38;5;241m.\u001b[39mget(\u001b[38;5;124m'\u001b[39m\u001b[38;5;124mtext\u001b[39m\u001b[38;5;124m'\u001b[39m)\n\u001b[0;32m    246\u001b[0m     \u001b[38;5;28;01mraise\u001b[39;00m exception_class(message, screen, stacktrace, alert_text)  \u001b[38;5;66;03m# type: ignore[call-arg]  # mypy is not smart enough here\u001b[39;00m\n\u001b[1;32m--> 247\u001b[0m \u001b[38;5;28;01mraise\u001b[39;00m exception_class(message, screen, stacktrace)\n",
      "\u001b[1;31mNoSuchWindowException\u001b[0m: Message: no such window: target window already closed\nfrom unknown error: web view not found\n  (Session info: chrome=111.0.5563.66)\nStacktrace:\nBacktrace:\n\t(No symbol) [0x002FDCE3]\n\t(No symbol) [0x002939D1]\n\t(No symbol) [0x001A4DA8]\n\t(No symbol) [0x0018D0D3]\n\t(No symbol) [0x001EEA8B]\n\t(No symbol) [0x001FD093]\n\t(No symbol) [0x001EACC6]\n\t(No symbol) [0x001C6F68]\n\t(No symbol) [0x001C80CD]\n\tGetHandleVerifier [0x00573832+2506274]\n\tGetHandleVerifier [0x005A9794+2727300]\n\tGetHandleVerifier [0x005AE36C+2746716]\n\tGetHandleVerifier [0x003A6690+617600]\n\t(No symbol) [0x0029C712]\n\t(No symbol) [0x002A1FF8]\n\t(No symbol) [0x002A20DB]\n\t(No symbol) [0x002AC63B]\n\tBaseThreadInitThunk [0x759800F9+25]\n\tRtlGetAppContainerNamedObjectPath [0x77417BBE+286]\n\tRtlGetAppContainerNamedObjectPath [0x77417B8E+238]\n\t(No symbol) [0x00000000]\n"
     ]
    }
   ],
   "source": [
    "geral2()"
   ]
  }
 ],
 "metadata": {
  "kernelspec": {
   "display_name": "Python 3 (ipykernel)",
   "language": "python",
   "name": "python3"
  },
  "language_info": {
   "codemirror_mode": {
    "name": "ipython",
    "version": 3
   },
   "file_extension": ".py",
   "mimetype": "text/x-python",
   "name": "python",
   "nbconvert_exporter": "python",
   "pygments_lexer": "ipython3",
   "version": "3.9.12"
  }
 },
 "nbformat": 4,
 "nbformat_minor": 5
}
