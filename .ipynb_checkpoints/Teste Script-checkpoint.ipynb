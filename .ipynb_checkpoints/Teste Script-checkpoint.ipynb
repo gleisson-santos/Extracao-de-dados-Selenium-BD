{
 "cells": [
  {
   "cell_type": "code",
   "execution_count": 95,
   "id": "76842975",
   "metadata": {},
   "outputs": [],
   "source": [
    "#Iniciando modulos\n",
    "from selenium import webdriver\n",
    "from selenium.webdriver.common.by import By\n",
    "from selenium.webdriver.support.ui import WebDriverWait\n",
    "from selenium.webdriver.support import expected_conditions as EC\n",
    "from selenium.common.exceptions import NoSuchElementException\n",
    "from selenium.webdriver.chrome.options import Options\n",
    "from webdriver_manager.chrome import ChromeDriverManager\n",
    "from selenium.webdriver.support.select import Select\n",
    "import pandas as pd\n",
    "import pyodbc\n",
    "import time\n"
   ]
  },
  {
   "cell_type": "code",
   "execution_count": null,
   "id": "7dcde9b7",
   "metadata": {},
   "outputs": [],
   "source": [
    "#Acesso ao banco de dados\n",
    "def executar_conexao_bd():\n",
    "    server = 'TBDBL-GLEISSON'\n",
    "    database = 'Dados_Pavimento'\n",
    "    username = 'gleisson.santos'\n",
    "    password = '12345'\n",
    "    conexao = pyodbc.connect(\n",
    "        'DRIVER={SQL Server};SERVER=' + server + ';DATABASE=' + database + ';UID=' + username + ';PWD=' + password)\n",
    "    print('Executado a conexão com o BD......')\n",
    "    return conexao\n",
    "\n",
    "cursor = executar_conexao_bd()\n",
    "cursor"
   ]
  },
  {
   "cell_type": "code",
   "execution_count": 96,
   "id": "e589583f",
   "metadata": {},
   "outputs": [
    {
     "name": "stdout",
     "output_type": "stream",
     "text": [
      "\n"
     ]
    },
    {
     "name": "stderr",
     "output_type": "stream",
     "text": [
      "[WDM] - ====== WebDriver manager ======\n",
      "[WDM] - Current google-chrome version is 111.0.5563\n",
      "[WDM] - Get LATEST chromedriver version for 111.0.5563 google-chrome\n",
      "[WDM] - Driver [C:\\Users\\55719\\.wdm\\drivers\\chromedriver\\win32\\111.0.5563.64\\chromedriver.exe] found in cache\n",
      "C:\\Users\\55719\\AppData\\Local\\Temp\\ipykernel_14904\\4068665143.py:4: DeprecationWarning: executable_path has been deprecated, please pass in a Service object\n",
      "  driver = webdriver.Chrome(ChromeDriverManager().install())\n"
     ]
    }
   ],
   "source": [
    "#Inicinado automação / abrindo navegador\n",
    "options = Options()\n",
    "options.add_argument(\"start-maximized\")\n",
    "driver = webdriver.Chrome(ChromeDriverManager().install())\n",
    "chrome_options = webdriver.ChromeOptions()"
   ]
  },
  {
   "cell_type": "code",
   "execution_count": 97,
   "id": "0356a8bd",
   "metadata": {},
   "outputs": [],
   "source": [
    "login = 't034183'\n",
    "senha = 'CNB@2022'\n",
    "driver.get(\"https://sciweb.embasanet.ba.gov.br/sci-web/\")\n",
    "time.sleep(2)\n",
    "\n",
    "# Procurar a tag random do site / Login e senha\n",
    "randomtag = driver.find_element(By.ID, \"random-tag\").get_attribute('value')\n",
    "driver.find_element(By.ID, \"loginForm-usuario-{randomtag}\".format(randomtag=randomtag)).send_keys(login)\n",
    "driver.find_element(By.ID, \"loginForm-senha-{randomtag}\".format(randomtag=randomtag)).send_keys(senha)\n",
    "driver.find_element(By.ID, \"loginForm-submit\").click()\n",
    "time.sleep(2)"
   ]
  },
  {
   "cell_type": "code",
   "execution_count": 98,
   "id": "7be98ce5",
   "metadata": {},
   "outputs": [],
   "source": [
    "#tipo: insu, menu: GOSI_anchor - ACESSAR MENU DE INSUMOS\n",
    "def arvore_acesso(driver, tipo, menu ):\n",
    "    # Proc detalhe da Os no campo de buscar\n",
    "    driver.find_element(By.ID, \"arvoreSearch\").send_keys(tipo)\n",
    "    # aguardar ate o elemento aparecer e/ou seguir codigo\n",
    "    wait = WebDriverWait(driver, 5)\n",
    "    element1 = wait.until(EC.element_to_be_clickable((By.ID, menu)))\n",
    "    # acessar Campo detalhe da Os\n",
    "    driver.find_element(By.ID, menu).click()\n",
    "    time.sleep(3)\n",
    "    #acessar camada frame do site\n",
    "    driver.switch_to.frame(\"frame-content\")\n",
    "\n",
    "#ACESSAR MENU PAR EXTRAR INSUMADOS\n",
    "arvore_acesso(driver, 'insum', 'GOSI_anchor')"
   ]
  },
  {
   "cell_type": "code",
   "execution_count": 115,
   "id": "ee6a340e",
   "metadata": {},
   "outputs": [],
   "source": [
    "#Consultar na label Material\n",
    "def preencher_ss(driver, lista, lista2):\n",
    "    driver.find_element(By.XPATH, '//*[@id=\"form-j_idt71-j_idt72-item\"]').clear()\n",
    "    driver.find_element(By.XPATH, '//*[@id=\"form-j_idt71-j_idt80-item\"]').clear()\n",
    "    \n",
    "    driver.find_element(By.XPATH, '//*[@id=\"form-j_idt71-j_idt72-item\"]').send_keys(lista)\n",
    "    time.sleep(0.5)\n",
    "    driver.find_element(By.XPATH, '//*[@id=\"form-j_idt71-j_idt80-item\"]').send_keys(lista2)\n",
    "    time.sleep(0.5)\n",
    "    # clinical em buscar\n",
    "    driver.find_element(By.XPATH, '//*[@id=\"form-j_idt71-panel\"]/input').click()\n",
    "    #coletar valor solicitado\n",
    "    \n",
    "preencher_ss(driver,lista,lista2)\n"
   ]
  },
  {
   "cell_type": "code",
   "execution_count": 120,
   "id": "8e45dbf3",
   "metadata": {},
   "outputs": [],
   "source": [
    "#Acessando pesquisa de item\n",
    "driver.find_element(By.XPATH,'//span[@id=\"form-cpnlAssociarInsumo-tmpCodigoAutoComp-codAutoComp\"]').click()\n",
    "campo = driver.find_element(By.XPATH,'//*[@id=\"form-cpnlAssociarInsumo-tmpCodigoAutoComp-codAutoComp_input\"]')\n",
    "\n",
    "itens = ['INTDIG01 - LUVA PVC JS 40MM', 'INTDIG01 - JOELHO 90 PVC C/ANEL 100MM ESG PRED']\n",
    "\n",
    "for item in itens:\n",
    "    campo.clear() # Limpa o campo\n",
    "    time.sleep(2)\n",
    "    campo.send_keys(item) # Insere o novo texto\n",
    "    time.sleep(2)\n",
    "    # Faz alguma ação com o item, como clicar em um botão de pesquisa\n"
   ]
  },
  {
   "cell_type": "code",
   "execution_count": 121,
   "id": "2b469eea",
   "metadata": {},
   "outputs": [],
   "source": [
    "campo2 = driver.find_element(By.XPATH, '//*[@id=\"form-cpnlAssociarInsumo-quantidade-item\"]')\n",
    "campo2.click()\n",
    "campo2.clear()\n",
    "campo2.send_keys('1')"
   ]
  },
  {
   "cell_type": "code",
   "execution_count": 123,
   "id": "3939de9a",
   "metadata": {},
   "outputs": [],
   "source": [
    "select_element = driver.find_element(By.ID, 'form-cpnlAssociarInsumo-j_idt290-comboBooleanSN-item')\n",
    "select = Select(select_element)\n",
    "select.select_by_value('N')\n",
    "# ou\n",
    "# select.select_by_visible_text('Não')"
   ]
  },
  {
   "cell_type": "code",
   "execution_count": null,
   "id": "dd25aca2",
   "metadata": {},
   "outputs": [],
   "source": [
    "time.sleep(0.5)\n",
    "driver.find_element(By.XPATH,'//*[@id=\"form-cpnlAssociarInsumo-confirmar\"]').click()"
   ]
  },
  {
   "cell_type": "code",
   "execution_count": 129,
   "id": "fdc48341",
   "metadata": {},
   "outputs": [
    {
     "ename": "TypeError",
     "evalue": "preencher_ss() takes 3 positional arguments but 4 were given",
     "output_type": "error",
     "traceback": [
      "\u001b[1;31m---------------------------------------------------------------------------\u001b[0m",
      "\u001b[1;31mTypeError\u001b[0m                                 Traceback (most recent call last)",
      "Input \u001b[1;32mIn [129]\u001b[0m, in \u001b[0;36m<cell line: 36>\u001b[1;34m()\u001b[0m\n\u001b[0;32m     33\u001b[0m lista \u001b[38;5;241m=\u001b[39m [\u001b[38;5;124m'\u001b[39m\u001b[38;5;124m977731323\u001b[39m\u001b[38;5;124m'\u001b[39m, \u001b[38;5;124m'\u001b[39m\u001b[38;5;124m977622740\u001b[39m\u001b[38;5;124m'\u001b[39m,\u001b[38;5;124m'\u001b[39m\u001b[38;5;124m977843132\u001b[39m\u001b[38;5;124m'\u001b[39m]\n\u001b[0;32m     34\u001b[0m lista2 \u001b[38;5;241m=\u001b[39m [\u001b[38;5;124m'\u001b[39m\u001b[38;5;124m2\u001b[39m\u001b[38;5;124m'\u001b[39m,\u001b[38;5;124m'\u001b[39m\u001b[38;5;124m1\u001b[39m\u001b[38;5;124m'\u001b[39m,\u001b[38;5;124m'\u001b[39m\u001b[38;5;124m1\u001b[39m\u001b[38;5;124m'\u001b[39m]\n\u001b[1;32m---> 36\u001b[0m \u001b[43mpreencher_itens\u001b[49m\u001b[43m(\u001b[49m\u001b[43mdriver\u001b[49m\u001b[43m,\u001b[49m\u001b[43m \u001b[49m\u001b[43mitens\u001b[49m\u001b[43m,\u001b[49m\u001b[43m \u001b[49m\u001b[43mlista\u001b[49m\u001b[43m,\u001b[49m\u001b[43m \u001b[49m\u001b[43mlista2\u001b[49m\u001b[43m)\u001b[49m\n",
      "Input \u001b[1;32mIn [129]\u001b[0m, in \u001b[0;36mpreencher_itens\u001b[1;34m(driver, itens, lista, lista2)\u001b[0m\n\u001b[0;32m     26\u001b[0m campo\u001b[38;5;241m.\u001b[39msend_keys(item) \u001b[38;5;66;03m# Insere o novo texto\u001b[39;00m\n\u001b[0;32m     27\u001b[0m time\u001b[38;5;241m.\u001b[39msleep(\u001b[38;5;241m2\u001b[39m)\n\u001b[1;32m---> 29\u001b[0m \u001b[43mpreencher_ss\u001b[49m\u001b[43m(\u001b[49m\u001b[43mdriver\u001b[49m\u001b[43m,\u001b[49m\u001b[43m \u001b[49m\u001b[43mitem\u001b[49m\u001b[43m,\u001b[49m\u001b[43m \u001b[49m\u001b[43mvalor1\u001b[49m\u001b[43m,\u001b[49m\u001b[43m \u001b[49m\u001b[43mvalor2\u001b[49m\u001b[43m)\u001b[49m\n",
      "\u001b[1;31mTypeError\u001b[0m: preencher_ss() takes 3 positional arguments but 4 were given"
     ]
    }
   ],
   "source": [
    "def preencher_ss(driver, item, valor1, valor2):\n",
    "    driver.find_element(By.XPATH, '//*[@id=\"form-j_idt71-j_idt72-item\"]'\n",
    "    ).clear()\n",
    "    driver.find_element(By.XPATH, '//*[@id=\"form-j_idt71-j_idt80-item\"]'\n",
    "    ).clear()\n",
    "    driver.find_element(By.XPATH, '//*[@id=\"form-j_idt71-j_idt72-item\"]'\n",
    "    ).send_keys(item)\n",
    "    time.sleep(0.5)\n",
    "    driver.find_element(By.XPATH, '//*[@id=\"form-j_idt71-j_idt80-item\"]'\n",
    "    ).send_keys(valor1)\n",
    "    time.sleep(0.5)\n",
    "    driver.find_element(By.XPATH, '//*[@id=\"form-j_idt71-j_idt82-item\"]'\n",
    "    ).send_keys(valor2)\n",
    "    time.sleep(0.5)\n",
    "    driver.find_element(By.XPATH, '//*[@id=\"form-j_idt71-panel\"]/input'\n",
    "    ).click()\n",
    "\n",
    "\n",
    "def preencher_itens(driver, itens, lista, lista2):\n",
    "    # Acessando pesquisa de item\n",
    "    campo = driver.find_element(By.XPATH,'//*[@id=\"form-cpnlAssociarInsumo-tmpCodigoAutoComp-codAutoComp_input\"]')\n",
    "    \n",
    "    for valor1, valor2 in zip(lista, lista2):\n",
    "        for item in itens:\n",
    "            campo.clear() # Limpa o campo\n",
    "            time.sleep(2)\n",
    "            campo.send_keys(item) # Insere o novo texto\n",
    "            time.sleep(2)\n",
    "            \n",
    "            preencher_ss(driver, item, valor1, valor2)\n",
    "\n",
    "\n",
    "# Exemplo de uso\n",
    "itens = ['INTDIG01 - LUVA PVC JS 40MM', 'INTDIG01 - JOELHO 90 PVC C/ANEL 100MM ESG PRED']\n",
    "lista = ['977731323', '977622740','977843132']\n",
    "lista2 = ['2','1','1']\n",
    "\n",
    "preencher_itens(driver, itens, lista, lista2)\n"
   ]
  },
  {
   "cell_type": "code",
   "execution_count": null,
   "id": "236bb3bc",
   "metadata": {},
   "outputs": [],
   "source": [
    "    try:\n",
    "        material = driver.find_element(By.CSS_SELECTOR, \"label[title='Material Utilizado'] \").text\n",
    "    except NoSuchElementException:\n",
    "        material = 'None'\n",
    "    \n",
    "    try:\n",
    "        hd = driver.find_element(By.CSS_SELECTOR, \"label[title='Número do HD'] \").text\n",
    "    except NoSuchElementException:\n",
    "        try:\n",
    "            hd = driver.find_element(By.CSS_SELECTOR, \"label[title='Número do HD Instalado'] \").text\n",
    "        except NoSuchElementException:\n",
    "            try:\n",
    "                hd = driver.find_element(By.CSS_SELECTOR, \"label[title='Número do Hidrômetro Instalado'] \").text\n",
    "            except NoSuchElementException:\n",
    "                try:\n",
    "                    hd = driver.find_element(By.CSS_SELECTOR, \"label[title='Número do Hidrômetro'] \").text\n",
    "                except NoSuchElementException:\n",
    "                    try:\n",
    "                        hd = driver.find_element(By.CSS_SELECTOR, \"label[title='Hidrômetro Instalado'] \").text\n",
    "                    except NoSuchElementException:\n",
    "                        hd = None\n",
    "\n",
    "    return material, hd"
   ]
  },
  {
   "cell_type": "code",
   "execution_count": null,
   "id": "bfd4df3d",
   "metadata": {},
   "outputs": [],
   "source": [
    "df = pd.read_sql('SELECT * FROM [- 700Com_material]', executar_conexao_bd())\n",
    "df = pd.DataFrame(df, columns = ['SS', 'OS', 'Material', 'Mureta','Hd'])\n",
    "#df = df.astype(str)\n",
    "\n",
    "display(df)"
   ]
  },
  {
   "cell_type": "code",
   "execution_count": null,
   "id": "cf445098",
   "metadata": {},
   "outputs": [],
   "source": [
    "#Extrair valores e criar coluna Material insumado\n",
    "dados = []\n",
    "hds = []\n",
    "for i, row in df.iterrows():\n",
    "    a = preencher_ss(driver, row['SS'], row['OS'])\n",
    "    time.sleep(0.3)\n",
    "    dados.append(a[0])\n",
    "    hds.append(a[1])\n",
    "df['Material'] = dados\n",
    "df['Hd'] = hds\n"
   ]
  },
  {
   "cell_type": "code",
   "execution_count": null,
   "id": "05bc011d",
   "metadata": {},
   "outputs": [],
   "source": [
    "#Acessar tabela do BD e extrair apenas item do texto\n",
    "m_encontrado = ['Mureta', 'mureta']\n",
    "\n",
    "material = []\n",
    "\n",
    "for i, row in df.iterrows():\n",
    "    if any(x in row['Material'] for x in m_encontrado):\n",
    "        material.append('Sim')\n",
    "    else:\n",
    "        material.append('Não')     \n",
    "df['Mureta'] = material\n",
    "\n",
    "\n",
    "df = df.astype(str)\n",
    "df = pd.DataFrame(df, columns = ['SS', 'OS', 'Material', 'Mureta','Hd'])\n",
    "#display(df)\n",
    "mureta_df = df[df[\"Material\"].str.contains(\"Mureta|mureta\")]\n",
    "display(mureta_df)"
   ]
  },
  {
   "cell_type": "code",
   "execution_count": null,
   "id": "cfce1980",
   "metadata": {},
   "outputs": [],
   "source": [
    "for index, row in df.iterrows():    \n",
    "    ID = row.Material\n",
    "    SS = row.SS\n",
    "    MT = row.Mureta\n",
    "    HD = row.Hd\n",
    "    #comando_sql = (f\"UPDATE [Janeiro26/12-25/01] SET Material='{ID}', Mureta='{MT}', Hd='{HD}' WHERE SS={SS} \")\n",
    "    comando_sql = \"UPDATE [Insumar] SET Material='{}', Mureta='{}', Hd='{}' WHERE SS={}\".format(\n",
    "    ID.replace(\"'\", \"''\"), MT.replace(\"'\", \"''\"), HD.replace(\"'\", \"''\"), SS)  \n",
    "    cursor.execute(comando_sql)\n",
    "    \n",
    "cursor.commit()"
   ]
  },
  {
   "cell_type": "code",
   "execution_count": null,
   "id": "60182043",
   "metadata": {},
   "outputs": [],
   "source": []
  }
 ],
 "metadata": {
  "kernelspec": {
   "display_name": "Python 3 (ipykernel)",
   "language": "python",
   "name": "python3"
  },
  "language_info": {
   "codemirror_mode": {
    "name": "ipython",
    "version": 3
   },
   "file_extension": ".py",
   "mimetype": "text/x-python",
   "name": "python",
   "nbconvert_exporter": "python",
   "pygments_lexer": "ipython3",
   "version": "3.9.12"
  }
 },
 "nbformat": 4,
 "nbformat_minor": 5
}
