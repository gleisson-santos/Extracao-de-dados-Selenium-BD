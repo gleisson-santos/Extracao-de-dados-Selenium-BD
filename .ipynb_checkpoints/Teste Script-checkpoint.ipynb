{
 "cells": [
  {
   "cell_type": "code",
   "execution_count": 1,
   "id": "d7f43394",
   "metadata": {},
   "outputs": [],
   "source": [
    "#Iniciando modulos\n",
    "from selenium import webdriver\n",
    "from selenium.webdriver.common.keys import Keys\n",
    "from selenium.webdriver.common.by import By\n",
    "from selenium.webdriver.support.ui import WebDriverWait\n",
    "from selenium.webdriver.support import expected_conditions as EC\n",
    "from selenium.common.exceptions import NoSuchElementException\n",
    "from selenium.webdriver.chrome.options import Options\n",
    "from webdriver_manager.chrome import ChromeDriverManager\n",
    "from selenium.webdriver.support.select import Select\n",
    "import pandas as pd\n",
    "import pyodbc\n",
    "import time\n"
   ]
  },
  {
   "cell_type": "code",
   "execution_count": 2,
   "id": "36081375",
   "metadata": {},
   "outputs": [
    {
     "name": "stdout",
     "output_type": "stream",
     "text": [
      "Executado a conexão com o BD......\n"
     ]
    },
    {
     "data": {
      "text/plain": [
       "<pyodbc.Connection at 0x1f744492e00>"
      ]
     },
     "execution_count": 2,
     "metadata": {},
     "output_type": "execute_result"
    }
   ],
   "source": [
    "#Acesso ao banco de dados\n",
    "def executar_conexao_bd():\n",
    "    server = 'DESKTOP-0P0H9IO'\n",
    "    database = 'Dados_Pavimento'\n",
    "    #username = 'gleisson.santos'\n",
    "    #password = '12345'\n",
    "    conexao = pyodbc.connect(\n",
    "        'DRIVER={SQL Server};SERVER=' + server + ';DATABASE=' + database)\n",
    "        #'DRIVER={SQL Server};SERVER=' + server + ';DATABASE=' + database + ';UID=' + username + ';PWD=' + password)\n",
    "    print('Executado a conexão com o BD......')\n",
    "    return conexao\n",
    "\n",
    "cursor = executar_conexao_bd()\n",
    "cursor"
   ]
  },
  {
   "cell_type": "code",
   "execution_count": 3,
   "id": "9b83c855",
   "metadata": {},
   "outputs": [
    {
     "name": "stdout",
     "output_type": "stream",
     "text": [
      "Executado a conexão com o BD......\n"
     ]
    },
    {
     "name": "stderr",
     "output_type": "stream",
     "text": [
      "C:\\Users\\55719\\anaconda3\\lib\\site-packages\\pandas\\io\\sql.py:761: UserWarning: pandas only support SQLAlchemy connectable(engine/connection) ordatabase string URI or sqlite3 DBAPI2 connectionother DBAPI2 objects are not tested, please consider using SQLAlchemy\n",
      "  warnings.warn(\n"
     ]
    },
    {
     "data": {
      "text/html": [
       "<div>\n",
       "<style scoped>\n",
       "    .dataframe tbody tr th:only-of-type {\n",
       "        vertical-align: middle;\n",
       "    }\n",
       "\n",
       "    .dataframe tbody tr th {\n",
       "        vertical-align: top;\n",
       "    }\n",
       "\n",
       "    .dataframe thead th {\n",
       "        text-align: right;\n",
       "    }\n",
       "</style>\n",
       "<table border=\"1\" class=\"dataframe\">\n",
       "  <thead>\n",
       "    <tr style=\"text-align: right;\">\n",
       "      <th></th>\n",
       "      <th>SS</th>\n",
       "      <th>OS</th>\n",
       "    </tr>\n",
       "  </thead>\n",
       "  <tbody>\n",
       "    <tr>\n",
       "      <th>0</th>\n",
       "      <td>981026632</td>\n",
       "      <td>2</td>\n",
       "    </tr>\n",
       "    <tr>\n",
       "      <th>1</th>\n",
       "      <td>980844835</td>\n",
       "      <td>2</td>\n",
       "    </tr>\n",
       "    <tr>\n",
       "      <th>2</th>\n",
       "      <td>981060895</td>\n",
       "      <td>2</td>\n",
       "    </tr>\n",
       "    <tr>\n",
       "      <th>3</th>\n",
       "      <td>980947055</td>\n",
       "      <td>2</td>\n",
       "    </tr>\n",
       "    <tr>\n",
       "      <th>4</th>\n",
       "      <td>980947556</td>\n",
       "      <td>2</td>\n",
       "    </tr>\n",
       "    <tr>\n",
       "      <th>5</th>\n",
       "      <td>981193404</td>\n",
       "      <td>2</td>\n",
       "    </tr>\n",
       "    <tr>\n",
       "      <th>6</th>\n",
       "      <td>981646791</td>\n",
       "      <td>2</td>\n",
       "    </tr>\n",
       "    <tr>\n",
       "      <th>7</th>\n",
       "      <td>981479215</td>\n",
       "      <td>2</td>\n",
       "    </tr>\n",
       "    <tr>\n",
       "      <th>8</th>\n",
       "      <td>981452768</td>\n",
       "      <td>2</td>\n",
       "    </tr>\n",
       "    <tr>\n",
       "      <th>9</th>\n",
       "      <td>981100043</td>\n",
       "      <td>2</td>\n",
       "    </tr>\n",
       "  </tbody>\n",
       "</table>\n",
       "</div>"
      ],
      "text/plain": [
       "          SS  OS\n",
       "0  981026632   2\n",
       "1  980844835   2\n",
       "2  981060895   2\n",
       "3  980947055   2\n",
       "4  980947556   2\n",
       "5  981193404   2\n",
       "6  981646791   2\n",
       "7  981479215   2\n",
       "8  981452768   2\n",
       "9  981100043   2"
      ]
     },
     "metadata": {},
     "output_type": "display_data"
    }
   ],
   "source": [
    "df = pd.read_sql('SELECT * FROM [700]', executar_conexao_bd())\n",
    "df = pd.DataFrame(df, columns = ['SS', 'OS'])\n",
    "#df = df.astype(str)\n",
    "\n",
    "display(df)"
   ]
  },
  {
   "cell_type": "code",
   "execution_count": null,
   "id": "c816402c",
   "metadata": {},
   "outputs": [],
   "source": [
    "#Inicinado automação / abrindo navegador\n",
    "options = Options()\n",
    "options.add_argument(\"start-maximized\")\n",
    "driver = webdriver.Chrome(ChromeDriverManager().install())\n",
    "chrome_options = webdriver.ChromeOptions()"
   ]
  },
  {
   "cell_type": "code",
   "execution_count": null,
   "id": "9aefd81c",
   "metadata": {},
   "outputs": [],
   "source": [
    "login = 't034183'\n",
    "senha = 'CNB@2022'\n",
    "driver.get(\"https://sciweb.embasanet.ba.gov.br/sci-web/\")\n",
    "time.sleep(2)\n",
    "\n",
    "# Procurar a tag random do site / Login e senha\n",
    "randomtag = driver.find_element(By.ID, \"random-tag\").get_attribute('value')\n",
    "driver.find_element(By.ID, \"loginForm-usuario-{randomtag}\".format(randomtag=randomtag)).send_keys(login)\n",
    "driver.find_element(By.ID, \"loginForm-senha-{randomtag}\".format(randomtag=randomtag)).send_keys(senha)\n",
    "driver.find_element(By.ID, \"loginForm-submit\").click()\n",
    "time.sleep(2)"
   ]
  },
  {
   "cell_type": "code",
   "execution_count": 24,
   "id": "7a52746e",
   "metadata": {},
   "outputs": [],
   "source": [
    "#tipo: insu, menu: GOSI_anchor - ACESSAR MENU DE INSUMOS\n",
    "def arvore_acesso(driver, tipo, menu ):\n",
    "    # Proc detalhe da Os no campo de buscar\n",
    "    driver.find_element(By.ID, \"arvoreSearch\").send_keys(tipo)\n",
    "    # aguardar ate o elemento aparecer e/ou seguir codigo\n",
    "    wait = WebDriverWait(driver, 5)\n",
    "    element1 = wait.until(EC.element_to_be_clickable((By.ID, menu)))\n",
    "    # acessar Campo detalhe da Os\n",
    "    driver.find_element(By.ID, menu).click()\n",
    "    time.sleep(2)\n",
    "    #acessar camada frame do site\n",
    "    driver.switch_to.frame(\"frame-content\")\n",
    "\n",
    "#ACESSAR MENU PAR EXTRAR INSUMADOS\n",
    "#arvore_acesso(driver, 'insum', 'GOSI_anchor')"
   ]
  },
  {
   "cell_type": "code",
   "execution_count": null,
   "id": "64346ca7",
   "metadata": {},
   "outputs": [],
   "source": [
    "itens = ['INTDIG01 - LUVA PVC JS 40MM', 'INTDIG01 - CAP PVC JS 25MM']"
   ]
  },
  {
   "cell_type": "code",
   "execution_count": 19,
   "id": "19f077be",
   "metadata": {
    "collapsed": true
   },
   "outputs": [
    {
     "ename": "NameError",
     "evalue": "name 'driver' is not defined",
     "output_type": "error",
     "traceback": [
      "\u001b[1;31m---------------------------------------------------------------------------\u001b[0m",
      "\u001b[1;31mNameError\u001b[0m                                 Traceback (most recent call last)",
      "Input \u001b[1;32mIn [19]\u001b[0m, in \u001b[0;36m<cell line: 13>\u001b[1;34m()\u001b[0m\n\u001b[0;32m     10\u001b[0m     \u001b[38;5;66;03m# clinical em buscar\u001b[39;00m\n\u001b[0;32m     11\u001b[0m     driver\u001b[38;5;241m.\u001b[39mfind_element(By\u001b[38;5;241m.\u001b[39mXPATH, \u001b[38;5;124m'\u001b[39m\u001b[38;5;124m//*[@id=\u001b[39m\u001b[38;5;124m\"\u001b[39m\u001b[38;5;124mform-j_idt71-panel\u001b[39m\u001b[38;5;124m\"\u001b[39m\u001b[38;5;124m]/input\u001b[39m\u001b[38;5;124m'\u001b[39m)\u001b[38;5;241m.\u001b[39mclick()\n\u001b[1;32m---> 13\u001b[0m preencher_ss(\u001b[43mdriver\u001b[49m, \u001b[38;5;124m'\u001b[39m\u001b[38;5;124m980844835\u001b[39m\u001b[38;5;124m'\u001b[39m, \u001b[38;5;124m'\u001b[39m\u001b[38;5;124m2\u001b[39m\u001b[38;5;124m'\u001b[39m)\n",
      "\u001b[1;31mNameError\u001b[0m: name 'driver' is not defined"
     ]
    }
   ],
   "source": [
    "#Consultar na label Material\n",
    "def preencher_ss(driver, lista, lista2):\n",
    "    driver.find_element(By.XPATH, '//*[@id=\"form-j_idt71-j_idt72-item\"]').clear()\n",
    "    driver.find_element(By.XPATH, '//*[@id=\"form-j_idt71-j_idt80-item\"]').clear()\n",
    "    \n",
    "    driver.find_element(By.XPATH, '//*[@id=\"form-j_idt71-j_idt72-item\"]').send_keys(lista)\n",
    "    time.sleep(0.5)\n",
    "    driver.find_element(By.XPATH, '//*[@id=\"form-j_idt71-j_idt80-item\"]').send_keys(lista2)\n",
    "    time.sleep(0.5)\n",
    "    # clinical em buscar\n",
    "    driver.find_element(By.XPATH, '//*[@id=\"form-j_idt71-panel\"]/input').click()\n",
    "    \n",
    "#preencher_ss(driver, '980844835', '2')"
   ]
  },
  {
   "cell_type": "code",
   "execution_count": null,
   "id": "d8ff8a2a",
   "metadata": {},
   "outputs": [],
   "source": [
    "for i, row in df.iterrows():\n",
    "    preencher_ss(driver, str(row['SS']), str(row['OS']))\n",
    "    time.sleep(0.3)"
   ]
  },
  {
   "cell_type": "code",
   "execution_count": 22,
   "id": "0482e973",
   "metadata": {},
   "outputs": [],
   "source": [
    "#Acessando e inserindo material\n",
    "def campo_material(driver, material):\n",
    "    campo1 = driver.find_element(By.XPATH,'//*[@id=\"form-cpnlAssociarInsumo-tmpCodigoAutoComp-codAutoComp_input\"]')\n",
    "    campo1.click()\n",
    "    time.sleep(0.4)\n",
    "    campo1.clear()\n",
    "    time.sleep(0.5)\n",
    "    campo1.send_keys(material)\n",
    "    time.sleep(2)\n",
    "    campo1.send_keys(Keys.RETURN)\n",
    "    time.sleep(1)\n",
    "\n",
    "#campo_material(driver, itens)"
   ]
  },
  {
   "cell_type": "code",
   "execution_count": 23,
   "id": "88d0731f",
   "metadata": {},
   "outputs": [],
   "source": [
    "#Acessando e inserindo quantidade e medir\n",
    "def campo_quantidade(driver, qtd, medir):\n",
    "    campo2 = driver.find_element(By.XPATH, '//*[@id=\"form-cpnlAssociarInsumo-quantidade-item\"]')\n",
    "    campo2.click()\n",
    "    campo2.clear()\n",
    "    campo2.send_keys(qtd)\n",
    "    time.sleep(0.5)\n",
    "    #Acessando e inserindo Disp p medir S/N\n",
    "    select_element = driver.find_element(By.ID, 'form-cpnlAssociarInsumo-j_idt290-comboBooleanSN-item')\n",
    "    select = Select(select_element)\n",
    "    select.select_by_value(medir)\n",
    "    # select.select_by_visible_text('Não')\n",
    "    time.sleep(0.5)\n",
    "    #Confirar insumo\n",
    "    driver.find_element(By.XPATH,'//*[@id=\"form-cpnlAssociarInsumo-confirmar\"]').click()\n",
    "    \n",
    "#campo_quantidade(driver, '3', 'N')"
   ]
  },
  {
   "cell_type": "code",
   "execution_count": null,
   "id": "ac4acd6d",
   "metadata": {},
   "outputs": [],
   "source": [
    "for index, row in df.iterrows():    \n",
    "    ID = row.Material\n",
    "    SS = row.SS\n",
    "    MT = row.Mureta\n",
    "    HD = row.Hd\n",
    "    #comando_sql = (f\"UPDATE [Janeiro26/12-25/01] SET Material='{ID}', Mureta='{MT}', Hd='{HD}' WHERE SS={SS} \")\n",
    "    comando_sql = \"UPDATE [Insumar] SET Material='{}', Mureta='{}', Hd='{}' WHERE SS={}\".format(\n",
    "    ID.replace(\"'\", \"''\"), MT.replace(\"'\", \"''\"), HD.replace(\"'\", \"''\"), SS)  \n",
    "    cursor.execute(comando_sql)\n",
    "    \n",
    "cursor.commit()"
   ]
  },
  {
   "cell_type": "code",
   "execution_count": null,
   "id": "8a6a11cf",
   "metadata": {},
   "outputs": [],
   "source": [
    "def geral():\n",
    "    #Inicinado automação / abrindo navegador\n",
    "    options = Options()\n",
    "    options.add_argument(\"start-maximized\")\n",
    "    driver = webdriver.Chrome(ChromeDriverManager().install())\n",
    "    chrome_options = webdriver.ChromeOptions()\n",
    "    time.sleep(1)\n",
    "    \n",
    "    login = 't034183'\n",
    "    senha = 'CNB@2022'\n",
    "    driver.get(\"https://sciweb.embasanet.ba.gov.br/sci-web/\")\n",
    "    time.sleep(1)\n",
    "      \n",
    "\n",
    "    # Procurar a tag random do site / Login e senha\n",
    "    randomtag = driver.find_element(By.ID, \"random-tag\").get_attribute('value')\n",
    "    driver.find_element(By.ID, \"loginForm-usuario-{randomtag}\".format(randomtag=randomtag)).send_keys(login)\n",
    "    driver.find_element(By.ID, \"loginForm-senha-{randomtag}\".format(randomtag=randomtag)).send_keys(senha)\n",
    "    driver.find_element(By.ID, \"loginForm-submit\").click()\n",
    "    time.sleep(1)\n",
    "    \n",
    "    arvore_acesso(driver, 'insum', 'GOSI_anchor')\n",
    "    time.sleep(1)\n",
    "    \n",
    "    itens = ['INTDIG01 - LUVA PVC JS 40MM', 'INTDIG01 - CAP PVC JS 25MM']\n",
    "\n",
    "    \n",
    "    for i, row in df.iterrows():\n",
    "        preencher_ss(driver, str(row['SS']), str(row['OS']))\n",
    "        time.sleep(1)\n",
    "        for item in itens:\n",
    "            campo_material(driver, item)            \n",
    "            time.sleep(1)\n",
    "            campo_quantidade(driver, '3', 'N')\n",
    "            time.sleep(1)\n",
    "            print(\"Materiais insumados com sucesso! :)\")\n",
    "   \n",
    "    "
   ]
  },
  {
   "cell_type": "code",
   "execution_count": 28,
   "id": "63c76525",
   "metadata": {},
   "outputs": [],
   "source": [
    "def esperar_sumir(driver):\n",
    "    wait = WebDriverWait(driver, 30)\n",
    "    element = wait.until(EC.invisibility_of_element_located((By.ID, \"j_idt24_modal\")))"
   ]
  },
  {
   "cell_type": "code",
   "execution_count": null,
   "id": "da436cc0",
   "metadata": {},
   "outputs": [],
   "source": [
    "geral()"
   ]
  },
  {
   "cell_type": "code",
   "execution_count": 25,
   "id": "a97d0767",
   "metadata": {},
   "outputs": [],
   "source": [
    "def login(driver, user, senha):\n",
    "    \n",
    "    # Esperar pela tag random do site / Login e senha\n",
    "    randomtag = driver.find_element(By.ID, \"random-tag\").get_attribute('value')\n",
    "    driver.find_element(By.ID, \"loginForm-usuario-{randomtag}\".format(randomtag=randomtag)).send_keys(user)\n",
    "    driver.find_element(By.ID, \"loginForm-senha-{randomtag}\".format(randomtag=randomtag)).send_keys(senha)\n",
    "    driver.find_element(By.ID, \"loginForm-submit\").click()\n",
    "    time.sleep(0.5)\n",
    "\n",
    "def geral2():\n",
    "    #Iniciando automação / abrindo navegador\n",
    "    options = Options()\n",
    "    options.add_argument(\"start-maximized\")\n",
    "    driver = webdriver.Chrome(ChromeDriverManager().install())\n",
    "    chrome_options = webdriver.ChromeOptions()\n",
    "    time.sleep(0.5)\n",
    "    \n",
    "    user = 't034183'\n",
    "    senha = 'CNB@2022'\n",
    "    driver.get(\"https://sciweb.embasanet.ba.gov.br/sci-web/\")\n",
    "    time.sleep(0.5)\n",
    "    \n",
    "    # Esperar pela tag random do site / Login e senha\n",
    "    randomtag = driver.find_element(By.ID, \"random-tag\").get_attribute('value')\n",
    "    driver.find_element(By.ID, \"loginForm-usuario-{randomtag}\".format(randomtag=randomtag)).send_keys(user)\n",
    "    driver.find_element(By.ID, \"loginForm-senha-{randomtag}\".format(randomtag=randomtag)).send_keys(senha)\n",
    "    driver.find_element(By.ID, \"loginForm-submit\").click()\n",
    "    time.sleep(0.5)\n",
    "    \n",
    "    arvore_acesso(driver, 'insum', 'GOSI_anchor')\n",
    "    time.sleep(1)\n",
    "    \n",
    "    itens = ['INTDIG01 - LUVA PVC JS 40MM', 'INTDIG01 - CAP PVC JS 25MM']\n",
    "    \n",
    "    contador = 0\n",
    "\n",
    "    for i, row in df.iterrows():\n",
    "        preencher_ss(driver, str(row['SS']), str(row['OS']))\n",
    "        time.sleep(1)\n",
    "        for item in itens:\n",
    "            campo_material(driver, item)            \n",
    "            time.sleep(0.5)\n",
    "            esperar_sumir(driver)\n",
    "            campo_quantidade(driver, 3, 'N')\n",
    "            time.sleep(0.5)\n",
    "            contador += 1\n",
    "\n",
    "    print(f\"{contador} Ss(s) insumada(s) com sucesso!\")\n",
    "\n"
   ]
  },
  {
   "cell_type": "code",
   "execution_count": null,
   "id": "2ffe99a4",
   "metadata": {},
   "outputs": [],
   "source": [
    "geral2()"
   ]
  },
  {
   "cell_type": "code",
   "execution_count": 30,
   "id": "363261bc",
   "metadata": {},
   "outputs": [],
   "source": [
    "import tkinter as tk\n",
    "\n",
    "def interface_grafica():\n",
    "    # Cria a janela da interface gráfica\n",
    "    janela = tk.Tk()\n",
    "    janela.geometry(\"300x300\")\n",
    "    janela.title(\"Insumação de SS\")\n",
    "\n",
    "    # Cria o frame onde serão adicionados os widgets\n",
    "    frame = tk.Frame(janela)\n",
    "    frame.pack(pady=20)\n",
    "\n",
    "    # Adiciona o label para o campo de itens\n",
    "    label_itens = tk.Label(frame, text=\"Itens:\")\n",
    "    label_itens.pack()\n",
    "\n",
    "    # Adiciona a caixa de entrada para os itens\n",
    "    entrada_itens = tk.Entry(frame)\n",
    "    entrada_itens.pack()\n",
    "\n",
    "    # Adiciona o label para o campo de quantidade\n",
    "    label_quantidade = tk.Label(frame, text=\"Quantidade:\")\n",
    "    label_quantidade.pack()\n",
    "\n",
    "    # Adiciona a caixa de entrada para a quantidade\n",
    "    entrada_quantidade = tk.Entry(frame)\n",
    "    entrada_quantidade.pack()\n",
    "\n",
    "    # Adiciona o label para o campo de medir\n",
    "    label_medir = tk.Label(frame, text=\"Medir:\")\n",
    "    label_medir.pack()\n",
    "\n",
    "    # Adiciona a caixa de seleção para o medir\n",
    "    medir = tk.StringVar()\n",
    "    medir.set('N')\n",
    "    selecao_medir = tk.OptionMenu(frame, medir, 'S', 'N')\n",
    "    selecao_medir.pack()\n",
    "\n",
    "    # Adiciona o botão de insumação\n",
    "    botao_insumar = tk.Button(frame, text=\"Insumar\", command=geral2)\n",
    "    botao_insumar.pack(pady=20)\n",
    "\n",
    "    # Inicia a janela\n",
    "    janela.mainloop()\n"
   ]
  },
  {
   "cell_type": "code",
   "execution_count": 33,
   "id": "ab926018",
   "metadata": {},
   "outputs": [],
   "source": [
    "interface_grafica()"
   ]
  }
 ],
 "metadata": {
  "kernelspec": {
   "display_name": "Python 3 (ipykernel)",
   "language": "python",
   "name": "python3"
  },
  "language_info": {
   "codemirror_mode": {
    "name": "ipython",
    "version": 3
   },
   "file_extension": ".py",
   "mimetype": "text/x-python",
   "name": "python",
   "nbconvert_exporter": "python",
   "pygments_lexer": "ipython3",
   "version": "3.9.12"
  }
 },
 "nbformat": 4,
 "nbformat_minor": 5
}
