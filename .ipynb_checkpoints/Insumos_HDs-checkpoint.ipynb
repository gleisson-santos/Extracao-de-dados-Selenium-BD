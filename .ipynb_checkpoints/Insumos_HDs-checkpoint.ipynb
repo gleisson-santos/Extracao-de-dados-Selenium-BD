{
 "cells": [
  {
   "cell_type": "code",
   "execution_count": 1,
   "id": "d7f43394",
   "metadata": {},
   "outputs": [
    {
     "name": "stdout",
     "output_type": "stream",
     "text": [
      "Executado a conexão com o BD......\n"
     ]
    },
    {
     "data": {
      "text/plain": [
       "<pyodbc.Connection at 0x133118b99f0>"
      ]
     },
     "execution_count": 1,
     "metadata": {},
     "output_type": "execute_result"
    }
   ],
   "source": [
    "#Iniciando modulos\n",
    "from selenium import webdriver\n",
    "from selenium.webdriver.common.keys import Keys\n",
    "from selenium.webdriver.common.by import By\n",
    "from selenium.webdriver.support.ui import WebDriverWait\n",
    "from selenium.webdriver.support import expected_conditions as EC\n",
    "from selenium.common.exceptions import NoSuchElementException\n",
    "from selenium.webdriver.chrome.options import Options\n",
    "from webdriver_manager.chrome import ChromeDriverManager\n",
    "from selenium.webdriver.support.select import Select\n",
    "import pandas as pd\n",
    "import pyodbc\n",
    "import time\n",
    "import re\n",
    "\n",
    "#Acesso ao banco de dados Trab\n",
    "def executar_conexao_bd():\n",
    "    server = 'TBDBL-GLEISSON'\n",
    "    database = 'Dados_Pavimento'\n",
    "    username = 'gleisson.santos'\n",
    "    password = '12345'\n",
    "    conexao = pyodbc.connect(\n",
    "        'DRIVER={SQL Server};SERVER=' + server + ';DATABASE=' + database + ';UID=' + username + ';PWD=' + password)\n",
    "    print('Executado a conexão com o BD......')\n",
    "    return conexao\n",
    "\n",
    "cursor = executar_conexao_bd()\n",
    "cursor"
   ]
  },
  {
   "cell_type": "code",
   "execution_count": null,
   "id": "db8c6267",
   "metadata": {},
   "outputs": [],
   "source": [
    "#Acesso ao banco de dados Casa\n",
    "def executar_conexao_bd():\n",
    "    server = 'DESKTOP-0P0H9IO'\n",
    "    database = 'Dados_Pavimento'\n",
    "    conexao = pyodbc.connect(\n",
    "        'DRIVER={SQL Server};SERVER=' + server + ';DATABASE=' + database)\n",
    "    print('Executado a conexão com o BD......')\n",
    "    return conexao\n",
    "\n",
    "cursor = executar_conexao_bd()\n",
    "cursor"
   ]
  },
  {
   "cell_type": "code",
   "execution_count": 280,
   "id": "9b83c855",
   "metadata": {
    "scrolled": false
   },
   "outputs": [
    {
     "name": "stdout",
     "output_type": "stream",
     "text": [
      "Executado a conexão com o BD......\n"
     ]
    },
    {
     "data": {
      "text/html": [
       "<div>\n",
       "<style scoped>\n",
       "    .dataframe tbody tr th:only-of-type {\n",
       "        vertical-align: middle;\n",
       "    }\n",
       "\n",
       "    .dataframe tbody tr th {\n",
       "        vertical-align: top;\n",
       "    }\n",
       "\n",
       "    .dataframe thead th {\n",
       "        text-align: right;\n",
       "    }\n",
       "</style>\n",
       "<table border=\"1\" class=\"dataframe\">\n",
       "  <thead>\n",
       "    <tr style=\"text-align: right;\">\n",
       "      <th></th>\n",
       "      <th>SS</th>\n",
       "      <th>OS</th>\n",
       "      <th>Tipo</th>\n",
       "      <th>Serviço</th>\n",
       "      <th>Ano</th>\n",
       "    </tr>\n",
       "  </thead>\n",
       "  <tbody>\n",
       "    <tr>\n",
       "      <th>8854</th>\n",
       "      <td>950327746</td>\n",
       "      <td>1</td>\n",
       "      <td>26 - MANUTENCAO DE HIDROMETRO</td>\n",
       "      <td>12 - SUBSTITUICAO HID.</td>\n",
       "      <td>2020</td>\n",
       "    </tr>\n",
       "    <tr>\n",
       "      <th>8858</th>\n",
       "      <td>950331729</td>\n",
       "      <td>1</td>\n",
       "      <td>26 - MANUTENCAO DE HIDROMETRO</td>\n",
       "      <td>12 - SUBSTITUICAO HID.</td>\n",
       "      <td>2020</td>\n",
       "    </tr>\n",
       "  </tbody>\n",
       "</table>\n",
       "</div>"
      ],
      "text/plain": [
       "             SS  OS                           Tipo                 Serviço  \\\n",
       "8854  950327746   1  26 - MANUTENCAO DE HIDROMETRO  12 - SUBSTITUICAO HID.   \n",
       "8858  950331729   1  26 - MANUTENCAO DE HIDROMETRO  12 - SUBSTITUICAO HID.   \n",
       "\n",
       "       Ano  \n",
       "8854  2020  \n",
       "8858  2020  "
      ]
     },
     "metadata": {},
     "output_type": "display_data"
    },
    {
     "name": "stdout",
     "output_type": "stream",
     "text": [
      "Número de linhas:  2\n"
     ]
    }
   ],
   "source": [
    "#df = pd.read_sql('SELECT * FROM [Hds700]', executar_conexao_bd())\n",
    "df = pd.read_sql('SELECT * FROM Hds700', executar_conexao_bd())\n",
    "df = pd.DataFrame(df, columns = ['SS', 'OS','Tipo', 'Serviço','Ano'])\n",
    "#df = df.astype(str)\n",
    "\n",
    "# Filtra as linhas onde \"Tipo\" é igual a \"26 - MANUTENCAO DE HIDROMETRO\" e \"Serviço\" é igual a \"12 - SUBSTITUICAO HID.\" OU \"766 - REV HIDROMETRO PARADO\"\n",
    "#df = df.loc[(df['Tipo'] == '26 - MANUTENCAO DE HIDROMETRO') & ((df['Serviço'] == '12 - SUBSTITUICAO HID.') | (df['Serviço'] == '766 - REV HIDROMETRO PARADO') | (df['Serviço'] == '194 - SUBST HD VOLUMETRICO'))]\n",
    "df = df.loc[(df['Tipo'] == '26 - MANUTENCAO DE HIDROMETRO') & ((df['Serviço'] == '12 - SUBSTITUICAO HID.') | (df['Serviço'] == '194 - SUBST HD VOLUMETRICO'))]\n",
    "\n",
    "#df = df.iloc[:1000, :]\n",
    "# Seleciona apenas a coluna \"Serviço\"\n",
    "df = df.head(2)\n",
    "\n",
    "display(df)\n",
    "n_linhas = len(df)\n",
    "print(\"Número de linhas: \", n_linhas)\n",
    "\n"
   ]
  },
  {
   "cell_type": "code",
   "execution_count": 212,
   "id": "c816402c",
   "metadata": {},
   "outputs": [
    {
     "name": "stdout",
     "output_type": "stream",
     "text": [
      "\n"
     ]
    },
    {
     "name": "stderr",
     "output_type": "stream",
     "text": [
      "[WDM] - ====== WebDriver manager ======\n",
      "[WDM] - Current google-chrome version is 111.0.5563\n",
      "[WDM] - Get LATEST chromedriver version for 111.0.5563 google-chrome\n",
      "[WDM] - Driver [C:\\Users\\gleisson.santos\\.wdm\\drivers\\chromedriver\\win32\\111.0.5563.64\\chromedriver.exe] found in cache\n",
      "C:\\Users\\GLEISS~1.SAN\\AppData\\Local\\Temp/ipykernel_7672/2965849731.py:4: DeprecationWarning: executable_path has been deprecated, please pass in a Service object\n",
      "  driver = webdriver.Chrome(ChromeDriverManager().install())\n"
     ]
    }
   ],
   "source": [
    "#Inicinado automação / abrindo navegador\n",
    "options = Options()\n",
    "options.add_argument(\"start-maximized\")\n",
    "driver = webdriver.Chrome(ChromeDriverManager().install())\n",
    "chrome_options = webdriver.ChromeOptions()\n",
    "time.sleep(1)\n",
    "\n",
    "login = 't034183'\n",
    "senha = 'CNB@2022'\n",
    "\n",
    "driver.get(\"https://sciweb.embasanet.ba.gov.br/sci-web/\")\n",
    "time.sleep(1)\n",
    "\n",
    "# Procurar a tag random do site / Login e senha\n",
    "randomtag = driver.find_element(By.ID, \"random-tag\").get_attribute('value')\n",
    "driver.find_element(By.ID, \"loginForm-usuario-{randomtag}\".format(randomtag=randomtag)).send_keys(login)\n",
    "driver.find_element(By.ID, \"loginForm-senha-{randomtag}\".format(randomtag=randomtag)).send_keys(senha)\n",
    "driver.find_element(By.ID, \"loginForm-submit\").click()\n",
    "time.sleep(1)\n",
    "arvore_acesso(driver, 'insum', 'GOSI_anchor')\n",
    "\n",
    "time.sleep(0.5)\n",
    "driver.execute_script(\"window.open('https://sciweb.embasanet.ba.gov.br/');\")\n",
    "driver.switch_to.window(driver.window_handles[1])\n",
    "time.sleep(0.5)\n",
    "arvore_acesso(driver, 'detalhe', 'DOSE_anchor')\n",
    "driver.switch_to.window(driver.window_handles[0])\n",
    "driver.switch_to.frame(\"frame-content\")"
   ]
  },
  {
   "cell_type": "code",
   "execution_count": 34,
   "id": "7a52746e",
   "metadata": {},
   "outputs": [],
   "source": [
    "#tipo: insu, menu: GOSI_anchor - ACESSAR MENU DE INSUMOS\n",
    "def arvore_acesso(driver, tipo, menu ):\n",
    "    # Proc detalhe da Os no campo de buscar\n",
    "    driver.find_element(By.ID, 'arvoreSearch').send_keys(tipo)\n",
    "    # aguardar ate o elemento aparecer e/ou seguir codigo\n",
    "    wait = WebDriverWait(driver, 10)\n",
    "    element1 = wait.until(EC.element_to_be_clickable((By.ID, menu)))\n",
    "    # acessar Campo detalhe da Os\n",
    "    driver.find_element(By.ID, menu).click()\n",
    "    time.sleep(1)\n",
    "    #acessar camada frame do site\n",
    "    driver.switch_to.frame(\"frame-content\")\n"
   ]
  },
  {
   "cell_type": "code",
   "execution_count": 41,
   "id": "3860603d",
   "metadata": {},
   "outputs": [],
   "source": [
    "arvore_acesso(driver, 'insum', 'GOSI_anchor')"
   ]
  },
  {
   "cell_type": "code",
   "execution_count": 109,
   "id": "19f077be",
   "metadata": {},
   "outputs": [],
   "source": [
    "#Consultar na label Material\n",
    "def preencher_ss(driver, lista, lista2):\n",
    "    driver.find_element(By.XPATH, '//*[@id=\"form-j_idt71-j_idt72-item\"]').clear()\n",
    "    driver.find_element(By.XPATH, '//*[@id=\"form-j_idt71-j_idt80-item\"]').clear()\n",
    "    \n",
    "    driver.find_element(By.XPATH, '//*[@id=\"form-j_idt71-j_idt72-item\"]').send_keys(lista)\n",
    "    time.sleep(0.5)\n",
    "    driver.find_element(By.XPATH, '//*[@id=\"form-j_idt71-j_idt80-item\"]').send_keys(lista2)\n",
    "    time.sleep(0.5)\n",
    "    # clinical em buscar\n",
    "    driver.find_element(By.XPATH, '//*[@id=\"form-j_idt71-panel\"]/input').click()\n"
   ]
  },
  {
   "cell_type": "code",
   "execution_count": 213,
   "id": "4b8f1b68",
   "metadata": {},
   "outputs": [],
   "source": [
    "preencher_ss(driver, '902766338', '1')"
   ]
  },
  {
   "cell_type": "code",
   "execution_count": 196,
   "id": "92a26d6f",
   "metadata": {},
   "outputs": [],
   "source": [
    "#Consultar na label Material\n",
    "def preencher_os(driver, lista, lista2):\n",
    "    driver.find_element(By.XPATH, '//*[@id=\"form-j_idt70-j_idt71-item\"]').clear()\n",
    "    driver.find_element(By.XPATH, '//*[@id=\"form-j_idt70-j_idt79-item\"]').clear()\n",
    "    time.sleep(0.5)\n",
    "    driver.find_element(By.XPATH, '//*[@id=\"form-j_idt70-j_idt71-item\"]').send_keys(lista)\n",
    "    time.sleep(0.5)\n",
    "    driver.find_element(By.XPATH, '//*[@id=\"form-j_idt70-j_idt79-item\"]').send_keys(lista2)\n",
    "    time.sleep(0.5)\n",
    "    # clinical em buscar\n",
    "    driver.find_element(By.XPATH, '//*[@name=\"form-j_idt70-j_idt90\"]').click()\n",
    "    # Coletar HD \n",
    "    time.sleep(0.5)\n",
    "    hd = driver.find_element(By.XPATH, \"//*[@id='form-j_idt391-j_idt392-item']\")\n",
    "    text = hd.text\n",
    "    return text\n"
   ]
  },
  {
   "cell_type": "code",
   "execution_count": 197,
   "id": "cd77cd66",
   "metadata": {},
   "outputs": [],
   "source": [
    "def buscar_hd(driver):\n",
    "    driver.switch_to.window(driver.window_handles[1])\n",
    "    driver.switch_to.frame(\"frame-content\")\n",
    "    hd = preencher_os(driver, '902766338', '1')\n",
    "    time.sleep(1)\n",
    "    driver.switch_to.window(driver.window_handles[0])\n",
    "    driver.switch_to.frame(\"frame-content\")\n",
    "    return hd"
   ]
  },
  {
   "cell_type": "code",
   "execution_count": 198,
   "id": "78ed2cea",
   "metadata": {},
   "outputs": [
    {
     "data": {
      "text/plain": [
       "'A19N363580'"
      ]
     },
     "execution_count": 198,
     "metadata": {},
     "output_type": "execute_result"
    }
   ],
   "source": [
    "buscar_hd(driver)"
   ]
  },
  {
   "cell_type": "code",
   "execution_count": 202,
   "id": "34fb8f22",
   "metadata": {},
   "outputs": [],
   "source": [
    "um_meio = ['INTDIG01 - HIDROMETRO RES MONO 0,75M3/H 1/2\"S/C 45',           \n",
    "           'INTDIG01 - CONJ CONEXOES HIDROM 1/2 PP 1,5 M3/H',           \n",
    "           'INTDIG01 - REGISTRO PP 1/2\" ACIONAM RESTRITO PN10',\n",
    "          'INTDIG01 - LACRE TAMPA CX HIDROM AJUSTAVEL (AZUL)']\n",
    "\n",
    "de_tres = ['INTDIG01 - HIDROMETRO RES MULT 1,5M3/H 1/2\" S/C 45º',           \n",
    "           'INTDIG01 - CONJ CONEXOES HIDROM 1/2 PP 3 E 1,5 M3/H',           \n",
    "          'INTDIG01 - REGISTRO PP 1/2\" ACIONAM RESTRITO PN10',\n",
    "          'INTDIG01 - LACRE TAMPA CX HIDROM AJUSTAVEL (AZUL)']"
   ]
  },
  {
   "cell_type": "code",
   "execution_count": 203,
   "id": "1d8f0d18",
   "metadata": {},
   "outputs": [],
   "source": [
    "def campo_material(driver, material1, material2):\n",
    "    texto = buscar_hd(driver)\n",
    "    if not isinstance(texto, str):\n",
    "        texto = str(texto)\n",
    "        \n",
    "    padrao_ay = r\"[A-Z][0-9][0-9][A-Z]\"\n",
    "    resultados = re.findall(padrao_ay, texto)\n",
    "\n",
    "    try:\n",
    "        campo1 = WebDriverWait(driver, 10).until(EC.presence_of_element_located((By.XPATH,'//*[@id=\"form-cpnlAssociarInsumo-tmpCodigoAutoComp-codAutoComp_input\"]')))\n",
    "    except NoSuchElementException:\n",
    "        print(\"Erro na Unidade de medição\")\n",
    "        return\n",
    "    \n",
    "    try:\n",
    "        if any(resultado.startswith('A') for resultado in resultados):\n",
    "            campo1.click()\n",
    "            time.sleep(1)\n",
    "            campo1.clear()\n",
    "            time.sleep(1)\n",
    "            campo1.send_keys(material1)\n",
    "            time.sleep(1)\n",
    "            driver.find_element(By.XPATH,'//*[@class=\"ui-autocomplete-query\"]').click()   \n",
    "\n",
    "        elif any(resultado.startswith('Y') for resultado in resultados):\n",
    "            campo1.click()\n",
    "            time.sleep(1)\n",
    "            campo1.clear()\n",
    "            time.sleep(1)\n",
    "            campo1.send_keys(material2)\n",
    "            time.sleep(1)\n",
    "            driver.find_element(By.XPATH,'//*[@class=\"ui-autocomplete-query\"]').click() \n",
    "        else:\n",
    "            print(\"Hd incorreto\")\n",
    "    except NoSuchElementException:\n",
    "        print(\"Não foi encontrado Hd\")\n",
    "\n"
   ]
  },
  {
   "cell_type": "code",
   "execution_count": 204,
   "id": "16d55f78",
   "metadata": {},
   "outputs": [
    {
     "name": "stdout",
     "output_type": "stream",
     "text": [
      "Não foi encontrado Hd\n"
     ]
    }
   ],
   "source": [
    "campo_material(driver, de_tres, um_meio)"
   ]
  },
  {
   "cell_type": "code",
   "execution_count": 214,
   "id": "88d0731f",
   "metadata": {},
   "outputs": [],
   "source": [
    "#Acessando e inserindo quantidade e medir\n",
    "def campo_quantidade(driver, qtd, medir):\n",
    "    try:\n",
    "        campo2 = driver.find_element(By.XPATH, '//*[@id=\"form-cpnlAssociarInsumo-quantidade-item\"]')\n",
    "        campo2.click()\n",
    "        campo2.clear()\n",
    "        campo2.send_keys(qtd)\n",
    "        time.sleep(0.5)\n",
    "        # Acessando e inserindo Disp p medir S/N\n",
    "        select_element = driver.find_element(By.ID, 'form-cpnlAssociarInsumo-j_idt290-comboBooleanSN-item')\n",
    "        select = Select(select_element)\n",
    "        select.select_by_value(medir)\n",
    "        # select.select_by_visible_text('Não')\n",
    "        time.sleep(0.5)\n",
    "        # Confirar insumo\n",
    "        driver.find_element(By.XPATH,'//*[@id=\"form-cpnlAssociarInsumo-confirmar\"]').click()\n",
    "    except NoSuchElementException:\n",
    "        print(\"Elemento não encontrado. Verifique o seletor XPATH do elemento.\")\n",
    "\n",
    "    \n"
   ]
  },
  {
   "cell_type": "code",
   "execution_count": 206,
   "id": "8c23cfdc",
   "metadata": {},
   "outputs": [],
   "source": [
    "campo_quantidade(driver, '1', 'N')"
   ]
  },
  {
   "cell_type": "code",
   "execution_count": 300,
   "id": "a97d0767",
   "metadata": {},
   "outputs": [],
   "source": [
    "um_meio = ['INTDIG01 - HIDROMETRO RES MONO 0,75M3/H 1/2\"S/C 45',           \n",
    "           'INTDIG01 - CONJ CONEXOES HIDROM 1/2 PP 1,5 M3/H',           \n",
    "           'INTDIG01 - REGISTRO PP 1/2\" ACIONAM RESTRITO PN10',\n",
    "          'INTDIG01 - LACRE TAMPA CX HIDROM AJUSTAVEL (AZUL)']\n",
    "\n",
    "de_tres = ['INTDIG01 - HIDROMETRO RES MULT 1,5M3/H 1/2\" S/C 45º',           \n",
    "           'INTDIG01 - CONJ CONEXOES HIDROM 1/2 PP 3 E 1,5 M3/H',           \n",
    "          'INTDIG01 - REGISTRO PP 1/2\" ACIONAM RESTRITO PN10',\n",
    "          'INTDIG01 - LACRE TAMPA CX HIDROM AJUSTAVEL (AZUL)']\n",
    "\n",
    "#Consultar e buscar HD\n",
    "def preencher_os(driver, lista, lista2):\n",
    "    driver.find_element(By.XPATH, '//*[@id=\"form-j_idt70-j_idt71-item\"]').clear()\n",
    "    driver.find_element(By.XPATH, '//*[@id=\"form-j_idt70-j_idt79-item\"]').clear()\n",
    "    time.sleep(0.5)\n",
    "    driver.find_element(By.XPATH, '//*[@id=\"form-j_idt70-j_idt71-item\"]').send_keys(lista)\n",
    "    time.sleep(0.5)\n",
    "    driver.find_element(By.XPATH, '//*[@id=\"form-j_idt70-j_idt79-item\"]').send_keys(lista2)\n",
    "    time.sleep(0.5)\n",
    "    # clinical em buscar\n",
    "    driver.find_element(By.XPATH, '//*[@name=\"form-j_idt70-j_idt90\"]').click()\n",
    "    # Coletar HD \n",
    "    time.sleep(0.5)\n",
    "    hd = driver.find_element(By.XPATH, \"//*[@id='form-j_idt391-j_idt392-item']\")\n",
    "    text = hd.text\n",
    "    time.sleep(1)\n",
    "    driver.switch_to.window(driver.window_handles[0])\n",
    "    driver.switch_to.frame(\"frame-content\")\n",
    "    return text\n",
    "\n",
    "#Alterar pagina e pegar  numero do HD\n",
    "def buscar_hd(driver):\n",
    "    driver.switch_to.window(driver.window_handles[1])\n",
    "    driver.switch_to.frame(\"frame-content\")\n",
    "\n",
    "def campo_material(driver, material1, material2, texto):   \n",
    "    #texto = 'A15S0015675'\n",
    "   \n",
    "    padrao_ay = r\"[A-Z][0-9][0-9][A-Z]\"\n",
    "    resultados = re.findall(padrao_ay, texto)\n",
    "\n",
    "    try:\n",
    "        campo1 = driver.find_element(By.XPATH,'//*[@id=\"form-cpnlAssociarInsumo-tmpCodigoAutoComp-codAutoComp_input\"]')\n",
    "    except NoSuchElementException:\n",
    "        print(\"Erro na Unidade de medição\")\n",
    "        pass\n",
    "    \n",
    "    try:\n",
    "        if any(resultado.startswith('A') for resultado in resultados):\n",
    "            time.sleep(1)\n",
    "            campo1.click()\n",
    "            time.sleep(1)\n",
    "            campo1.clear()\n",
    "            time.sleep(1)\n",
    "            campo1.send_keys(material1)\n",
    "            time.sleep(2)\n",
    "            driver.find_element(By.XPATH,'//*[@class=\"ui-autocomplete-query\"]').click()   \n",
    "\n",
    "\n",
    "        elif any(resultado.startswith('Y') for resultado in resultados):\n",
    "            time.sleep(1)\n",
    "            campo1.click()\n",
    "            time.sleep(1)\n",
    "            campo1.clear()\n",
    "            time.sleep(1)\n",
    "            campo1.send_keys(material2)\n",
    "            time.sleep(2)\n",
    "            driver.find_element(By.XPATH,'//*[@class=\"ui-autocomplete-query\"]').click() \n",
    "        else:\n",
    "            print(\"Hd incorreto\")\n",
    "    except NoSuchElementException:\n",
    "        print(\"Não foi encontrado Hd\")\n",
    "\n",
    "\n",
    "\n",
    "#Acessando e inserindo quantidade e medir\n",
    "def campo_quantidade(driver, qtd, medir):\n",
    "    try:\n",
    "        campo2 = driver.find_element(By.XPATH, '//*[@id=\"form-cpnlAssociarInsumo-quantidade-item\"]')\n",
    "        campo2.click()\n",
    "        campo2.clear()\n",
    "        time.sleep(0.5)\n",
    "        campo2.send_keys(qtd)\n",
    "        time.sleep(0.5)\n",
    "        # Acessando e inserindo Disp p medir S/N\n",
    "        select_element = driver.find_element(By.ID, 'form-cpnlAssociarInsumo-j_idt290-comboBooleanSN-item')\n",
    "        select = Select(select_element)\n",
    "        select.select_by_value(medir)\n",
    "        # select.select_by_visible_text('Não')\n",
    "        time.sleep(0.5)\n",
    "        # Confirar insumo\n",
    "        driver.find_element(By.XPATH,'//*[@id=\"form-cpnlAssociarInsumo-confirmar\"]').click()\n",
    "    except NoSuchElementException:\n",
    "        print(\"Elemento não encontrado. Verifique o seletor XPATH do elemento.\")\n",
    "\n",
    "\n",
    "def esperar_sumir(driver):\n",
    "    wait = WebDriverWait(driver, 30)\n",
    "    element = wait.until(EC.invisibility_of_element_located((By.ID, \"j_idt24_modal\")))\n",
    "\n",
    "def geral2():\n",
    "    #Inicinado automação / abrindo navegador\n",
    "    options = Options()\n",
    "    options.add_argument(\"start-maximized\")\n",
    "    driver = webdriver.Chrome(ChromeDriverManager().install())\n",
    "    chrome_options = webdriver.ChromeOptions()\n",
    "    time.sleep(1)\n",
    "\n",
    "    login = 't034183'\n",
    "    senha = 'CNB@2022'\n",
    "\n",
    "    driver.get(\"https://sciweb.embasanet.ba.gov.br/sci-web/\")\n",
    "    time.sleep(1)\n",
    "\n",
    "    # Procurar a tag random do site / Login e senha\n",
    "    randomtag = driver.find_element(By.ID, \"random-tag\").get_attribute('value')\n",
    "    driver.find_element(By.ID, \"loginForm-usuario-{randomtag}\".format(randomtag=randomtag)).send_keys(login)\n",
    "    driver.find_element(By.ID, \"loginForm-senha-{randomtag}\".format(randomtag=randomtag)).send_keys(senha)\n",
    "    driver.find_element(By.ID, \"loginForm-submit\").click()\n",
    "    time.sleep(1)\n",
    "    arvore_acesso(driver, 'insum', 'GOSI_anchor')\n",
    "\n",
    "    time.sleep(0.5)\n",
    "    driver.execute_script(\"window.open('https://sciweb.embasanet.ba.gov.br/');\")\n",
    "    driver.switch_to.window(driver.window_handles[1])\n",
    "    time.sleep(0.5)\n",
    "    arvore_acesso(driver, 'detalhe', 'DOSE_anchor')\n",
    "    driver.switch_to.window(driver.window_handles[0])\n",
    "    driver.switch_to.frame(\"frame-content\")\n",
    "\n",
    "    contador = 0\n",
    "\n",
    "    for i, row in df.iterrows():\n",
    "        preencher_ss(driver, str(row['SS']), str(row['OS']))\n",
    "        time.sleep(1)\n",
    "        buscar_hd(driver)\n",
    "        time.sleep(0.5)\n",
    "        resultado_os = preencher_os(driver, str(row['SS']), str(row['OS']))\n",
    "        time.sleep(0.5)\n",
    "        for material1, material2 in zip(de_tres, um_meio):\n",
    "            campo_material(driver, material1, material2, resultado_os)\n",
    "            time.sleep(0.5)\n",
    "            esperar_sumir(driver)\n",
    "            campo_quantidade(driver, 1, 'N')\n",
    "            time.sleep(1)\n",
    "        contador += 1\n",
    "        from IPython.display import clear_output\n",
    "        clear_output(wait=True)\n",
    "        print(f\"{contador} Ss(s) insumada(s) com sucesso!\")\n",
    "\n",
    "\n",
    "\n"
   ]
  },
  {
   "cell_type": "code",
   "execution_count": 301,
   "id": "2ffe99a4",
   "metadata": {
    "scrolled": false
   },
   "outputs": [
    {
     "name": "stdout",
     "output_type": "stream",
     "text": [
      "1 Ss(s) insumada(s) com sucesso!\n"
     ]
    },
    {
     "ename": "NameError",
     "evalue": "name 'ttime' is not defined",
     "output_type": "error",
     "traceback": [
      "\u001b[1;31m---------------------------------------------------------------------------\u001b[0m",
      "\u001b[1;31mNameError\u001b[0m                                 Traceback (most recent call last)",
      "\u001b[1;32mC:\\Users\\GLEISS~1.SAN\\AppData\\Local\\Temp/ipykernel_7672/4042653129.py\u001b[0m in \u001b[0;36m<module>\u001b[1;34m\u001b[0m\n\u001b[1;32m----> 1\u001b[1;33m \u001b[0mgeral2\u001b[0m\u001b[1;33m(\u001b[0m\u001b[1;33m)\u001b[0m\u001b[1;33m\u001b[0m\u001b[1;33m\u001b[0m\u001b[0m\n\u001b[0m",
      "\u001b[1;32mC:\\Users\\GLEISS~1.SAN\\AppData\\Local\\Temp/ipykernel_7672/3406723603.py\u001b[0m in \u001b[0;36mgeral2\u001b[1;34m()\u001b[0m\n\u001b[0;32m    139\u001b[0m         \u001b[0mtime\u001b[0m\u001b[1;33m.\u001b[0m\u001b[0msleep\u001b[0m\u001b[1;33m(\u001b[0m\u001b[1;36m0.5\u001b[0m\u001b[1;33m)\u001b[0m\u001b[1;33m\u001b[0m\u001b[1;33m\u001b[0m\u001b[0m\n\u001b[0;32m    140\u001b[0m         \u001b[1;32mfor\u001b[0m \u001b[0mmaterial1\u001b[0m\u001b[1;33m,\u001b[0m \u001b[0mmaterial2\u001b[0m \u001b[1;32min\u001b[0m \u001b[0mzip\u001b[0m\u001b[1;33m(\u001b[0m\u001b[0mde_tres\u001b[0m\u001b[1;33m,\u001b[0m \u001b[0mum_meio\u001b[0m\u001b[1;33m)\u001b[0m\u001b[1;33m:\u001b[0m\u001b[1;33m\u001b[0m\u001b[1;33m\u001b[0m\u001b[0m\n\u001b[1;32m--> 141\u001b[1;33m             \u001b[0mcampo_material\u001b[0m\u001b[1;33m(\u001b[0m\u001b[0mdriver\u001b[0m\u001b[1;33m,\u001b[0m \u001b[0mmaterial1\u001b[0m\u001b[1;33m,\u001b[0m \u001b[0mmaterial2\u001b[0m\u001b[1;33m,\u001b[0m \u001b[0mresultado_os\u001b[0m\u001b[1;33m)\u001b[0m\u001b[1;33m\u001b[0m\u001b[1;33m\u001b[0m\u001b[0m\n\u001b[0m\u001b[0;32m    142\u001b[0m             \u001b[0mtime\u001b[0m\u001b[1;33m.\u001b[0m\u001b[0msleep\u001b[0m\u001b[1;33m(\u001b[0m\u001b[1;36m0.5\u001b[0m\u001b[1;33m)\u001b[0m\u001b[1;33m\u001b[0m\u001b[1;33m\u001b[0m\u001b[0m\n\u001b[0;32m    143\u001b[0m             \u001b[0mesperar_sumir\u001b[0m\u001b[1;33m(\u001b[0m\u001b[0mdriver\u001b[0m\u001b[1;33m)\u001b[0m\u001b[1;33m\u001b[0m\u001b[1;33m\u001b[0m\u001b[0m\n",
      "\u001b[1;32mC:\\Users\\GLEISS~1.SAN\\AppData\\Local\\Temp/ipykernel_7672/3406723603.py\u001b[0m in \u001b[0;36mcampo_material\u001b[1;34m(driver, material1, material2, texto)\u001b[0m\n\u001b[0;32m     65\u001b[0m             \u001b[0mtime\u001b[0m\u001b[1;33m.\u001b[0m\u001b[0msleep\u001b[0m\u001b[1;33m(\u001b[0m\u001b[1;36m1\u001b[0m\u001b[1;33m)\u001b[0m\u001b[1;33m\u001b[0m\u001b[1;33m\u001b[0m\u001b[0m\n\u001b[0;32m     66\u001b[0m             \u001b[0mcampo1\u001b[0m\u001b[1;33m.\u001b[0m\u001b[0msend_keys\u001b[0m\u001b[1;33m(\u001b[0m\u001b[0mmaterial2\u001b[0m\u001b[1;33m)\u001b[0m\u001b[1;33m\u001b[0m\u001b[1;33m\u001b[0m\u001b[0m\n\u001b[1;32m---> 67\u001b[1;33m             \u001b[0mttime\u001b[0m\u001b[1;33m.\u001b[0m\u001b[0msleep\u001b[0m\u001b[1;33m(\u001b[0m\u001b[1;36m2\u001b[0m\u001b[1;33m)\u001b[0m\u001b[1;33m\u001b[0m\u001b[1;33m\u001b[0m\u001b[0m\n\u001b[0m\u001b[0;32m     68\u001b[0m             \u001b[0mdriver\u001b[0m\u001b[1;33m.\u001b[0m\u001b[0mfind_element\u001b[0m\u001b[1;33m(\u001b[0m\u001b[0mBy\u001b[0m\u001b[1;33m.\u001b[0m\u001b[0mXPATH\u001b[0m\u001b[1;33m,\u001b[0m\u001b[1;34m'//*[@class=\"ui-autocomplete-query\"]'\u001b[0m\u001b[1;33m)\u001b[0m\u001b[1;33m.\u001b[0m\u001b[0mclick\u001b[0m\u001b[1;33m(\u001b[0m\u001b[1;33m)\u001b[0m\u001b[1;33m\u001b[0m\u001b[1;33m\u001b[0m\u001b[0m\n\u001b[0;32m     69\u001b[0m         \u001b[1;32melse\u001b[0m\u001b[1;33m:\u001b[0m\u001b[1;33m\u001b[0m\u001b[1;33m\u001b[0m\u001b[0m\n",
      "\u001b[1;31mNameError\u001b[0m: name 'ttime' is not defined"
     ]
    }
   ],
   "source": [
    "geral2()"
   ]
  }
 ],
 "metadata": {
  "kernelspec": {
   "display_name": "Python 3 (ipykernel)",
   "language": "python",
   "name": "python3"
  },
  "language_info": {
   "codemirror_mode": {
    "name": "ipython",
    "version": 3
   },
   "file_extension": ".py",
   "mimetype": "text/x-python",
   "name": "python",
   "nbconvert_exporter": "python",
   "pygments_lexer": "ipython3",
   "version": "3.9.7"
  }
 },
 "nbformat": 4,
 "nbformat_minor": 5
}
