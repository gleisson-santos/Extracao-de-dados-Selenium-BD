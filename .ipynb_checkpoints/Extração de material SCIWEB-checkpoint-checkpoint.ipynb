{
 "cells": [
  {
   "cell_type": "code",
<<<<<<< HEAD
   "execution_count": 75,
=======
   "execution_count": 1,
>>>>>>> 22c60d1bdf226261a05561b435779bb2ea956ffc
   "metadata": {},
   "outputs": [
    {
     "name": "stdout",
     "output_type": "stream",
     "text": [
      "Executado a conexão com o BD......\n"
     ]
    },
    {
     "data": {
      "text/plain": [
<<<<<<< HEAD
       "<pyodbc.Connection at 0x14f7d90cc60>"
      ]
     },
     "execution_count": 75,
=======
       "<pyodbc.Connection at 0x149781459f0>"
      ]
     },
     "execution_count": 1,
>>>>>>> 22c60d1bdf226261a05561b435779bb2ea956ffc
     "metadata": {},
     "output_type": "execute_result"
    }
   ],
   "source": [
    "from selenium import webdriver\n",
    "from selenium.webdriver.common.by import By\n",
    "from selenium.webdriver.support.ui import WebDriverWait\n",
    "from selenium.webdriver.support import expected_conditions as EC\n",
    "from selenium.common.exceptions import NoSuchElementException\n",
    "from selenium.webdriver.chrome.options import Options\n",
    "from webdriver_manager.chrome import ChromeDriverManager\n",
    "import pandas as pd\n",
    "import pyodbc\n",
    "import time\n",
    "\n",
    "def executar_conexao_bd():\n",
    "    server = 'TBDBL-GLEISSON'\n",
    "    database = 'Dados_Pavimento'\n",
    "    username = 'gleisson.santos'\n",
    "    password = '12345'\n",
    "    conexao = pyodbc.connect(\n",
    "        'DRIVER={SQL Server};SERVER=' + server + ';DATABASE=' + database + ';UID=' + username + ';PWD=' + password)\n",
    "    print('Executado a conexão com o BD......')\n",
    "    return conexao\n",
    "\n",
    "cursor = executar_conexao_bd()\n",
    "cursor"
   ]
  },
  {
   "cell_type": "code",
<<<<<<< HEAD
   "execution_count": 76,
=======
   "execution_count": 2,
>>>>>>> 22c60d1bdf226261a05561b435779bb2ea956ffc
   "metadata": {},
   "outputs": [
    {
     "name": "stdout",
     "output_type": "stream",
     "text": [
      "\n"
     ]
    },
    {
     "name": "stderr",
     "output_type": "stream",
     "text": [
      "[WDM] - ====== WebDriver manager ======\n",
      "[WDM] - Current google-chrome version is 111.0.5563\n",
      "[WDM] - Get LATEST chromedriver version for 111.0.5563 google-chrome\n",
<<<<<<< HEAD
      "[WDM] - Driver [C:\\Users\\gleisson.santos\\.wdm\\drivers\\chromedriver\\win32\\111.0.5563.64\\chromedriver.exe] found in cache\n",
      "C:\\Users\\GLEISS~1.SAN\\AppData\\Local\\Temp/ipykernel_1252/3643764433.py:3: DeprecationWarning: executable_path has been deprecated, please pass in a Service object\n",
=======
      "[WDM] - There is no [win32] chromedriver for browser 111.0.5563 in cache\n",
      "[WDM] - About to download new driver from https://chromedriver.storage.googleapis.com/111.0.5563.64/chromedriver_win32.zip\n",
      "[WDM] - Driver has been saved in cache [C:\\Users\\gleisson.santos\\.wdm\\drivers\\chromedriver\\win32\\111.0.5563.64]\n",
      "C:\\Users\\GLEISS~1.SAN\\AppData\\Local\\Temp/ipykernel_18752/3643764433.py:3: DeprecationWarning: executable_path has been deprecated, please pass in a Service object\n",
>>>>>>> 22c60d1bdf226261a05561b435779bb2ea956ffc
      "  driver = webdriver.Chrome(ChromeDriverManager().install())\n"
     ]
    }
   ],
   "source": [
    "options = Options()\n",
    "options.add_argument(\"start-maximized\")\n",
    "driver = webdriver.Chrome(ChromeDriverManager().install())\n",
    "chrome_options = webdriver.ChromeOptions()"
   ]
  },
  {
   "cell_type": "code",
<<<<<<< HEAD
   "execution_count": 77,
=======
   "execution_count": 3,
>>>>>>> 22c60d1bdf226261a05561b435779bb2ea956ffc
   "metadata": {},
   "outputs": [],
   "source": [
    "login = 't034183'\n",
    "senha = 'CNB@2022'\n",
    "driver.get(\"https://sciweb.embasanet.ba.gov.br/sci-web/\")\n",
    "time.sleep(2)\n",
    "\n",
    "# Procurar a tag random do site / Login e senha\n",
    "randomtag = driver.find_element(By.ID, \"random-tag\").get_attribute('value')\n",
    "driver.find_element(By.ID, \"loginForm-usuario-{randomtag}\".format(randomtag=randomtag)).send_keys(login)\n",
    "driver.find_element(By.ID, \"loginForm-senha-{randomtag}\".format(randomtag=randomtag)).send_keys(senha)\n",
    "driver.find_element(By.ID, \"loginForm-submit\").click()\n",
    "time.sleep(2)"
   ]
  },
  {
   "cell_type": "code",
<<<<<<< HEAD
   "execution_count": 78,
=======
   "execution_count": 4,
>>>>>>> 22c60d1bdf226261a05561b435779bb2ea956ffc
   "metadata": {},
   "outputs": [],
   "source": [
    "#tipo: insu, menu: GOSI_anchor - ACESSAR MENU DE INSUMOS\n",
    "def arvore_acesso(driver, tipo, menu ):\n",
    "    # Proc detalhe da Os no campo de buscar\n",
    "    driver.find_element(By.ID, \"arvoreSearch\").send_keys(tipo)\n",
    "    # aguardar ate o elemento aparecer e/ou seguir codigo\n",
    "    wait = WebDriverWait(driver, 5)\n",
    "    element1 = wait.until(EC.element_to_be_clickable((By.ID, menu)))\n",
    "    # acessar Campo detalhe da Os\n",
    "    driver.find_element(By.ID, menu).click()\n",
    "    time.sleep(3)\n",
    "    #acessar camada frame do site\n",
    "    driver.switch_to.frame(\"frame-content\")\n",
    "\n",
    "#ACESSAR MENU PAR EXTRAR INSUMADOS\n",
    "arvore_acesso(driver, 'detalhe', 'DOSE_anchor')"
   ]
  },
  {
   "cell_type": "markdown",
   "metadata": {},
   "source": [
    "####  Acesso ao item \"Detalhes da Os\""
   ]
  },
  {
   "cell_type": "code",
<<<<<<< HEAD
   "execution_count": 79,
=======
   "execution_count": 6,
>>>>>>> 22c60d1bdf226261a05561b435779bb2ea956ffc
   "metadata": {},
   "outputs": [],
   "source": [
    "#Consultar na label Material\n",
    "def preencher_ss(driver, lista, lista2):\n",
    "    driver.find_element(By.XPATH, '//*[@id=\"form-j_idt70-j_idt71-item\"]').clear()\n",
    "    driver.find_element(By.XPATH, '//*[@id=\"form-j_idt70-j_idt79-item\"]').clear()\n",
    "    driver.find_element(By.XPATH, '//*[@id=\"form-j_idt70-j_idt71-item\"]').send_keys(lista)\n",
    "    time.sleep(0.5)\n",
    "    driver.find_element(By.XPATH, '//*[@id=\"form-j_idt70-j_idt79-item\"]').send_keys(lista2)\n",
    "    time.sleep(0.5)\n",
    "    # clinical em buscar\n",
    "    driver.find_element(By.XPATH, '//*[@id=\"form-j_idt70-panel\"]/input').click()\n",
    "    #coletar valor solicitado\n",
    "    \n",
    "    try:\n",
    "        material = driver.find_element(By.CSS_SELECTOR, \"label[title='Material Utilizado'] \").text\n",
    "    except NoSuchElementException:\n",
    "        material = 'None'\n",
    "    \n",
    "    try:\n",
    "        hd = driver.find_element(By.CSS_SELECTOR, \"label[title='Número do HD'] \").text\n",
    "    except NoSuchElementException:\n",
    "        try:\n",
    "            hd = driver.find_element(By.CSS_SELECTOR, \"label[title='Número do HD Instalado'] \").text\n",
    "        except NoSuchElementException:\n",
    "            try:\n",
    "                hd = driver.find_element(By.CSS_SELECTOR, \"label[title='Número do Hidrômetro Instalado'] \").text\n",
    "            except NoSuchElementException:\n",
    "                try:\n",
    "                    hd = driver.find_element(By.CSS_SELECTOR, \"label[title='Número do Hidrômetro'] \").text\n",
    "                except NoSuchElementException:\n",
    "                    try:\n",
    "                        hd = driver.find_element(By.CSS_SELECTOR, \"label[title='Hidrômetro Instalado'] \").text\n",
    "                    except NoSuchElementException:\n",
    "                        hd = None\n",
    "\n",
    "    return material, hd\n"
   ]
  },
  {
   "cell_type": "code",
<<<<<<< HEAD
   "execution_count": 81,
=======
   "execution_count": 7,
>>>>>>> 22c60d1bdf226261a05561b435779bb2ea956ffc
   "metadata": {},
   "outputs": [
    {
     "name": "stdout",
     "output_type": "stream",
     "text": [
      "Executado a conexão com o BD......\n"
     ]
    },
    {
     "data": {
      "text/html": [
       "<div>\n",
       "<style scoped>\n",
       "    .dataframe tbody tr th:only-of-type {\n",
       "        vertical-align: middle;\n",
       "    }\n",
       "\n",
       "    .dataframe tbody tr th {\n",
       "        vertical-align: top;\n",
       "    }\n",
       "\n",
       "    .dataframe thead th {\n",
       "        text-align: right;\n",
       "    }\n",
       "</style>\n",
       "<table border=\"1\" class=\"dataframe\">\n",
       "  <thead>\n",
       "    <tr style=\"text-align: right;\">\n",
       "      <th></th>\n",
       "      <th>SS</th>\n",
       "      <th>OS</th>\n",
       "      <th>Material</th>\n",
       "      <th>Mureta</th>\n",
       "      <th>Hd</th>\n",
       "    </tr>\n",
       "  </thead>\n",
       "  <tbody>\n",
       "    <tr>\n",
       "      <th>0</th>\n",
<<<<<<< HEAD
       "      <td>981026632</td>\n",
       "      <td>2</td>\n",
=======
       "      <td>959723549</td>\n",
       "      <td>1</td>\n",
>>>>>>> 22c60d1bdf226261a05561b435779bb2ea956ffc
       "      <td>None</td>\n",
       "      <td>None</td>\n",
       "      <td>None</td>\n",
       "    </tr>\n",
       "    <tr>\n",
       "      <th>1</th>\n",
<<<<<<< HEAD
       "      <td>980844835</td>\n",
       "      <td>2</td>\n",
=======
       "      <td>959723608</td>\n",
       "      <td>1</td>\n",
>>>>>>> 22c60d1bdf226261a05561b435779bb2ea956ffc
       "      <td>None</td>\n",
       "      <td>None</td>\n",
       "      <td>None</td>\n",
       "    </tr>\n",
       "    <tr>\n",
       "      <th>2</th>\n",
<<<<<<< HEAD
       "      <td>981060895</td>\n",
       "      <td>2</td>\n",
=======
       "      <td>959723941</td>\n",
       "      <td>1</td>\n",
>>>>>>> 22c60d1bdf226261a05561b435779bb2ea956ffc
       "      <td>None</td>\n",
       "      <td>None</td>\n",
       "      <td>None</td>\n",
       "    </tr>\n",
       "    <tr>\n",
       "      <th>3</th>\n",
<<<<<<< HEAD
       "      <td>980947055</td>\n",
       "      <td>2</td>\n",
=======
       "      <td>959724349</td>\n",
       "      <td>1</td>\n",
>>>>>>> 22c60d1bdf226261a05561b435779bb2ea956ffc
       "      <td>None</td>\n",
       "      <td>None</td>\n",
       "      <td>None</td>\n",
       "    </tr>\n",
       "    <tr>\n",
       "      <th>4</th>\n",
<<<<<<< HEAD
       "      <td>980947556</td>\n",
       "      <td>2</td>\n",
=======
       "      <td>959724554</td>\n",
       "      <td>1</td>\n",
>>>>>>> 22c60d1bdf226261a05561b435779bb2ea956ffc
       "      <td>None</td>\n",
       "      <td>None</td>\n",
       "      <td>None</td>\n",
       "    </tr>\n",
       "    <tr>\n",
       "      <th>...</th>\n",
       "      <td>...</td>\n",
       "      <td>...</td>\n",
       "      <td>...</td>\n",
       "      <td>...</td>\n",
       "      <td>...</td>\n",
       "    </tr>\n",
       "    <tr>\n",
<<<<<<< HEAD
       "      <th>110</th>\n",
       "      <td>981374922</td>\n",
=======
       "      <th>38495</th>\n",
       "      <td>959722573</td>\n",
>>>>>>> 22c60d1bdf226261a05561b435779bb2ea956ffc
       "      <td>1</td>\n",
       "      <td>None</td>\n",
       "      <td>None</td>\n",
       "      <td>None</td>\n",
       "    </tr>\n",
       "    <tr>\n",
<<<<<<< HEAD
       "      <th>111</th>\n",
       "      <td>981380933</td>\n",
=======
       "      <th>38496</th>\n",
       "      <td>959722870</td>\n",
>>>>>>> 22c60d1bdf226261a05561b435779bb2ea956ffc
       "      <td>1</td>\n",
       "      <td>None</td>\n",
       "      <td>None</td>\n",
       "      <td>None</td>\n",
       "    </tr>\n",
       "    <tr>\n",
<<<<<<< HEAD
       "      <th>112</th>\n",
       "      <td>981437546</td>\n",
=======
       "      <th>38497</th>\n",
       "      <td>959722965</td>\n",
>>>>>>> 22c60d1bdf226261a05561b435779bb2ea956ffc
       "      <td>1</td>\n",
       "      <td>None</td>\n",
       "      <td>None</td>\n",
       "      <td>None</td>\n",
       "    </tr>\n",
       "    <tr>\n",
<<<<<<< HEAD
       "      <th>113</th>\n",
       "      <td>981437905</td>\n",
=======
       "      <th>38498</th>\n",
       "      <td>959723045</td>\n",
>>>>>>> 22c60d1bdf226261a05561b435779bb2ea956ffc
       "      <td>1</td>\n",
       "      <td>None</td>\n",
       "      <td>None</td>\n",
       "      <td>None</td>\n",
       "    </tr>\n",
       "    <tr>\n",
<<<<<<< HEAD
       "      <th>114</th>\n",
       "      <td>981474104</td>\n",
=======
       "      <th>38499</th>\n",
       "      <td>959723250</td>\n",
>>>>>>> 22c60d1bdf226261a05561b435779bb2ea956ffc
       "      <td>1</td>\n",
       "      <td>None</td>\n",
       "      <td>None</td>\n",
       "      <td>None</td>\n",
       "    </tr>\n",
       "  </tbody>\n",
       "</table>\n",
<<<<<<< HEAD
       "<p>115 rows × 5 columns</p>\n",
       "</div>"
      ],
      "text/plain": [
       "            SS  OS Material Mureta    Hd\n",
       "0    981026632   2     None   None  None\n",
       "1    980844835   2     None   None  None\n",
       "2    981060895   2     None   None  None\n",
       "3    980947055   2     None   None  None\n",
       "4    980947556   2     None   None  None\n",
       "..         ...  ..      ...    ...   ...\n",
       "110  981374922   1     None   None  None\n",
       "111  981380933   1     None   None  None\n",
       "112  981437546   1     None   None  None\n",
       "113  981437905   1     None   None  None\n",
       "114  981474104   1     None   None  None\n",
       "\n",
       "[115 rows x 5 columns]"
=======
       "<p>38500 rows × 5 columns</p>\n",
       "</div>"
      ],
      "text/plain": [
       "              SS  OS Material Mureta    Hd\n",
       "0      959723549   1     None   None  None\n",
       "1      959723608   1     None   None  None\n",
       "2      959723941   1     None   None  None\n",
       "3      959724349   1     None   None  None\n",
       "4      959724554   1     None   None  None\n",
       "...          ...  ..      ...    ...   ...\n",
       "38495  959722573   1     None   None  None\n",
       "38496  959722870   1     None   None  None\n",
       "38497  959722965   1     None   None  None\n",
       "38498  959723045   1     None   None  None\n",
       "38499  959723250   1     None   None  None\n",
       "\n",
       "[38500 rows x 5 columns]"
>>>>>>> 22c60d1bdf226261a05561b435779bb2ea956ffc
      ]
     },
     "metadata": {},
     "output_type": "display_data"
    }
   ],
   "source": [
<<<<<<< HEAD
    "df = pd.read_sql('SELECT * FROM [700_Lauro]', executar_conexao_bd())\n",
=======
    "df = pd.read_sql('SELECT * FROM [- 700Com_material]', executar_conexao_bd())\n",
>>>>>>> 22c60d1bdf226261a05561b435779bb2ea956ffc
    "df = pd.DataFrame(df, columns = ['SS', 'OS', 'Material', 'Mureta','Hd'])\n",
    "#df = df.astype(str)\n",
    "\n",
    "display(df)"
   ]
  },
  {
   "cell_type": "code",
<<<<<<< HEAD
   "execution_count": 82,
   "metadata": {},
   "outputs": [],
=======
   "execution_count": 9,
   "metadata": {
    "collapsed": true
   },
   "outputs": [
    {
     "ename": "NoSuchElementException",
     "evalue": "Message: no such element: Unable to locate element: {\"method\":\"xpath\",\"selector\":\"//*[@id=\"form-j_idt70-j_idt71-item\"]\"}\n  (Session info: chrome=111.0.5563.65)\nStacktrace:\nBacktrace:\n\t(No symbol) [0x00C5DCE3]\n\t(No symbol) [0x00BF39D1]\n\t(No symbol) [0x00B04DA8]\n\t(No symbol) [0x00B3019F]\n\t(No symbol) [0x00B303AB]\n\t(No symbol) [0x00B5EE62]\n\t(No symbol) [0x00B4AF14]\n\t(No symbol) [0x00B5D57C]\n\t(No symbol) [0x00B4ACC6]\n\t(No symbol) [0x00B26F68]\n\t(No symbol) [0x00B280CD]\n\tGetHandleVerifier [0x00ED3832+2506274]\n\tGetHandleVerifier [0x00F09794+2727300]\n\tGetHandleVerifier [0x00F0E36C+2746716]\n\tGetHandleVerifier [0x00D06690+617600]\n\t(No symbol) [0x00BFC712]\n\t(No symbol) [0x00C01FF8]\n\t(No symbol) [0x00C020DB]\n\t(No symbol) [0x00C0C63B]\n\tBaseThreadInitThunk [0x75F600F9+25]\n\tRtlGetAppContainerNamedObjectPath [0x77247BBE+286]\n\tRtlGetAppContainerNamedObjectPath [0x77247B8E+238]\n",
     "output_type": "error",
     "traceback": [
      "\u001b[1;31m---------------------------------------------------------------------------\u001b[0m",
      "\u001b[1;31mNoSuchElementException\u001b[0m                    Traceback (most recent call last)",
      "\u001b[1;32mC:\\Users\\GLEISS~1.SAN\\AppData\\Local\\Temp/ipykernel_18752/4266905092.py\u001b[0m in \u001b[0;36m<module>\u001b[1;34m\u001b[0m\n\u001b[0;32m      3\u001b[0m \u001b[0mhds\u001b[0m \u001b[1;33m=\u001b[0m \u001b[1;33m[\u001b[0m\u001b[1;33m]\u001b[0m\u001b[1;33m\u001b[0m\u001b[1;33m\u001b[0m\u001b[0m\n\u001b[0;32m      4\u001b[0m \u001b[1;32mfor\u001b[0m \u001b[0mi\u001b[0m\u001b[1;33m,\u001b[0m \u001b[0mrow\u001b[0m \u001b[1;32min\u001b[0m \u001b[0mdf\u001b[0m\u001b[1;33m.\u001b[0m\u001b[0miterrows\u001b[0m\u001b[1;33m(\u001b[0m\u001b[1;33m)\u001b[0m\u001b[1;33m:\u001b[0m\u001b[1;33m\u001b[0m\u001b[1;33m\u001b[0m\u001b[0m\n\u001b[1;32m----> 5\u001b[1;33m     \u001b[0ma\u001b[0m \u001b[1;33m=\u001b[0m \u001b[0mpreencher_ss\u001b[0m\u001b[1;33m(\u001b[0m\u001b[0mdriver\u001b[0m\u001b[1;33m,\u001b[0m \u001b[0mrow\u001b[0m\u001b[1;33m[\u001b[0m\u001b[1;34m'SS'\u001b[0m\u001b[1;33m]\u001b[0m\u001b[1;33m,\u001b[0m \u001b[0mrow\u001b[0m\u001b[1;33m[\u001b[0m\u001b[1;34m'OS'\u001b[0m\u001b[1;33m]\u001b[0m\u001b[1;33m)\u001b[0m\u001b[1;33m\u001b[0m\u001b[1;33m\u001b[0m\u001b[0m\n\u001b[0m\u001b[0;32m      6\u001b[0m     \u001b[0mtime\u001b[0m\u001b[1;33m.\u001b[0m\u001b[0msleep\u001b[0m\u001b[1;33m(\u001b[0m\u001b[1;36m0.3\u001b[0m\u001b[1;33m)\u001b[0m\u001b[1;33m\u001b[0m\u001b[1;33m\u001b[0m\u001b[0m\n\u001b[0;32m      7\u001b[0m     \u001b[0mdados\u001b[0m\u001b[1;33m.\u001b[0m\u001b[0mappend\u001b[0m\u001b[1;33m(\u001b[0m\u001b[0ma\u001b[0m\u001b[1;33m[\u001b[0m\u001b[1;36m0\u001b[0m\u001b[1;33m]\u001b[0m\u001b[1;33m)\u001b[0m\u001b[1;33m\u001b[0m\u001b[1;33m\u001b[0m\u001b[0m\n",
      "\u001b[1;32mC:\\Users\\GLEISS~1.SAN\\AppData\\Local\\Temp/ipykernel_18752/3951243455.py\u001b[0m in \u001b[0;36mpreencher_ss\u001b[1;34m(driver, lista, lista2)\u001b[0m\n\u001b[0;32m      1\u001b[0m \u001b[1;31m#Consultar na label Material\u001b[0m\u001b[1;33m\u001b[0m\u001b[1;33m\u001b[0m\u001b[0m\n\u001b[0;32m      2\u001b[0m \u001b[1;32mdef\u001b[0m \u001b[0mpreencher_ss\u001b[0m\u001b[1;33m(\u001b[0m\u001b[0mdriver\u001b[0m\u001b[1;33m,\u001b[0m \u001b[0mlista\u001b[0m\u001b[1;33m,\u001b[0m \u001b[0mlista2\u001b[0m\u001b[1;33m)\u001b[0m\u001b[1;33m:\u001b[0m\u001b[1;33m\u001b[0m\u001b[1;33m\u001b[0m\u001b[0m\n\u001b[1;32m----> 3\u001b[1;33m     \u001b[0mdriver\u001b[0m\u001b[1;33m.\u001b[0m\u001b[0mfind_element\u001b[0m\u001b[1;33m(\u001b[0m\u001b[0mBy\u001b[0m\u001b[1;33m.\u001b[0m\u001b[0mXPATH\u001b[0m\u001b[1;33m,\u001b[0m \u001b[1;34m'//*[@id=\"form-j_idt70-j_idt71-item\"]'\u001b[0m\u001b[1;33m)\u001b[0m\u001b[1;33m.\u001b[0m\u001b[0mclear\u001b[0m\u001b[1;33m(\u001b[0m\u001b[1;33m)\u001b[0m\u001b[1;33m\u001b[0m\u001b[1;33m\u001b[0m\u001b[0m\n\u001b[0m\u001b[0;32m      4\u001b[0m     \u001b[0mdriver\u001b[0m\u001b[1;33m.\u001b[0m\u001b[0mfind_element\u001b[0m\u001b[1;33m(\u001b[0m\u001b[0mBy\u001b[0m\u001b[1;33m.\u001b[0m\u001b[0mXPATH\u001b[0m\u001b[1;33m,\u001b[0m \u001b[1;34m'//*[@id=\"form-j_idt70-j_idt79-item\"]'\u001b[0m\u001b[1;33m)\u001b[0m\u001b[1;33m.\u001b[0m\u001b[0mclear\u001b[0m\u001b[1;33m(\u001b[0m\u001b[1;33m)\u001b[0m\u001b[1;33m\u001b[0m\u001b[1;33m\u001b[0m\u001b[0m\n\u001b[0;32m      5\u001b[0m     \u001b[0mdriver\u001b[0m\u001b[1;33m.\u001b[0m\u001b[0mfind_element\u001b[0m\u001b[1;33m(\u001b[0m\u001b[0mBy\u001b[0m\u001b[1;33m.\u001b[0m\u001b[0mXPATH\u001b[0m\u001b[1;33m,\u001b[0m \u001b[1;34m'//*[@id=\"form-j_idt70-j_idt71-item\"]'\u001b[0m\u001b[1;33m)\u001b[0m\u001b[1;33m.\u001b[0m\u001b[0msend_keys\u001b[0m\u001b[1;33m(\u001b[0m\u001b[0mlista\u001b[0m\u001b[1;33m)\u001b[0m\u001b[1;33m\u001b[0m\u001b[1;33m\u001b[0m\u001b[0m\n",
      "\u001b[1;32m~\\Anaconda3\\lib\\site-packages\\selenium\\webdriver\\remote\\webdriver.py\u001b[0m in \u001b[0;36mfind_element\u001b[1;34m(self, by, value)\u001b[0m\n\u001b[0;32m   1249\u001b[0m             \u001b[0mvalue\u001b[0m \u001b[1;33m=\u001b[0m \u001b[1;34m'[name=\"%s\"]'\u001b[0m \u001b[1;33m%\u001b[0m \u001b[0mvalue\u001b[0m\u001b[1;33m\u001b[0m\u001b[1;33m\u001b[0m\u001b[0m\n\u001b[0;32m   1250\u001b[0m \u001b[1;33m\u001b[0m\u001b[0m\n\u001b[1;32m-> 1251\u001b[1;33m         return self.execute(Command.FIND_ELEMENT, {\n\u001b[0m\u001b[0;32m   1252\u001b[0m             \u001b[1;34m'using'\u001b[0m\u001b[1;33m:\u001b[0m \u001b[0mby\u001b[0m\u001b[1;33m,\u001b[0m\u001b[1;33m\u001b[0m\u001b[1;33m\u001b[0m\u001b[0m\n\u001b[0;32m   1253\u001b[0m             'value': value})['value']\n",
      "\u001b[1;32m~\\Anaconda3\\lib\\site-packages\\selenium\\webdriver\\remote\\webdriver.py\u001b[0m in \u001b[0;36mexecute\u001b[1;34m(self, driver_command, params)\u001b[0m\n\u001b[0;32m    428\u001b[0m         \u001b[0mresponse\u001b[0m \u001b[1;33m=\u001b[0m \u001b[0mself\u001b[0m\u001b[1;33m.\u001b[0m\u001b[0mcommand_executor\u001b[0m\u001b[1;33m.\u001b[0m\u001b[0mexecute\u001b[0m\u001b[1;33m(\u001b[0m\u001b[0mdriver_command\u001b[0m\u001b[1;33m,\u001b[0m \u001b[0mparams\u001b[0m\u001b[1;33m)\u001b[0m\u001b[1;33m\u001b[0m\u001b[1;33m\u001b[0m\u001b[0m\n\u001b[0;32m    429\u001b[0m         \u001b[1;32mif\u001b[0m \u001b[0mresponse\u001b[0m\u001b[1;33m:\u001b[0m\u001b[1;33m\u001b[0m\u001b[1;33m\u001b[0m\u001b[0m\n\u001b[1;32m--> 430\u001b[1;33m             \u001b[0mself\u001b[0m\u001b[1;33m.\u001b[0m\u001b[0merror_handler\u001b[0m\u001b[1;33m.\u001b[0m\u001b[0mcheck_response\u001b[0m\u001b[1;33m(\u001b[0m\u001b[0mresponse\u001b[0m\u001b[1;33m)\u001b[0m\u001b[1;33m\u001b[0m\u001b[1;33m\u001b[0m\u001b[0m\n\u001b[0m\u001b[0;32m    431\u001b[0m             response['value'] = self._unwrap_value(\n\u001b[0;32m    432\u001b[0m                 response.get('value', None))\n",
      "\u001b[1;32m~\\Anaconda3\\lib\\site-packages\\selenium\\webdriver\\remote\\errorhandler.py\u001b[0m in \u001b[0;36mcheck_response\u001b[1;34m(self, response)\u001b[0m\n\u001b[0;32m    245\u001b[0m                 \u001b[0malert_text\u001b[0m \u001b[1;33m=\u001b[0m \u001b[0mvalue\u001b[0m\u001b[1;33m[\u001b[0m\u001b[1;34m'alert'\u001b[0m\u001b[1;33m]\u001b[0m\u001b[1;33m.\u001b[0m\u001b[0mget\u001b[0m\u001b[1;33m(\u001b[0m\u001b[1;34m'text'\u001b[0m\u001b[1;33m)\u001b[0m\u001b[1;33m\u001b[0m\u001b[1;33m\u001b[0m\u001b[0m\n\u001b[0;32m    246\u001b[0m             \u001b[1;32mraise\u001b[0m \u001b[0mexception_class\u001b[0m\u001b[1;33m(\u001b[0m\u001b[0mmessage\u001b[0m\u001b[1;33m,\u001b[0m \u001b[0mscreen\u001b[0m\u001b[1;33m,\u001b[0m \u001b[0mstacktrace\u001b[0m\u001b[1;33m,\u001b[0m \u001b[0malert_text\u001b[0m\u001b[1;33m)\u001b[0m  \u001b[1;31m# type: ignore[call-arg]  # mypy is not smart enough here\u001b[0m\u001b[1;33m\u001b[0m\u001b[1;33m\u001b[0m\u001b[0m\n\u001b[1;32m--> 247\u001b[1;33m         \u001b[1;32mraise\u001b[0m \u001b[0mexception_class\u001b[0m\u001b[1;33m(\u001b[0m\u001b[0mmessage\u001b[0m\u001b[1;33m,\u001b[0m \u001b[0mscreen\u001b[0m\u001b[1;33m,\u001b[0m \u001b[0mstacktrace\u001b[0m\u001b[1;33m)\u001b[0m\u001b[1;33m\u001b[0m\u001b[1;33m\u001b[0m\u001b[0m\n\u001b[0m\u001b[0;32m    248\u001b[0m \u001b[1;33m\u001b[0m\u001b[0m\n\u001b[0;32m    249\u001b[0m     \u001b[1;32mdef\u001b[0m \u001b[0m_value_or_default\u001b[0m\u001b[1;33m(\u001b[0m\u001b[0mself\u001b[0m\u001b[1;33m,\u001b[0m \u001b[0mobj\u001b[0m\u001b[1;33m:\u001b[0m \u001b[0mMapping\u001b[0m\u001b[1;33m[\u001b[0m\u001b[0m_KT\u001b[0m\u001b[1;33m,\u001b[0m \u001b[0m_VT\u001b[0m\u001b[1;33m]\u001b[0m\u001b[1;33m,\u001b[0m \u001b[0mkey\u001b[0m\u001b[1;33m:\u001b[0m \u001b[0m_KT\u001b[0m\u001b[1;33m,\u001b[0m \u001b[0mdefault\u001b[0m\u001b[1;33m:\u001b[0m \u001b[0m_VT\u001b[0m\u001b[1;33m)\u001b[0m \u001b[1;33m->\u001b[0m \u001b[0m_VT\u001b[0m\u001b[1;33m:\u001b[0m\u001b[1;33m\u001b[0m\u001b[1;33m\u001b[0m\u001b[0m\n",
      "\u001b[1;31mNoSuchElementException\u001b[0m: Message: no such element: Unable to locate element: {\"method\":\"xpath\",\"selector\":\"//*[@id=\"form-j_idt70-j_idt71-item\"]\"}\n  (Session info: chrome=111.0.5563.65)\nStacktrace:\nBacktrace:\n\t(No symbol) [0x00C5DCE3]\n\t(No symbol) [0x00BF39D1]\n\t(No symbol) [0x00B04DA8]\n\t(No symbol) [0x00B3019F]\n\t(No symbol) [0x00B303AB]\n\t(No symbol) [0x00B5EE62]\n\t(No symbol) [0x00B4AF14]\n\t(No symbol) [0x00B5D57C]\n\t(No symbol) [0x00B4ACC6]\n\t(No symbol) [0x00B26F68]\n\t(No symbol) [0x00B280CD]\n\tGetHandleVerifier [0x00ED3832+2506274]\n\tGetHandleVerifier [0x00F09794+2727300]\n\tGetHandleVerifier [0x00F0E36C+2746716]\n\tGetHandleVerifier [0x00D06690+617600]\n\t(No symbol) [0x00BFC712]\n\t(No symbol) [0x00C01FF8]\n\t(No symbol) [0x00C020DB]\n\t(No symbol) [0x00C0C63B]\n\tBaseThreadInitThunk [0x75F600F9+25]\n\tRtlGetAppContainerNamedObjectPath [0x77247BBE+286]\n\tRtlGetAppContainerNamedObjectPath [0x77247B8E+238]\n"
     ]
    }
   ],
>>>>>>> 22c60d1bdf226261a05561b435779bb2ea956ffc
   "source": [
    "#Extrair valores e criar coluna Material insumado\n",
    "dados = []\n",
    "hds = []\n",
    "for i, row in df.iterrows():\n",
    "    a = preencher_ss(driver, row['SS'], row['OS'])\n",
    "    time.sleep(0.3)\n",
    "    dados.append(a[0])\n",
    "    hds.append(a[1])\n",
    "df['Material'] = dados\n",
    "df['Hd'] = hds\n"
   ]
  },
  {
   "cell_type": "code",
<<<<<<< HEAD
   "execution_count": 83,
   "metadata": {},
   "outputs": [
    {
     "data": {
      "text/html": [
       "<div>\n",
       "<style scoped>\n",
       "    .dataframe tbody tr th:only-of-type {\n",
       "        vertical-align: middle;\n",
       "    }\n",
       "\n",
       "    .dataframe tbody tr th {\n",
       "        vertical-align: top;\n",
       "    }\n",
       "\n",
       "    .dataframe thead th {\n",
       "        text-align: right;\n",
       "    }\n",
       "</style>\n",
       "<table border=\"1\" class=\"dataframe\">\n",
       "  <thead>\n",
       "    <tr style=\"text-align: right;\">\n",
       "      <th></th>\n",
       "      <th>SS</th>\n",
       "      <th>OS</th>\n",
       "      <th>Material</th>\n",
       "      <th>Mureta</th>\n",
       "      <th>Hd</th>\n",
       "    </tr>\n",
       "  </thead>\n",
       "  <tbody>\n",
       "    <tr>\n",
       "      <th>0</th>\n",
       "      <td>981026632</td>\n",
       "      <td>2</td>\n",
       "      <td>1 FERRULE 1/2 5 METROS TUBO PEAD 20MM 1 REGIST...</td>\n",
       "      <td>None</td>\n",
       "      <td>A22HW0232382</td>\n",
       "    </tr>\n",
       "    <tr>\n",
       "      <th>1</th>\n",
       "      <td>980844835</td>\n",
       "      <td>2</td>\n",
       "      <td>1 colar de 300 1/2 1 adaptador de 20 1/2 1 joe...</td>\n",
       "      <td>None</td>\n",
       "      <td>A22HW0241328</td>\n",
       "    </tr>\n",
       "    <tr>\n",
       "      <th>2</th>\n",
       "      <td>981060895</td>\n",
       "      <td>2</td>\n",
       "      <td>1 hd 1 lacre 1 adaptador de 20 1/2 2 mt de pea...</td>\n",
       "      <td>None</td>\n",
       "      <td>A22HW0232381</td>\n",
       "    </tr>\n",
       "    <tr>\n",
       "      <th>3</th>\n",
       "      <td>980947055</td>\n",
       "      <td>2</td>\n",
       "      <td>4mt de tubo de 20 pead 1 colar de 60 1 registr...</td>\n",
       "      <td>None</td>\n",
       "      <td>A22HW0232014</td>\n",
       "    </tr>\n",
       "    <tr>\n",
       "      <th>4</th>\n",
       "      <td>980947556</td>\n",
       "      <td>2</td>\n",
       "      <td>4mt de tubo de 20 pead 1 colar de 60 1 registr...</td>\n",
       "      <td>None</td>\n",
       "      <td>A22HW0232014</td>\n",
       "    </tr>\n",
       "    <tr>\n",
       "      <th>...</th>\n",
       "      <td>...</td>\n",
       "      <td>...</td>\n",
       "      <td>...</td>\n",
       "      <td>...</td>\n",
       "      <td>...</td>\n",
       "    </tr>\n",
       "    <tr>\n",
       "      <th>110</th>\n",
       "      <td>981374922</td>\n",
       "      <td>1</td>\n",
       "      <td>1 MURETA 4 METROS DE TUBO PEAD DN 20MM. 1 LUVA...</td>\n",
       "      <td>None</td>\n",
       "      <td>A22HW0232383</td>\n",
       "    </tr>\n",
       "    <tr>\n",
       "      <th>111</th>\n",
       "      <td>981380933</td>\n",
       "      <td>1</td>\n",
       "      <td>4 metros de tubo pead DN 20MM 1 luva pead DN 2...</td>\n",
       "      <td>None</td>\n",
       "      <td>A21S120910</td>\n",
       "    </tr>\n",
       "    <tr>\n",
       "      <th>112</th>\n",
       "      <td>981437546</td>\n",
       "      <td>1</td>\n",
       "      <td>10 METROS TUBO PEAD 20MM 1 ADAPTADOR PEAD MACH...</td>\n",
       "      <td>None</td>\n",
       "      <td>None</td>\n",
       "    </tr>\n",
       "    <tr>\n",
       "      <th>113</th>\n",
       "      <td>981437905</td>\n",
       "      <td>1</td>\n",
       "      <td>1 MURETA 1 METRO DE TUBO PEAD DN 20MM. 0,50 CM...</td>\n",
       "      <td>None</td>\n",
       "      <td>A22HW0232385</td>\n",
       "    </tr>\n",
       "    <tr>\n",
       "      <th>114</th>\n",
       "      <td>981474104</td>\n",
       "      <td>1</td>\n",
       "      <td>1 HD VZ 3</td>\n",
       "      <td>None</td>\n",
       "      <td>A22HW0239143</td>\n",
       "    </tr>\n",
       "  </tbody>\n",
       "</table>\n",
       "<p>115 rows × 5 columns</p>\n",
       "</div>"
      ],
      "text/plain": [
       "            SS  OS                                           Material Mureta  \\\n",
       "0    981026632   2  1 FERRULE 1/2 5 METROS TUBO PEAD 20MM 1 REGIST...   None   \n",
       "1    980844835   2  1 colar de 300 1/2 1 adaptador de 20 1/2 1 joe...   None   \n",
       "2    981060895   2  1 hd 1 lacre 1 adaptador de 20 1/2 2 mt de pea...   None   \n",
       "3    980947055   2  4mt de tubo de 20 pead 1 colar de 60 1 registr...   None   \n",
       "4    980947556   2  4mt de tubo de 20 pead 1 colar de 60 1 registr...   None   \n",
       "..         ...  ..                                                ...    ...   \n",
       "110  981374922   1  1 MURETA 4 METROS DE TUBO PEAD DN 20MM. 1 LUVA...   None   \n",
       "111  981380933   1  4 metros de tubo pead DN 20MM 1 luva pead DN 2...   None   \n",
       "112  981437546   1  10 METROS TUBO PEAD 20MM 1 ADAPTADOR PEAD MACH...   None   \n",
       "113  981437905   1  1 MURETA 1 METRO DE TUBO PEAD DN 20MM. 0,50 CM...   None   \n",
       "114  981474104   1                                          1 HD VZ 3   None   \n",
       "\n",
       "               Hd  \n",
       "0    A22HW0232382  \n",
       "1    A22HW0241328  \n",
       "2    A22HW0232381  \n",
       "3    A22HW0232014  \n",
       "4    A22HW0232014  \n",
       "..            ...  \n",
       "110  A22HW0232383  \n",
       "111    A21S120910  \n",
       "112          None  \n",
       "113  A22HW0232385  \n",
       "114  A22HW0239143  \n",
       "\n",
       "[115 rows x 5 columns]"
      ]
     },
     "metadata": {},
     "output_type": "display_data"
    }
   ],
   "source": [
    "display(df)"
   ]
  },
  {
   "cell_type": "code",
   "execution_count": 84,
   "metadata": {},
   "outputs": [
    {
     "data": {
      "text/html": [
       "<div>\n",
       "<style scoped>\n",
       "    .dataframe tbody tr th:only-of-type {\n",
       "        vertical-align: middle;\n",
       "    }\n",
       "\n",
       "    .dataframe tbody tr th {\n",
       "        vertical-align: top;\n",
       "    }\n",
       "\n",
       "    .dataframe thead th {\n",
       "        text-align: right;\n",
       "    }\n",
       "</style>\n",
       "<table border=\"1\" class=\"dataframe\">\n",
       "  <thead>\n",
       "    <tr style=\"text-align: right;\">\n",
       "      <th></th>\n",
       "      <th>SS</th>\n",
       "      <th>OS</th>\n",
       "      <th>Material</th>\n",
       "      <th>Mureta</th>\n",
       "      <th>Hd</th>\n",
       "    </tr>\n",
       "  </thead>\n",
       "  <tbody>\n",
       "    <tr>\n",
       "      <th>6</th>\n",
       "      <td>981187654</td>\n",
       "      <td>2</td>\n",
       "      <td>1 colar 150 5 metros de tubo pead 1 adaptador ...</td>\n",
       "      <td>Sim</td>\n",
       "      <td>A22HW0030303</td>\n",
       "    </tr>\n",
       "    <tr>\n",
       "      <th>7</th>\n",
       "      <td>981484353</td>\n",
       "      <td>1</td>\n",
       "      <td>1 colar de 85 1 adaptador pead 8 metros de tub...</td>\n",
       "      <td>Sim</td>\n",
       "      <td>A22HW0291504</td>\n",
       "    </tr>\n",
       "    <tr>\n",
       "      <th>27</th>\n",
       "      <td>981074348</td>\n",
       "      <td>1</td>\n",
       "      <td>1 mureta 1 registro pead dn 1/2. 1 joelho pead...</td>\n",
       "      <td>Sim</td>\n",
       "      <td>A16S128708</td>\n",
       "    </tr>\n",
       "    <tr>\n",
       "      <th>29</th>\n",
       "      <td>981115629</td>\n",
       "      <td>2</td>\n",
       "      <td>3 METROS DE TUBO AZUL PEAD DN 20MM. 1 COLAT DE...</td>\n",
       "      <td>Sim</td>\n",
       "      <td>A22HW0293290</td>\n",
       "    </tr>\n",
       "    <tr>\n",
       "      <th>30</th>\n",
       "      <td>981115992</td>\n",
       "      <td>2</td>\n",
       "      <td>5 METROS DE TUBO AZUL PEAD DN 20MM. 1 COLAT DE...</td>\n",
       "      <td>Sim</td>\n",
       "      <td>A22HW0293289</td>\n",
       "    </tr>\n",
       "    <tr>\n",
       "      <th>31</th>\n",
       "      <td>981172632</td>\n",
       "      <td>2</td>\n",
       "      <td>3 METROS DE TUBO AZUL PEAD DN 20MM. 1 COLAT DE...</td>\n",
       "      <td>Sim</td>\n",
       "      <td>A22HW0293282</td>\n",
       "    </tr>\n",
       "    <tr>\n",
       "      <th>32</th>\n",
       "      <td>981174726</td>\n",
       "      <td>2</td>\n",
       "      <td>Mureta com tampa 1 registro angular 20×1/2 1hi...</td>\n",
       "      <td>Sim</td>\n",
       "      <td>A22HW0293497</td>\n",
       "    </tr>\n",
       "    <tr>\n",
       "      <th>33</th>\n",
       "      <td>981177171</td>\n",
       "      <td>2</td>\n",
       "      <td>1 mureta com tampa 1joelho pead com rosa 20×1/...</td>\n",
       "      <td>Sim</td>\n",
       "      <td>A22HW0291342</td>\n",
       "    </tr>\n",
       "    <tr>\n",
       "      <th>34</th>\n",
       "      <td>981180598</td>\n",
       "      <td>2</td>\n",
       "      <td>3 METROS DE TUBO AZUL PEAD DN 20MM. 1 COLAT DE...</td>\n",
       "      <td>Sim</td>\n",
       "      <td>A22HW0293281</td>\n",
       "    </tr>\n",
       "    <tr>\n",
       "      <th>38</th>\n",
       "      <td>981263631</td>\n",
       "      <td>1</td>\n",
       "      <td>HIDROMETRO A22HW0291532 - 01 MURETA - 01 JOELH...</td>\n",
       "      <td>Sim</td>\n",
       "      <td>A22HW0291532</td>\n",
       "    </tr>\n",
       "    <tr>\n",
       "      <th>59</th>\n",
       "      <td>981787278</td>\n",
       "      <td>1</td>\n",
       "      <td>1 mureta completa 1 adaptador femea de compres...</td>\n",
       "      <td>Sim</td>\n",
       "      <td></td>\n",
       "    </tr>\n",
       "    <tr>\n",
       "      <th>65</th>\n",
       "      <td>981904383</td>\n",
       "      <td>1</td>\n",
       "      <td>1 MURETA COMPLETA 1 LUVA PVC LR DN 20X1/2. 1 J...</td>\n",
       "      <td>Sim</td>\n",
       "      <td>A22HW0126863</td>\n",
       "    </tr>\n",
       "    <tr>\n",
       "      <th>81</th>\n",
       "      <td>981486155</td>\n",
       "      <td>2</td>\n",
       "      <td>1 Hd VZ 3M. 1 registro restrito 1 capsulane PV...</td>\n",
       "      <td>Sim</td>\n",
       "      <td>A22HW0232251</td>\n",
       "    </tr>\n",
       "    <tr>\n",
       "      <th>82</th>\n",
       "      <td>981487012</td>\n",
       "      <td>2</td>\n",
       "      <td>1 Hd VZ 3M 1 registro restrito pead dn 1/2. 1 ...</td>\n",
       "      <td>Sim</td>\n",
       "      <td>A22HW0232258</td>\n",
       "    </tr>\n",
       "    <tr>\n",
       "      <th>83</th>\n",
       "      <td>981488583</td>\n",
       "      <td>2</td>\n",
       "      <td>1 Hd vz 3m. 1 registro restrito pead dn 20mm 1...</td>\n",
       "      <td>Sim</td>\n",
       "      <td>A22HW0232259</td>\n",
       "    </tr>\n",
       "    <tr>\n",
       "      <th>89</th>\n",
       "      <td>977892673</td>\n",
       "      <td>1</td>\n",
       "      <td>1 MURETA 10 METROS DE TUBO AZUL PEAD DN 20MM. ...</td>\n",
       "      <td>Sim</td>\n",
       "      <td>A22SG0072613</td>\n",
       "    </tr>\n",
       "    <tr>\n",
       "      <th>97</th>\n",
       "      <td>981182096</td>\n",
       "      <td>1</td>\n",
       "      <td>1 MURETA 1 REGISTRO PEAD DN 1/2. 4 JOELHO PVC ...</td>\n",
       "      <td>Sim</td>\n",
       "      <td>A22HW0127643</td>\n",
       "    </tr>\n",
       "    <tr>\n",
       "      <th>98</th>\n",
       "      <td>981182190</td>\n",
       "      <td>1</td>\n",
       "      <td>1 mureta 1 registro pead angular dn 1/2. 4 loe...</td>\n",
       "      <td>Sim</td>\n",
       "      <td>A22HW0127870</td>\n",
       "    </tr>\n",
       "    <tr>\n",
       "      <th>101</th>\n",
       "      <td>981184678</td>\n",
       "      <td>1</td>\n",
       "      <td>1 registro angular pead dn 20mm. 1 capsulame p...</td>\n",
       "      <td>Sim</td>\n",
       "      <td>A22HW0293333</td>\n",
       "    </tr>\n",
       "    <tr>\n",
       "      <th>102</th>\n",
       "      <td>981188016</td>\n",
       "      <td>1</td>\n",
       "      <td>1 MURETA 1 METRO DE TUBO AZUL PEAD DN 20MM. 0,...</td>\n",
       "      <td>Sim</td>\n",
       "      <td></td>\n",
       "    </tr>\n",
       "    <tr>\n",
       "      <th>109</th>\n",
       "      <td>981266166</td>\n",
       "      <td>1</td>\n",
       "      <td>2 joelho pead 20×1/2 3 luvas 20×1/2 1 registro...</td>\n",
       "      <td>Sim</td>\n",
       "      <td>Y20G216357</td>\n",
       "    </tr>\n",
       "    <tr>\n",
       "      <th>110</th>\n",
       "      <td>981374922</td>\n",
       "      <td>1</td>\n",
       "      <td>1 MURETA 4 METROS DE TUBO PEAD DN 20MM. 1 LUVA...</td>\n",
       "      <td>Sim</td>\n",
       "      <td>A22HW0232383</td>\n",
       "    </tr>\n",
       "    <tr>\n",
       "      <th>113</th>\n",
       "      <td>981437905</td>\n",
       "      <td>1</td>\n",
       "      <td>1 MURETA 1 METRO DE TUBO PEAD DN 20MM. 0,50 CM...</td>\n",
       "      <td>Sim</td>\n",
       "      <td>A22HW0232385</td>\n",
       "    </tr>\n",
       "  </tbody>\n",
       "</table>\n",
       "</div>"
      ],
      "text/plain": [
       "            SS OS                                           Material Mureta  \\\n",
       "6    981187654  2  1 colar 150 5 metros de tubo pead 1 adaptador ...    Sim   \n",
       "7    981484353  1  1 colar de 85 1 adaptador pead 8 metros de tub...    Sim   \n",
       "27   981074348  1  1 mureta 1 registro pead dn 1/2. 1 joelho pead...    Sim   \n",
       "29   981115629  2  3 METROS DE TUBO AZUL PEAD DN 20MM. 1 COLAT DE...    Sim   \n",
       "30   981115992  2  5 METROS DE TUBO AZUL PEAD DN 20MM. 1 COLAT DE...    Sim   \n",
       "31   981172632  2  3 METROS DE TUBO AZUL PEAD DN 20MM. 1 COLAT DE...    Sim   \n",
       "32   981174726  2  Mureta com tampa 1 registro angular 20×1/2 1hi...    Sim   \n",
       "33   981177171  2  1 mureta com tampa 1joelho pead com rosa 20×1/...    Sim   \n",
       "34   981180598  2  3 METROS DE TUBO AZUL PEAD DN 20MM. 1 COLAT DE...    Sim   \n",
       "38   981263631  1  HIDROMETRO A22HW0291532 - 01 MURETA - 01 JOELH...    Sim   \n",
       "59   981787278  1  1 mureta completa 1 adaptador femea de compres...    Sim   \n",
       "65   981904383  1  1 MURETA COMPLETA 1 LUVA PVC LR DN 20X1/2. 1 J...    Sim   \n",
       "81   981486155  2  1 Hd VZ 3M. 1 registro restrito 1 capsulane PV...    Sim   \n",
       "82   981487012  2  1 Hd VZ 3M 1 registro restrito pead dn 1/2. 1 ...    Sim   \n",
       "83   981488583  2  1 Hd vz 3m. 1 registro restrito pead dn 20mm 1...    Sim   \n",
       "89   977892673  1  1 MURETA 10 METROS DE TUBO AZUL PEAD DN 20MM. ...    Sim   \n",
       "97   981182096  1  1 MURETA 1 REGISTRO PEAD DN 1/2. 4 JOELHO PVC ...    Sim   \n",
       "98   981182190  1  1 mureta 1 registro pead angular dn 1/2. 4 loe...    Sim   \n",
       "101  981184678  1  1 registro angular pead dn 20mm. 1 capsulame p...    Sim   \n",
       "102  981188016  1  1 MURETA 1 METRO DE TUBO AZUL PEAD DN 20MM. 0,...    Sim   \n",
       "109  981266166  1  2 joelho pead 20×1/2 3 luvas 20×1/2 1 registro...    Sim   \n",
       "110  981374922  1  1 MURETA 4 METROS DE TUBO PEAD DN 20MM. 1 LUVA...    Sim   \n",
       "113  981437905  1  1 MURETA 1 METRO DE TUBO PEAD DN 20MM. 0,50 CM...    Sim   \n",
       "\n",
       "               Hd  \n",
       "6    A22HW0030303  \n",
       "7    A22HW0291504  \n",
       "27     A16S128708  \n",
       "29   A22HW0293290  \n",
       "30   A22HW0293289  \n",
       "31   A22HW0293282  \n",
       "32   A22HW0293497  \n",
       "33   A22HW0291342  \n",
       "34   A22HW0293281  \n",
       "38   A22HW0291532  \n",
       "59                 \n",
       "65   A22HW0126863  \n",
       "81   A22HW0232251  \n",
       "82   A22HW0232258  \n",
       "83   A22HW0232259  \n",
       "89   A22SG0072613  \n",
       "97   A22HW0127643  \n",
       "98   A22HW0127870  \n",
       "101  A22HW0293333  \n",
       "102                \n",
       "109    Y20G216357  \n",
       "110  A22HW0232383  \n",
       "113  A22HW0232385  "
      ]
     },
     "metadata": {},
     "output_type": "display_data"
=======
   "execution_count": 8,
   "metadata": {
    "collapsed": true
   },
   "outputs": [
    {
     "ename": "TypeError",
     "evalue": "argument of type 'NoneType' is not iterable",
     "output_type": "error",
     "traceback": [
      "\u001b[1;31m---------------------------------------------------------------------------\u001b[0m",
      "\u001b[1;31mTypeError\u001b[0m                                 Traceback (most recent call last)",
      "\u001b[1;32mC:\\Users\\GLEISS~1.SAN\\AppData\\Local\\Temp/ipykernel_18752/2007440330.py\u001b[0m in \u001b[0;36m<module>\u001b[1;34m\u001b[0m\n\u001b[0;32m      5\u001b[0m \u001b[1;33m\u001b[0m\u001b[0m\n\u001b[0;32m      6\u001b[0m \u001b[1;32mfor\u001b[0m \u001b[0mi\u001b[0m\u001b[1;33m,\u001b[0m \u001b[0mrow\u001b[0m \u001b[1;32min\u001b[0m \u001b[0mdf\u001b[0m\u001b[1;33m.\u001b[0m\u001b[0miterrows\u001b[0m\u001b[1;33m(\u001b[0m\u001b[1;33m)\u001b[0m\u001b[1;33m:\u001b[0m\u001b[1;33m\u001b[0m\u001b[1;33m\u001b[0m\u001b[0m\n\u001b[1;32m----> 7\u001b[1;33m     \u001b[1;32mif\u001b[0m \u001b[0many\u001b[0m\u001b[1;33m(\u001b[0m\u001b[0mx\u001b[0m \u001b[1;32min\u001b[0m \u001b[0mrow\u001b[0m\u001b[1;33m[\u001b[0m\u001b[1;34m'Material'\u001b[0m\u001b[1;33m]\u001b[0m \u001b[1;32mfor\u001b[0m \u001b[0mx\u001b[0m \u001b[1;32min\u001b[0m \u001b[0mm_encontrado\u001b[0m\u001b[1;33m)\u001b[0m\u001b[1;33m:\u001b[0m\u001b[1;33m\u001b[0m\u001b[1;33m\u001b[0m\u001b[0m\n\u001b[0m\u001b[0;32m      8\u001b[0m         \u001b[0mmaterial\u001b[0m\u001b[1;33m.\u001b[0m\u001b[0mappend\u001b[0m\u001b[1;33m(\u001b[0m\u001b[1;34m'Sim'\u001b[0m\u001b[1;33m)\u001b[0m\u001b[1;33m\u001b[0m\u001b[1;33m\u001b[0m\u001b[0m\n\u001b[0;32m      9\u001b[0m     \u001b[1;32melse\u001b[0m\u001b[1;33m:\u001b[0m\u001b[1;33m\u001b[0m\u001b[1;33m\u001b[0m\u001b[0m\n",
      "\u001b[1;32mC:\\Users\\GLEISS~1.SAN\\AppData\\Local\\Temp/ipykernel_18752/2007440330.py\u001b[0m in \u001b[0;36m<genexpr>\u001b[1;34m(.0)\u001b[0m\n\u001b[0;32m      5\u001b[0m \u001b[1;33m\u001b[0m\u001b[0m\n\u001b[0;32m      6\u001b[0m \u001b[1;32mfor\u001b[0m \u001b[0mi\u001b[0m\u001b[1;33m,\u001b[0m \u001b[0mrow\u001b[0m \u001b[1;32min\u001b[0m \u001b[0mdf\u001b[0m\u001b[1;33m.\u001b[0m\u001b[0miterrows\u001b[0m\u001b[1;33m(\u001b[0m\u001b[1;33m)\u001b[0m\u001b[1;33m:\u001b[0m\u001b[1;33m\u001b[0m\u001b[1;33m\u001b[0m\u001b[0m\n\u001b[1;32m----> 7\u001b[1;33m     \u001b[1;32mif\u001b[0m \u001b[0many\u001b[0m\u001b[1;33m(\u001b[0m\u001b[0mx\u001b[0m \u001b[1;32min\u001b[0m \u001b[0mrow\u001b[0m\u001b[1;33m[\u001b[0m\u001b[1;34m'Material'\u001b[0m\u001b[1;33m]\u001b[0m \u001b[1;32mfor\u001b[0m \u001b[0mx\u001b[0m \u001b[1;32min\u001b[0m \u001b[0mm_encontrado\u001b[0m\u001b[1;33m)\u001b[0m\u001b[1;33m:\u001b[0m\u001b[1;33m\u001b[0m\u001b[1;33m\u001b[0m\u001b[0m\n\u001b[0m\u001b[0;32m      8\u001b[0m         \u001b[0mmaterial\u001b[0m\u001b[1;33m.\u001b[0m\u001b[0mappend\u001b[0m\u001b[1;33m(\u001b[0m\u001b[1;34m'Sim'\u001b[0m\u001b[1;33m)\u001b[0m\u001b[1;33m\u001b[0m\u001b[1;33m\u001b[0m\u001b[0m\n\u001b[0;32m      9\u001b[0m     \u001b[1;32melse\u001b[0m\u001b[1;33m:\u001b[0m\u001b[1;33m\u001b[0m\u001b[1;33m\u001b[0m\u001b[0m\n",
      "\u001b[1;31mTypeError\u001b[0m: argument of type 'NoneType' is not iterable"
     ]
>>>>>>> 22c60d1bdf226261a05561b435779bb2ea956ffc
    }
   ],
   "source": [
    "#Acessar tabela do BD e extrair apenas item do texto\n",
<<<<<<< HEAD
    "m_encontrado = ['Mureta', 'MURETA','mureta']\n",
=======
    "m_encontrado = ['Mureta', 'mureta']\n",
>>>>>>> 22c60d1bdf226261a05561b435779bb2ea956ffc
    "\n",
    "material = []\n",
    "\n",
    "for i, row in df.iterrows():\n",
    "    if any(x in row['Material'] for x in m_encontrado):\n",
    "        material.append('Sim')\n",
    "    else:\n",
    "        material.append('Não')     \n",
    "df['Mureta'] = material\n",
    "\n",
    "\n",
    "df = df.astype(str)\n",
    "df = pd.DataFrame(df, columns = ['SS', 'OS', 'Material', 'Mureta','Hd'])\n",
<<<<<<< HEAD
    "df_sim = df.loc[df['Mureta'] == 'Sim']\n",
    "display(df_sim)\n"
=======
    "#display(df)\n",
    "mureta_df = df[df[\"Material\"].str.contains(\"Mureta|mureta\")]\n",
    "display(mureta_df)"
>>>>>>> 22c60d1bdf226261a05561b435779bb2ea956ffc
   ]
  },
  {
   "cell_type": "code",
<<<<<<< HEAD
   "execution_count": 86,
=======
   "execution_count": 26,
>>>>>>> 22c60d1bdf226261a05561b435779bb2ea956ffc
   "metadata": {},
   "outputs": [],
   "source": [
    "for index, row in df.iterrows():    \n",
    "    ID = row.Material\n",
    "    SS = row.SS\n",
    "    MT = row.Mureta\n",
    "    HD = row.Hd\n",
    "    #comando_sql = (f\"UPDATE [Janeiro26/12-25/01] SET Material='{ID}', Mureta='{MT}', Hd='{HD}' WHERE SS={SS} \")\n",
<<<<<<< HEAD
    "    comando_sql = \"UPDATE [700_Lauro] SET Material='{}', Mureta='{}', Hd='{}' WHERE SS={}\".format(\n",
=======
    "    comando_sql = \"UPDATE [Insumar] SET Material='{}', Mureta='{}', Hd='{}' WHERE SS={}\".format(\n",
>>>>>>> 22c60d1bdf226261a05561b435779bb2ea956ffc
    "    ID.replace(\"'\", \"''\"), MT.replace(\"'\", \"''\"), HD.replace(\"'\", \"''\"), SS)  \n",
    "    cursor.execute(comando_sql)\n",
    "    \n",
    "cursor.commit()"
   ]
  },
  {
   "cell_type": "code",
   "execution_count": 2,
   "metadata": {},
   "outputs": [],
   "source": [
    "#Limpar colunas do Banco de dados;\n",
    "#delete_query = f\"DELETE FROM {table_name}\"\n",
    "#df = df.astype(str)\n",
    "#df = pd.DataFrame(df, columns=['SS', 'OS', 'Matutilizado', 'Hdutilizado', 'Usoumureta'])\n",
    "\n",
    "#cursor = executar_conexao_bd().cursor()\n",
    "#for index, row in df.iterrows():\n",
    "    #Mat = row.Matutilizado\n",
    "    #HD  = row.Hdutilizado\n",
    "    #INS = row.Usoumureta\n",
    "    #SS  = row.SS\n",
    "    #comando_sql = (f\"UPDATE Material SET Matutilizado='NULL', Hdutilizado='NULL', Usoumureta='NULL' WHERE SS ={SS}\")\n",
    "    #cursor.execute(comando_sql)\n",
    "    \n",
    "#cursor.commit()\n",
    "#cursor.close()"
   ]
  }
 ],
 "metadata": {
  "kernelspec": {
   "display_name": "Python 3 (ipykernel)",
   "language": "python",
   "name": "python3"
  },
  "language_info": {
   "codemirror_mode": {
    "name": "ipython",
    "version": 3
   },
   "file_extension": ".py",
   "mimetype": "text/x-python",
   "name": "python",
   "nbconvert_exporter": "python",
   "pygments_lexer": "ipython3",
<<<<<<< HEAD
   "version": "3.9.7"
=======
   "version": "3.9.12"
>>>>>>> 22c60d1bdf226261a05561b435779bb2ea956ffc
  }
 },
 "nbformat": 4,
 "nbformat_minor": 4
}
