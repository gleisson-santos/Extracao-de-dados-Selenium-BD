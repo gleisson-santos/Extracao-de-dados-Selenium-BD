{
 "cells": [
  {
   "cell_type": "code",
   "execution_count": 81,
   "id": "d7f43394",
   "metadata": {},
   "outputs": [],
   "source": [
    "#Iniciando modulos\n",
    "from selenium import webdriver\n",
    "from selenium.webdriver.common.keys import Keys\n",
    "from selenium.webdriver.common.by import By\n",
    "from selenium.webdriver.support.ui import WebDriverWait\n",
    "from selenium.webdriver.support import expected_conditions as EC\n",
    "from selenium.common.exceptions import NoSuchElementException\n",
    "from selenium.webdriver.chrome.options import Options\n",
    "from webdriver_manager.chrome import ChromeDriverManager\n",
    "from selenium.webdriver.support.select import Select\n",
    "import pandas as pd\n",
    "import pyodbc\n",
    "import time\n"
   ]
  },
  {
   "cell_type": "code",
   "execution_count": 2,
   "id": "36081375",
   "metadata": {},
   "outputs": [
    {
     "name": "stdout",
     "output_type": "stream",
     "text": [
      "Executado a conexão com o BD......\n"
     ]
    },
    {
     "data": {
      "text/plain": [
       "<pyodbc.Connection at 0x2316c713e00>"
      ]
     },
     "execution_count": 2,
     "metadata": {},
     "output_type": "execute_result"
    }
   ],
   "source": [
    "#Acesso ao banco de dados\n",
    "def executar_conexao_bd():\n",
    "    server = 'DESKTOP-0P0H9IO'\n",
    "    database = 'Dados_Pavimento'\n",
    "    #username = 'gleisson.santos'\n",
    "    #password = '12345'\n",
    "    conexao = pyodbc.connect(\n",
    "        'DRIVER={SQL Server};SERVER=' + server + ';DATABASE=' + database)\n",
    "        #'DRIVER={SQL Server};SERVER=' + server + ';DATABASE=' + database + ';UID=' + username + ';PWD=' + password)\n",
    "    print('Executado a conexão com o BD......')\n",
    "    return conexao\n",
    "\n",
    "cursor = executar_conexao_bd()\n",
    "cursor"
   ]
  },
  {
   "cell_type": "code",
   "execution_count": 3,
   "id": "b698ae1c",
   "metadata": {},
   "outputs": [
    {
     "name": "stdout",
     "output_type": "stream",
     "text": [
      "Executado a conexão com o BD......\n"
     ]
    },
    {
     "name": "stderr",
     "output_type": "stream",
     "text": [
      "C:\\Users\\55719\\anaconda3\\lib\\site-packages\\pandas\\io\\sql.py:761: UserWarning: pandas only support SQLAlchemy connectable(engine/connection) ordatabase string URI or sqlite3 DBAPI2 connectionother DBAPI2 objects are not tested, please consider using SQLAlchemy\n",
      "  warnings.warn(\n"
     ]
    },
    {
     "data": {
      "text/html": [
       "<div>\n",
       "<style scoped>\n",
       "    .dataframe tbody tr th:only-of-type {\n",
       "        vertical-align: middle;\n",
       "    }\n",
       "\n",
       "    .dataframe tbody tr th {\n",
       "        vertical-align: top;\n",
       "    }\n",
       "\n",
       "    .dataframe thead th {\n",
       "        text-align: right;\n",
       "    }\n",
       "</style>\n",
       "<table border=\"1\" class=\"dataframe\">\n",
       "  <thead>\n",
       "    <tr style=\"text-align: right;\">\n",
       "      <th></th>\n",
       "      <th>SS</th>\n",
       "      <th>OS</th>\n",
       "    </tr>\n",
       "  </thead>\n",
       "  <tbody>\n",
       "    <tr>\n",
       "      <th>0</th>\n",
       "      <td>981026632</td>\n",
       "      <td>2</td>\n",
       "    </tr>\n",
       "    <tr>\n",
       "      <th>1</th>\n",
       "      <td>980844835</td>\n",
       "      <td>2</td>\n",
       "    </tr>\n",
       "    <tr>\n",
       "      <th>2</th>\n",
       "      <td>981060895</td>\n",
       "      <td>2</td>\n",
       "    </tr>\n",
       "    <tr>\n",
       "      <th>3</th>\n",
       "      <td>980947055</td>\n",
       "      <td>2</td>\n",
       "    </tr>\n",
       "    <tr>\n",
       "      <th>4</th>\n",
       "      <td>980947556</td>\n",
       "      <td>2</td>\n",
       "    </tr>\n",
       "    <tr>\n",
       "      <th>5</th>\n",
       "      <td>981193404</td>\n",
       "      <td>2</td>\n",
       "    </tr>\n",
       "    <tr>\n",
       "      <th>6</th>\n",
       "      <td>981646791</td>\n",
       "      <td>2</td>\n",
       "    </tr>\n",
       "    <tr>\n",
       "      <th>7</th>\n",
       "      <td>981479215</td>\n",
       "      <td>2</td>\n",
       "    </tr>\n",
       "    <tr>\n",
       "      <th>8</th>\n",
       "      <td>981452768</td>\n",
       "      <td>2</td>\n",
       "    </tr>\n",
       "    <tr>\n",
       "      <th>9</th>\n",
       "      <td>981100043</td>\n",
       "      <td>2</td>\n",
       "    </tr>\n",
       "  </tbody>\n",
       "</table>\n",
       "</div>"
      ],
      "text/plain": [
       "          SS  OS\n",
       "0  981026632   2\n",
       "1  980844835   2\n",
       "2  981060895   2\n",
       "3  980947055   2\n",
       "4  980947556   2\n",
       "5  981193404   2\n",
       "6  981646791   2\n",
       "7  981479215   2\n",
       "8  981452768   2\n",
       "9  981100043   2"
      ]
     },
     "metadata": {},
     "output_type": "display_data"
    }
   ],
   "source": [
    "df = pd.read_sql('SELECT * FROM [700]', executar_conexao_bd())\n",
    "df = pd.DataFrame(df, columns = ['SS', 'OS'])\n",
    "#df = df.astype(str)\n",
    "\n",
    "display(df)"
   ]
  },
  {
   "cell_type": "code",
   "execution_count": 67,
   "id": "c816402c",
   "metadata": {},
   "outputs": [
    {
     "name": "stdout",
     "output_type": "stream",
     "text": [
      "\n"
     ]
    },
    {
     "name": "stderr",
     "output_type": "stream",
     "text": [
      "[WDM] - ====== WebDriver manager ======\n",
      "[WDM] - Current google-chrome version is 111.0.5563\n",
      "[WDM] - Get LATEST chromedriver version for 111.0.5563 google-chrome\n",
      "[WDM] - Driver [C:\\Users\\55719\\.wdm\\drivers\\chromedriver\\win32\\111.0.5563.64\\chromedriver.exe] found in cache\n",
      "C:\\Users\\55719\\AppData\\Local\\Temp\\ipykernel_13640\\4068665143.py:4: DeprecationWarning: executable_path has been deprecated, please pass in a Service object\n",
      "  driver = webdriver.Chrome(ChromeDriverManager().install())\n"
     ]
    }
   ],
   "source": [
    "#Inicinado automação / abrindo navegador\n",
    "options = Options()\n",
    "options.add_argument(\"start-maximized\")\n",
    "driver = webdriver.Chrome(ChromeDriverManager().install())\n",
    "chrome_options = webdriver.ChromeOptions()"
   ]
  },
  {
   "cell_type": "code",
   "execution_count": 68,
   "id": "9aefd81c",
   "metadata": {},
   "outputs": [],
   "source": [
    "login = 't034183'\n",
    "senha = 'CNB@2022'\n",
    "driver.get(\"https://sciweb.embasanet.ba.gov.br/sci-web/\")\n",
    "time.sleep(2)\n",
    "\n",
    "# Procurar a tag random do site / Login e senha\n",
    "randomtag = driver.find_element(By.ID, \"random-tag\").get_attribute('value')\n",
    "driver.find_element(By.ID, \"loginForm-usuario-{randomtag}\".format(randomtag=randomtag)).send_keys(login)\n",
    "driver.find_element(By.ID, \"loginForm-senha-{randomtag}\".format(randomtag=randomtag)).send_keys(senha)\n",
    "driver.find_element(By.ID, \"loginForm-submit\").click()\n",
    "time.sleep(2)"
   ]
  },
  {
   "cell_type": "code",
   "execution_count": 69,
   "id": "7a52746e",
   "metadata": {},
   "outputs": [],
   "source": [
    "#tipo: insu, menu: GOSI_anchor - ACESSAR MENU DE INSUMOS\n",
    "def arvore_acesso(driver, tipo, menu ):\n",
    "    # Proc detalhe da Os no campo de buscar\n",
    "    driver.find_element(By.ID, \"arvoreSearch\").send_keys(tipo)\n",
    "    # aguardar ate o elemento aparecer e/ou seguir codigo\n",
    "    wait = WebDriverWait(driver, 5)\n",
    "    element1 = wait.until(EC.element_to_be_clickable((By.ID, menu)))\n",
    "    # acessar Campo detalhe da Os\n",
    "    driver.find_element(By.ID, menu).click()\n",
    "    time.sleep(2)\n",
    "    #acessar camada frame do site\n",
    "    driver.switch_to.frame(\"frame-content\")\n",
    "\n",
    "#ACESSAR MENU PAR EXTRAR INSUMADOS\n",
    "arvore_acesso(driver, 'insum', 'GOSI_anchor')"
   ]
  },
  {
   "cell_type": "code",
   "execution_count": 72,
   "id": "64346ca7",
   "metadata": {},
   "outputs": [],
   "source": [
    "itens = ['INTDIG01 - LUVA PVC JS 40MM', 'INTDIG01 - JOELHO 90 PVC C/ANEL 100MM ESG PRED']"
   ]
  },
  {
   "cell_type": "code",
   "execution_count": 22,
   "id": "19f077be",
   "metadata": {},
   "outputs": [],
   "source": [
    "#Consultar na label Material\n",
    "def preencher_ss(driver, lista, lista2):\n",
    "    driver.find_element(By.XPATH, '//*[@id=\"form-j_idt71-j_idt72-item\"]').clear()\n",
    "    driver.find_element(By.XPATH, '//*[@id=\"form-j_idt71-j_idt80-item\"]').clear()\n",
    "    \n",
    "    driver.find_element(By.XPATH, '//*[@id=\"form-j_idt71-j_idt72-item\"]').send_keys(lista)\n",
    "    time.sleep(0.5)\n",
    "    driver.find_element(By.XPATH, '//*[@id=\"form-j_idt71-j_idt80-item\"]').send_keys(lista2)\n",
    "    time.sleep(0.5)\n",
    "    # clinical em buscar\n",
    "    driver.find_element(By.XPATH, '//*[@id=\"form-j_idt71-panel\"]/input').click()\n",
    "    \n",
    "#preencher_ss(driver, '980844835', '2')"
   ]
  },
  {
   "cell_type": "code",
   "execution_count": 74,
   "id": "0e937aa3",
   "metadata": {},
   "outputs": [],
   "source": [
    "for i, row in df.iterrows():\n",
    "    preencher_ss(driver, str(row['SS']), str(row['OS']))\n",
    "    time.sleep(0.3)"
   ]
  },
  {
   "cell_type": "code",
   "execution_count": 93,
   "id": "0482e973",
   "metadata": {},
   "outputs": [],
   "source": [
    "#Acessando e inserindo material\n",
    "def campo_material(driver, material):\n",
    "    campo1 = driver.find_element(By.XPATH,'//*[@id=\"form-cpnlAssociarInsumo-tmpCodigoAutoComp-codAutoComp_input\"]')\n",
    "    campo1.click()\n",
    "    time.sleep(0.4)\n",
    "    campo1.clear()\n",
    "    time.sleep(0.5)\n",
    "    campo1.send_keys(material)\n",
    "    time.sleep(1)\n",
    "    campo1.send_keys(Keys.RETURN)\n",
    "    time.sleep(0.5)\n",
    "\n",
    "    \n",
    "#campo_material(driver, itens)"
   ]
  },
  {
   "cell_type": "code",
   "execution_count": 83,
   "id": "c0ba0e00",
   "metadata": {},
   "outputs": [
    {
     "name": "stdout",
     "output_type": "stream",
     "text": [
      "Ok\n",
      "Ok\n"
     ]
    }
   ],
   "source": [
    "for item in itens:\n",
    "    campo_material(driver, item)  \n",
    "    print('Ok')"
   ]
  },
  {
   "cell_type": "code",
   "execution_count": 95,
   "id": "88d0731f",
   "metadata": {},
   "outputs": [],
   "source": [
    "#Acessando e inserindo quantidade e medir\n",
    "def campo_quantidade(driver, qtd, medir):\n",
    "    campo2 = driver.find_element(By.XPATH, '//*[@id=\"form-cpnlAssociarInsumo-quantidade-item\"]')\n",
    "    campo2.click()\n",
    "    campo2.clear()\n",
    "    campo2.send_keys(qtd)\n",
    "    time.sleep(0.5)\n",
    "    #Acessando e inserindo Disp p medir S/N\n",
    "    select_element = driver.find_element(By.ID, 'form-cpnlAssociarInsumo-j_idt290-comboBooleanSN-item')\n",
    "    select = Select(select_element)\n",
    "    select.select_by_value(medir)\n",
    "    # select.select_by_visible_text('Não')\n",
    "    time.sleep(0.5)\n",
    "    #Confirar insumo\n",
    "    driver.find_element(By.XPATH,'//*[@id=\"form-cpnlAssociarInsumo-confirmar\"]').click()\n",
    "    \n",
    "#campo_quantidade(driver, '3', 'N')"
   ]
  },
  {
   "cell_type": "code",
   "execution_count": null,
   "id": "ac4acd6d",
   "metadata": {},
   "outputs": [],
   "source": [
    "for index, row in df.iterrows():    \n",
    "    ID = row.Material\n",
    "    SS = row.SS\n",
    "    MT = row.Mureta\n",
    "    HD = row.Hd\n",
    "    #comando_sql = (f\"UPDATE [Janeiro26/12-25/01] SET Material='{ID}', Mureta='{MT}', Hd='{HD}' WHERE SS={SS} \")\n",
    "    comando_sql = \"UPDATE [Insumar] SET Material='{}', Mureta='{}', Hd='{}' WHERE SS={}\".format(\n",
    "    ID.replace(\"'\", \"''\"), MT.replace(\"'\", \"''\"), HD.replace(\"'\", \"''\"), SS)  \n",
    "    cursor.execute(comando_sql)\n",
    "    \n",
    "cursor.commit()"
   ]
  },
  {
   "cell_type": "code",
   "execution_count": 104,
   "id": "8a6a11cf",
   "metadata": {},
   "outputs": [],
   "source": [
    "def geral():\n",
    "    #Inicinado automação / abrindo navegador\n",
    "    options = Options()\n",
    "    options.add_argument(\"start-maximized\")\n",
    "    driver = webdriver.Chrome(ChromeDriverManager().install())\n",
    "    chrome_options = webdriver.ChromeOptions()\n",
    "    time.sleep(1)\n",
    "    \n",
    "    login = 't034183'\n",
    "    senha = 'CNB@2022'\n",
    "    driver.get(\"https://sciweb.embasanet.ba.gov.br/sci-web/\")\n",
    "    time.sleep(1)\n",
    "      \n",
    "\n",
    "    # Procurar a tag random do site / Login e senha\n",
    "    randomtag = driver.find_element(By.ID, \"random-tag\").get_attribute('value')\n",
    "    driver.find_element(By.ID, \"loginForm-usuario-{randomtag}\".format(randomtag=randomtag)).send_keys(login)\n",
    "    driver.find_element(By.ID, \"loginForm-senha-{randomtag}\".format(randomtag=randomtag)).send_keys(senha)\n",
    "    driver.find_element(By.ID, \"loginForm-submit\").click()\n",
    "    time.sleep(1)\n",
    "    \n",
    "    arvore_acesso(driver, 'insum', 'GOSI_anchor')\n",
    "    time.sleep(1)\n",
    "    \n",
    "    itens = ['INTDIG01 - LUVA PVC JS 40MM', 'INTDIG01 - JOELHO 90 PVC C/ANEL 100MM ESG PRED']\n",
    "\n",
    "    \n",
    "    for i, row in df.iterrows():\n",
    "        preencher_ss(driver, str(row['SS']), str(row['OS']))\n",
    "        time.sleep(1)\n",
    "        for item in itens:\n",
    "            campo_material(driver, item)            \n",
    "            time.sleep(1)\n",
    "            campo_quantidade(driver, '3', 'N')\n",
    "            time.sleep(1)\n",
    "            print(\"Materiais insumados com sucesso! :)\")\n",
    "   \n",
    "    "
   ]
  },
  {
   "cell_type": "code",
   "execution_count": 97,
   "id": "d4227bc8",
   "metadata": {
    "collapsed": true
   },
   "outputs": [
    {
     "name": "stdout",
     "output_type": "stream",
     "text": [
      "\n"
     ]
    },
    {
     "name": "stderr",
     "output_type": "stream",
     "text": [
      "[WDM] - ====== WebDriver manager ======\n",
      "[WDM] - Current google-chrome version is 111.0.5563\n",
      "[WDM] - Get LATEST chromedriver version for 111.0.5563 google-chrome\n",
      "[WDM] - Driver [C:\\Users\\55719\\.wdm\\drivers\\chromedriver\\win32\\111.0.5563.64\\chromedriver.exe] found in cache\n",
      "C:\\Users\\55719\\AppData\\Local\\Temp\\ipykernel_13640\\3367846092.py:5: DeprecationWarning: executable_path has been deprecated, please pass in a Service object\n",
      "  driver = webdriver.Chrome(ChromeDriverManager().install())\n"
     ]
    },
    {
     "name": "stdout",
     "output_type": "stream",
     "text": [
      "INTDIG01 - LUVA PVC JS 40MM\n",
      "Materiais insumados com sucesso! :)\n",
      "INTDIG01 - JOELHO 90 PVC C/ANEL 100MM ESG PRED\n",
      "Materiais insumados com sucesso! :)\n",
      "INTDIG01 - LUVA PVC JS 40MM\n",
      "Materiais insumados com sucesso! :)\n",
      "INTDIG01 - JOELHO 90 PVC C/ANEL 100MM ESG PRED\n",
      "Materiais insumados com sucesso! :)\n",
      "INTDIG01 - LUVA PVC JS 40MM\n",
      "Materiais insumados com sucesso! :)\n",
      "INTDIG01 - JOELHO 90 PVC C/ANEL 100MM ESG PRED\n",
      "Materiais insumados com sucesso! :)\n",
      "INTDIG01 - LUVA PVC JS 40MM\n",
      "Materiais insumados com sucesso! :)\n",
      "INTDIG01 - JOELHO 90 PVC C/ANEL 100MM ESG PRED\n",
      "Materiais insumados com sucesso! :)\n",
      "INTDIG01 - LUVA PVC JS 40MM\n",
      "Materiais insumados com sucesso! :)\n",
      "INTDIG01 - JOELHO 90 PVC C/ANEL 100MM ESG PRED\n",
      "Materiais insumados com sucesso! :)\n",
      "INTDIG01 - LUVA PVC JS 40MM\n",
      "Materiais insumados com sucesso! :)\n",
      "INTDIG01 - JOELHO 90 PVC C/ANEL 100MM ESG PRED\n",
      "Materiais insumados com sucesso! :)\n",
      "INTDIG01 - LUVA PVC JS 40MM\n",
      "Materiais insumados com sucesso! :)\n",
      "INTDIG01 - JOELHO 90 PVC C/ANEL 100MM ESG PRED\n",
      "Materiais insumados com sucesso! :)\n",
      "INTDIG01 - LUVA PVC JS 40MM\n",
      "Materiais insumados com sucesso! :)\n",
      "INTDIG01 - JOELHO 90 PVC C/ANEL 100MM ESG PRED\n",
      "Materiais insumados com sucesso! :)\n",
      "INTDIG01 - LUVA PVC JS 40MM\n",
      "Materiais insumados com sucesso! :)\n",
      "INTDIG01 - JOELHO 90 PVC C/ANEL 100MM ESG PRED\n",
      "Materiais insumados com sucesso! :)\n",
      "INTDIG01 - LUVA PVC JS 40MM\n",
      "Materiais insumados com sucesso! :)\n",
      "INTDIG01 - JOELHO 90 PVC C/ANEL 100MM ESG PRED\n",
      "Materiais insumados com sucesso! :)\n"
     ]
    }
   ],
   "source": [
    "geral()"
   ]
  },
  {
   "cell_type": "code",
   "execution_count": 125,
   "id": "d50e4b0f",
   "metadata": {},
   "outputs": [],
   "source": [
    "def login(driver, user, senha):\n",
    "    \n",
    "    # Esperar pela tag random do site / Login e senha\n",
    "    randomtag = driver.find_element(By.ID, \"random-tag\").get_attribute('value')\n",
    "    driver.find_element(By.ID, \"loginForm-usuario-{randomtag}\".format(randomtag=randomtag)).send_keys(user)\n",
    "    driver.find_element(By.ID, \"loginForm-senha-{randomtag}\".format(randomtag=randomtag)).send_keys(senha)\n",
    "    driver.find_element(By.ID, \"loginForm-submit\").click()\n",
    "    time.sleep(0.5)\n",
    "\n",
    "def geral2():\n",
    "    #Iniciando automação / abrindo navegador\n",
    "    options = Options()\n",
    "    options.add_argument(\"start-maximized\")\n",
    "    driver = webdriver.Chrome(ChromeDriverManager().install())\n",
    "    chrome_options = webdriver.ChromeOptions()\n",
    "    time.sleep(0.5)\n",
    "    \n",
    "    user = 't034183'\n",
    "    senha = 'CNB@2022'\n",
    "    driver.get(\"https://sciweb.embasanet.ba.gov.br/sci-web/\")\n",
    "    time.sleep(0.5)\n",
    "    \n",
    "    login(driver, user, senha)\n",
    "    \n",
    "    arvore_acesso(driver, 'insum', 'GOSI_anchor')\n",
    "    time.sleep(1)\n",
    "    \n",
    "    itens = ['INTDIG01 - LUVA PVC JS 40MM', 'INTDIG01 - JOELHO 90 PVC C/ANEL 100MM ESG PRED']\n",
    "    \n",
    "    contador = 0\n",
    "\n",
    "    for i, row in df.iterrows():\n",
    "        preencher_ss(driver, str(row['SS']), str(row['OS']))\n",
    "        time.sleep(1)\n",
    "        for item in itens:\n",
    "            campo_material(driver, item)            \n",
    "            time.sleep(0.5)\n",
    "            campo_quantidade(driver, 3, 'N')\n",
    "            time.sleep(0.5)\n",
    "            contador += 1\n",
    "\n",
    "    print(f\"{contador} Ss(s) insumada(s) com sucesso!\")\n",
    "\n"
   ]
  },
  {
   "cell_type": "code",
   "execution_count": 126,
   "id": "5fbe15f4",
   "metadata": {
    "collapsed": true
   },
   "outputs": [
    {
     "name": "stdout",
     "output_type": "stream",
     "text": [
      "\n"
     ]
    },
    {
     "name": "stderr",
     "output_type": "stream",
     "text": [
      "[WDM] - ====== WebDriver manager ======\n",
      "[WDM] - Current google-chrome version is 111.0.5563\n",
      "[WDM] - Get LATEST chromedriver version for 111.0.5563 google-chrome\n",
      "[WDM] - Driver [C:\\Users\\55719\\.wdm\\drivers\\chromedriver\\win32\\111.0.5563.64\\chromedriver.exe] found in cache\n",
      "C:\\Users\\55719\\AppData\\Local\\Temp\\ipykernel_13640\\1875679427.py:14: DeprecationWarning: executable_path has been deprecated, please pass in a Service object\n",
      "  driver = webdriver.Chrome(ChromeDriverManager().install())\n"
     ]
    },
    {
     "ename": "NoSuchWindowException",
     "evalue": "Message: no such window: target window already closed\nfrom unknown error: web view not found\n  (Session info: chrome=111.0.5563.66)\nStacktrace:\nBacktrace:\n\t(No symbol) [0x006BDCE3]\n\t(No symbol) [0x006539D1]\n\t(No symbol) [0x00564DA8]\n\t(No symbol) [0x0054D0D3]\n\t(No symbol) [0x005AEA8B]\n\t(No symbol) [0x005BD093]\n\t(No symbol) [0x005AACC6]\n\t(No symbol) [0x00586F68]\n\t(No symbol) [0x005880CD]\n\tGetHandleVerifier [0x00933832+2506274]\n\tGetHandleVerifier [0x00969794+2727300]\n\tGetHandleVerifier [0x0096E36C+2746716]\n\tGetHandleVerifier [0x00766690+617600]\n\t(No symbol) [0x0065C712]\n\t(No symbol) [0x00661FF8]\n\t(No symbol) [0x006620DB]\n\t(No symbol) [0x0066C63B]\n\tBaseThreadInitThunk [0x76DC00F9+25]\n\tRtlGetAppContainerNamedObjectPath [0x77437BBE+286]\n\tRtlGetAppContainerNamedObjectPath [0x77437B8E+238]\n",
     "output_type": "error",
     "traceback": [
      "\u001b[1;31m---------------------------------------------------------------------------\u001b[0m",
      "\u001b[1;31mNoSuchWindowException\u001b[0m                     Traceback (most recent call last)",
      "Input \u001b[1;32mIn [126]\u001b[0m, in \u001b[0;36m<cell line: 1>\u001b[1;34m()\u001b[0m\n\u001b[1;32m----> 1\u001b[0m \u001b[43mgeral2\u001b[49m\u001b[43m(\u001b[49m\u001b[43m)\u001b[49m\n",
      "Input \u001b[1;32mIn [125]\u001b[0m, in \u001b[0;36mgeral2\u001b[1;34m()\u001b[0m\n\u001b[0;32m     36\u001b[0m campo_material(driver, item)            \n\u001b[0;32m     37\u001b[0m time\u001b[38;5;241m.\u001b[39msleep(\u001b[38;5;241m0.5\u001b[39m)\n\u001b[1;32m---> 38\u001b[0m \u001b[43mcampo_quantidade\u001b[49m\u001b[43m(\u001b[49m\u001b[43mdriver\u001b[49m\u001b[43m,\u001b[49m\u001b[43m \u001b[49m\u001b[38;5;241;43m3\u001b[39;49m\u001b[43m,\u001b[49m\u001b[43m \u001b[49m\u001b[38;5;124;43m'\u001b[39;49m\u001b[38;5;124;43mN\u001b[39;49m\u001b[38;5;124;43m'\u001b[39;49m\u001b[43m)\u001b[49m\n\u001b[0;32m     39\u001b[0m time\u001b[38;5;241m.\u001b[39msleep(\u001b[38;5;241m0.5\u001b[39m)\n\u001b[0;32m     40\u001b[0m contador \u001b[38;5;241m+\u001b[39m\u001b[38;5;241m=\u001b[39m \u001b[38;5;241m1\u001b[39m\n",
      "Input \u001b[1;32mIn [95]\u001b[0m, in \u001b[0;36mcampo_quantidade\u001b[1;34m(driver, qtd, medir)\u001b[0m\n\u001b[0;32m      2\u001b[0m \u001b[38;5;28;01mdef\u001b[39;00m \u001b[38;5;21mcampo_quantidade\u001b[39m(driver, qtd, medir):\n\u001b[1;32m----> 3\u001b[0m     campo2 \u001b[38;5;241m=\u001b[39m \u001b[43mdriver\u001b[49m\u001b[38;5;241;43m.\u001b[39;49m\u001b[43mfind_element\u001b[49m\u001b[43m(\u001b[49m\u001b[43mBy\u001b[49m\u001b[38;5;241;43m.\u001b[39;49m\u001b[43mXPATH\u001b[49m\u001b[43m,\u001b[49m\u001b[43m \u001b[49m\u001b[38;5;124;43m'\u001b[39;49m\u001b[38;5;124;43m//*[@id=\u001b[39;49m\u001b[38;5;124;43m\"\u001b[39;49m\u001b[38;5;124;43mform-cpnlAssociarInsumo-quantidade-item\u001b[39;49m\u001b[38;5;124;43m\"\u001b[39;49m\u001b[38;5;124;43m]\u001b[39;49m\u001b[38;5;124;43m'\u001b[39;49m\u001b[43m)\u001b[49m\n\u001b[0;32m      4\u001b[0m     campo2\u001b[38;5;241m.\u001b[39mclick()\n\u001b[0;32m      5\u001b[0m     campo2\u001b[38;5;241m.\u001b[39mclear()\n",
      "File \u001b[1;32m~\\anaconda3\\lib\\site-packages\\selenium\\webdriver\\remote\\webdriver.py:1251\u001b[0m, in \u001b[0;36mWebDriver.find_element\u001b[1;34m(self, by, value)\u001b[0m\n\u001b[0;32m   1248\u001b[0m     by \u001b[38;5;241m=\u001b[39m By\u001b[38;5;241m.\u001b[39mCSS_SELECTOR\n\u001b[0;32m   1249\u001b[0m     value \u001b[38;5;241m=\u001b[39m \u001b[38;5;124m'\u001b[39m\u001b[38;5;124m[name=\u001b[39m\u001b[38;5;124m\"\u001b[39m\u001b[38;5;132;01m%s\u001b[39;00m\u001b[38;5;124m\"\u001b[39m\u001b[38;5;124m]\u001b[39m\u001b[38;5;124m'\u001b[39m \u001b[38;5;241m%\u001b[39m value\n\u001b[1;32m-> 1251\u001b[0m \u001b[38;5;28;01mreturn\u001b[39;00m \u001b[38;5;28;43mself\u001b[39;49m\u001b[38;5;241;43m.\u001b[39;49m\u001b[43mexecute\u001b[49m\u001b[43m(\u001b[49m\u001b[43mCommand\u001b[49m\u001b[38;5;241;43m.\u001b[39;49m\u001b[43mFIND_ELEMENT\u001b[49m\u001b[43m,\u001b[49m\u001b[43m \u001b[49m\u001b[43m{\u001b[49m\n\u001b[0;32m   1252\u001b[0m \u001b[43m    \u001b[49m\u001b[38;5;124;43m'\u001b[39;49m\u001b[38;5;124;43musing\u001b[39;49m\u001b[38;5;124;43m'\u001b[39;49m\u001b[43m:\u001b[49m\u001b[43m \u001b[49m\u001b[43mby\u001b[49m\u001b[43m,\u001b[49m\n\u001b[0;32m   1253\u001b[0m \u001b[43m    \u001b[49m\u001b[38;5;124;43m'\u001b[39;49m\u001b[38;5;124;43mvalue\u001b[39;49m\u001b[38;5;124;43m'\u001b[39;49m\u001b[43m:\u001b[49m\u001b[43m \u001b[49m\u001b[43mvalue\u001b[49m\u001b[43m}\u001b[49m\u001b[43m)\u001b[49m[\u001b[38;5;124m'\u001b[39m\u001b[38;5;124mvalue\u001b[39m\u001b[38;5;124m'\u001b[39m]\n",
      "File \u001b[1;32m~\\anaconda3\\lib\\site-packages\\selenium\\webdriver\\remote\\webdriver.py:430\u001b[0m, in \u001b[0;36mWebDriver.execute\u001b[1;34m(self, driver_command, params)\u001b[0m\n\u001b[0;32m    428\u001b[0m response \u001b[38;5;241m=\u001b[39m \u001b[38;5;28mself\u001b[39m\u001b[38;5;241m.\u001b[39mcommand_executor\u001b[38;5;241m.\u001b[39mexecute(driver_command, params)\n\u001b[0;32m    429\u001b[0m \u001b[38;5;28;01mif\u001b[39;00m response:\n\u001b[1;32m--> 430\u001b[0m     \u001b[38;5;28;43mself\u001b[39;49m\u001b[38;5;241;43m.\u001b[39;49m\u001b[43merror_handler\u001b[49m\u001b[38;5;241;43m.\u001b[39;49m\u001b[43mcheck_response\u001b[49m\u001b[43m(\u001b[49m\u001b[43mresponse\u001b[49m\u001b[43m)\u001b[49m\n\u001b[0;32m    431\u001b[0m     response[\u001b[38;5;124m'\u001b[39m\u001b[38;5;124mvalue\u001b[39m\u001b[38;5;124m'\u001b[39m] \u001b[38;5;241m=\u001b[39m \u001b[38;5;28mself\u001b[39m\u001b[38;5;241m.\u001b[39m_unwrap_value(\n\u001b[0;32m    432\u001b[0m         response\u001b[38;5;241m.\u001b[39mget(\u001b[38;5;124m'\u001b[39m\u001b[38;5;124mvalue\u001b[39m\u001b[38;5;124m'\u001b[39m, \u001b[38;5;28;01mNone\u001b[39;00m))\n\u001b[0;32m    433\u001b[0m     \u001b[38;5;28;01mreturn\u001b[39;00m response\n",
      "File \u001b[1;32m~\\anaconda3\\lib\\site-packages\\selenium\\webdriver\\remote\\errorhandler.py:247\u001b[0m, in \u001b[0;36mErrorHandler.check_response\u001b[1;34m(self, response)\u001b[0m\n\u001b[0;32m    245\u001b[0m         alert_text \u001b[38;5;241m=\u001b[39m value[\u001b[38;5;124m'\u001b[39m\u001b[38;5;124malert\u001b[39m\u001b[38;5;124m'\u001b[39m]\u001b[38;5;241m.\u001b[39mget(\u001b[38;5;124m'\u001b[39m\u001b[38;5;124mtext\u001b[39m\u001b[38;5;124m'\u001b[39m)\n\u001b[0;32m    246\u001b[0m     \u001b[38;5;28;01mraise\u001b[39;00m exception_class(message, screen, stacktrace, alert_text)  \u001b[38;5;66;03m# type: ignore[call-arg]  # mypy is not smart enough here\u001b[39;00m\n\u001b[1;32m--> 247\u001b[0m \u001b[38;5;28;01mraise\u001b[39;00m exception_class(message, screen, stacktrace)\n",
      "\u001b[1;31mNoSuchWindowException\u001b[0m: Message: no such window: target window already closed\nfrom unknown error: web view not found\n  (Session info: chrome=111.0.5563.66)\nStacktrace:\nBacktrace:\n\t(No symbol) [0x006BDCE3]\n\t(No symbol) [0x006539D1]\n\t(No symbol) [0x00564DA8]\n\t(No symbol) [0x0054D0D3]\n\t(No symbol) [0x005AEA8B]\n\t(No symbol) [0x005BD093]\n\t(No symbol) [0x005AACC6]\n\t(No symbol) [0x00586F68]\n\t(No symbol) [0x005880CD]\n\tGetHandleVerifier [0x00933832+2506274]\n\tGetHandleVerifier [0x00969794+2727300]\n\tGetHandleVerifier [0x0096E36C+2746716]\n\tGetHandleVerifier [0x00766690+617600]\n\t(No symbol) [0x0065C712]\n\t(No symbol) [0x00661FF8]\n\t(No symbol) [0x006620DB]\n\t(No symbol) [0x0066C63B]\n\tBaseThreadInitThunk [0x76DC00F9+25]\n\tRtlGetAppContainerNamedObjectPath [0x77437BBE+286]\n\tRtlGetAppContainerNamedObjectPath [0x77437B8E+238]\n"
     ]
    }
   ],
   "source": [
    "geral2()"
   ]
  }
 ],
 "metadata": {
  "kernelspec": {
   "display_name": "Python 3 (ipykernel)",
   "language": "python",
   "name": "python3"
  },
  "language_info": {
   "codemirror_mode": {
    "name": "ipython",
    "version": 3
   },
   "file_extension": ".py",
   "mimetype": "text/x-python",
   "name": "python",
   "nbconvert_exporter": "python",
   "pygments_lexer": "ipython3",
   "version": "3.9.12"
  }
 },
 "nbformat": 4,
 "nbformat_minor": 5
}
