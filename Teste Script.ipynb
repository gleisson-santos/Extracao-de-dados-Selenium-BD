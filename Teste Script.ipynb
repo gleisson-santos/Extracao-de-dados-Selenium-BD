{
 "cells": [
  {
   "cell_type": "code",
   "execution_count": 90,
   "id": "d7f43394",
   "metadata": {},
   "outputs": [],
   "source": [
    "#Iniciando modulos\n",
    "from selenium import webdriver\n",
    "from selenium.webdriver.common.keys import Keys\n",
    "from selenium.webdriver.common.by import By\n",
    "from selenium.webdriver.support.ui import WebDriverWait\n",
    "from selenium.webdriver.support import expected_conditions as EC\n",
    "from selenium.common.exceptions import NoSuchElementException\n",
    "from selenium.webdriver.chrome.options import Options\n",
    "from webdriver_manager.chrome import ChromeDriverManager\n",
    "from selenium.webdriver.support.select import Select\n",
    "import pandas as pd\n",
    "import pyodbc\n",
    "import time\n",
    "import re\n"
   ]
  },
  {
   "cell_type": "code",
   "execution_count": 5,
   "id": "36081375",
   "metadata": {
    "collapsed": true
   },
   "outputs": [
    {
     "ename": "SystemError",
     "evalue": "<class 'pyodbc.Error'> returned a result with an error set",
     "output_type": "error",
     "traceback": [
      "\u001b[1;31m---------------------------------------------------------------------------\u001b[0m",
      "\u001b[1;31mKeyboardInterrupt\u001b[0m                         Traceback (most recent call last)",
      "\u001b[1;32m~\\Anaconda3\\lib\\encodings\\utf_16_le.py\u001b[0m in \u001b[0;36mdecode\u001b[1;34m(input, errors)\u001b[0m\n\u001b[0;32m     14\u001b[0m \u001b[1;33m\u001b[0m\u001b[0m\n\u001b[1;32m---> 15\u001b[1;33m \u001b[1;32mdef\u001b[0m \u001b[0mdecode\u001b[0m\u001b[1;33m(\u001b[0m\u001b[0minput\u001b[0m\u001b[1;33m,\u001b[0m \u001b[0merrors\u001b[0m\u001b[1;33m=\u001b[0m\u001b[1;34m'strict'\u001b[0m\u001b[1;33m)\u001b[0m\u001b[1;33m:\u001b[0m\u001b[1;33m\u001b[0m\u001b[1;33m\u001b[0m\u001b[0m\n\u001b[0m\u001b[0;32m     16\u001b[0m     \u001b[1;32mreturn\u001b[0m \u001b[0mcodecs\u001b[0m\u001b[1;33m.\u001b[0m\u001b[0mutf_16_le_decode\u001b[0m\u001b[1;33m(\u001b[0m\u001b[0minput\u001b[0m\u001b[1;33m,\u001b[0m \u001b[0merrors\u001b[0m\u001b[1;33m,\u001b[0m \u001b[1;32mTrue\u001b[0m\u001b[1;33m)\u001b[0m\u001b[1;33m\u001b[0m\u001b[1;33m\u001b[0m\u001b[0m\n",
      "\u001b[1;31mKeyboardInterrupt\u001b[0m: ",
      "\nThe above exception was the direct cause of the following exception:\n",
      "\u001b[1;31mKeyboardInterrupt\u001b[0m                         Traceback (most recent call last)",
      "\u001b[1;31mKeyboardInterrupt\u001b[0m: decoding with 'utf-16le' codec failed (KeyboardInterrupt: )",
      "\nThe above exception was the direct cause of the following exception:\n",
      "\u001b[1;31mSystemError\u001b[0m                               Traceback (most recent call last)",
      "\u001b[1;32mC:\\Users\\GLEISS~1.SAN\\AppData\\Local\\Temp/ipykernel_3244/1458219309.py\u001b[0m in \u001b[0;36m<module>\u001b[1;34m\u001b[0m\n\u001b[0;32m     10\u001b[0m     \u001b[1;32mreturn\u001b[0m \u001b[0mconexao\u001b[0m\u001b[1;33m\u001b[0m\u001b[1;33m\u001b[0m\u001b[0m\n\u001b[0;32m     11\u001b[0m \u001b[1;33m\u001b[0m\u001b[0m\n\u001b[1;32m---> 12\u001b[1;33m \u001b[0mcursor\u001b[0m \u001b[1;33m=\u001b[0m \u001b[0mexecutar_conexao_bd\u001b[0m\u001b[1;33m(\u001b[0m\u001b[1;33m)\u001b[0m\u001b[1;33m\u001b[0m\u001b[1;33m\u001b[0m\u001b[0m\n\u001b[0m\u001b[0;32m     13\u001b[0m \u001b[0mcursor\u001b[0m\u001b[1;33m\u001b[0m\u001b[1;33m\u001b[0m\u001b[0m\n",
      "\u001b[1;32mC:\\Users\\GLEISS~1.SAN\\AppData\\Local\\Temp/ipykernel_3244/1458219309.py\u001b[0m in \u001b[0;36mexecutar_conexao_bd\u001b[1;34m()\u001b[0m\n\u001b[0;32m      5\u001b[0m     \u001b[0musername\u001b[0m \u001b[1;33m=\u001b[0m \u001b[1;34m'gleisson.santos'\u001b[0m\u001b[1;33m\u001b[0m\u001b[1;33m\u001b[0m\u001b[0m\n\u001b[0;32m      6\u001b[0m     \u001b[0mpassword\u001b[0m \u001b[1;33m=\u001b[0m \u001b[1;34m'12345'\u001b[0m\u001b[1;33m\u001b[0m\u001b[1;33m\u001b[0m\u001b[0m\n\u001b[1;32m----> 7\u001b[1;33m     conexao = pyodbc.connect(\n\u001b[0m\u001b[0;32m      8\u001b[0m         'DRIVER={SQL Server};SERVER=' + server + ';DATABASE=' + database + ';UID=' + username + ';PWD=' + password)\n\u001b[0;32m      9\u001b[0m     \u001b[0mprint\u001b[0m\u001b[1;33m(\u001b[0m\u001b[1;34m'Executado a conexão com o BD......'\u001b[0m\u001b[1;33m)\u001b[0m\u001b[1;33m\u001b[0m\u001b[1;33m\u001b[0m\u001b[0m\n",
      "\u001b[1;31mSystemError\u001b[0m: <class 'pyodbc.Error'> returned a result with an error set"
     ]
    }
   ],
   "source": [
    "#Acesso ao banco de dados\n",
    "def executar_conexao_bd():\n",
    "    server = 'DESKTOP-0P0H9IO'\n",
    "    database = 'Dados_Pavimento'\n",
    "    #username = 'gleisson.santos'\n",
    "    #password = '12345'\n",
    "    conexao = pyodbc.connect(\n",
    "        'DRIVER={SQL Server};SERVER=' + server + ';DATABASE=' + database)\n",
    "        #'DRIVER={SQL Server};SERVER=' + server + ';DATABASE=' + database + ';UID=' + username + ';PWD=' + password)\n",
    "    print('Executado a conexão com o BD......')\n",
    "    return conexao\n",
    "\n",
    "cursor = executar_conexao_bd()\n",
    "cursor"
   ]
  },
  {
   "cell_type": "code",
   "execution_count": 6,
   "id": "671de11f",
   "metadata": {},
   "outputs": [
    {
     "name": "stdout",
     "output_type": "stream",
     "text": [
      "Executado a conexão com o BD......\n"
     ]
    },
    {
     "data": {
      "text/plain": [
       "<pyodbc.Connection at 0x14d34e09370>"
      ]
     },
     "execution_count": 6,
     "metadata": {},
     "output_type": "execute_result"
    }
   ],
   "source": [
    "#Acesso ao banco de dados\n",
    "def executar_conexao_bd():\n",
    "    server = 'TBDBL-GLEISSON'\n",
    "    database = 'Dados_Pavimento'\n",
    "    username = 'gleisson.santos'\n",
    "    password = '12345'\n",
    "    conexao = pyodbc.connect(\n",
    "        #'DRIVER={SQL Server};SERVER=' + server + ';DATABASE=' + database)\n",
    "        'DRIVER={SQL Server};SERVER=' + server + ';DATABASE=' + database + ';UID=' + username + ';PWD=' + password)\n",
    "    print('Executado a conexão com o BD......')\n",
    "    return conexao\n",
    "\n",
    "cursor = executar_conexao_bd()\n",
    "cursor"
   ]
  },
  {
   "cell_type": "code",
   "execution_count": 72,
   "id": "9b83c855",
   "metadata": {
    "scrolled": false
   },
   "outputs": [
    {
     "name": "stdout",
     "output_type": "stream",
     "text": [
      "Executado a conexão com o BD......\n"
     ]
    },
    {
     "data": {
      "text/html": [
       "<div>\n",
       "<style scoped>\n",
       "    .dataframe tbody tr th:only-of-type {\n",
       "        vertical-align: middle;\n",
       "    }\n",
       "\n",
       "    .dataframe tbody tr th {\n",
       "        vertical-align: top;\n",
       "    }\n",
       "\n",
       "    .dataframe thead th {\n",
       "        text-align: right;\n",
       "    }\n",
       "</style>\n",
       "<table border=\"1\" class=\"dataframe\">\n",
       "  <thead>\n",
       "    <tr style=\"text-align: right;\">\n",
       "      <th></th>\n",
       "      <th>SS</th>\n",
       "      <th>OS</th>\n",
       "      <th>Tipo</th>\n",
       "      <th>Serviço</th>\n",
       "      <th>Ano</th>\n",
       "    </tr>\n",
       "  </thead>\n",
       "  <tbody>\n",
       "    <tr>\n",
       "      <th>8854</th>\n",
       "      <td>950327746</td>\n",
       "      <td>1</td>\n",
       "      <td>26 - MANUTENCAO DE HIDROMETRO</td>\n",
       "      <td>12 - SUBSTITUICAO HID.</td>\n",
       "      <td>2020</td>\n",
       "    </tr>\n",
       "    <tr>\n",
       "      <th>8858</th>\n",
       "      <td>950331729</td>\n",
       "      <td>1</td>\n",
       "      <td>26 - MANUTENCAO DE HIDROMETRO</td>\n",
       "      <td>12 - SUBSTITUICAO HID.</td>\n",
       "      <td>2020</td>\n",
       "    </tr>\n",
       "    <tr>\n",
       "      <th>8861</th>\n",
       "      <td>951743416</td>\n",
       "      <td>1</td>\n",
       "      <td>26 - MANUTENCAO DE HIDROMETRO</td>\n",
       "      <td>12 - SUBSTITUICAO HID.</td>\n",
       "      <td>2020</td>\n",
       "    </tr>\n",
       "    <tr>\n",
       "      <th>8863</th>\n",
       "      <td>953725963</td>\n",
       "      <td>1</td>\n",
       "      <td>26 - MANUTENCAO DE HIDROMETRO</td>\n",
       "      <td>766 - REV HIDROMETRO PARADO</td>\n",
       "      <td>2020</td>\n",
       "    </tr>\n",
       "    <tr>\n",
       "      <th>8864</th>\n",
       "      <td>953725964</td>\n",
       "      <td>1</td>\n",
       "      <td>26 - MANUTENCAO DE HIDROMETRO</td>\n",
       "      <td>766 - REV HIDROMETRO PARADO</td>\n",
       "      <td>2020</td>\n",
       "    </tr>\n",
       "    <tr>\n",
       "      <th>...</th>\n",
       "      <td>...</td>\n",
       "      <td>...</td>\n",
       "      <td>...</td>\n",
       "      <td>...</td>\n",
       "      <td>...</td>\n",
       "    </tr>\n",
       "    <tr>\n",
       "      <th>16329</th>\n",
       "      <td>978970982</td>\n",
       "      <td>1</td>\n",
       "      <td>26 - MANUTENCAO DE HIDROMETRO</td>\n",
       "      <td>12 - SUBSTITUICAO HID.</td>\n",
       "      <td>2022</td>\n",
       "    </tr>\n",
       "    <tr>\n",
       "      <th>16330</th>\n",
       "      <td>978971018</td>\n",
       "      <td>1</td>\n",
       "      <td>26 - MANUTENCAO DE HIDROMETRO</td>\n",
       "      <td>12 - SUBSTITUICAO HID.</td>\n",
       "      <td>2022</td>\n",
       "    </tr>\n",
       "    <tr>\n",
       "      <th>16331</th>\n",
       "      <td>978971045</td>\n",
       "      <td>1</td>\n",
       "      <td>26 - MANUTENCAO DE HIDROMETRO</td>\n",
       "      <td>12 - SUBSTITUICAO HID.</td>\n",
       "      <td>2022</td>\n",
       "    </tr>\n",
       "    <tr>\n",
       "      <th>16332</th>\n",
       "      <td>978971157</td>\n",
       "      <td>1</td>\n",
       "      <td>26 - MANUTENCAO DE HIDROMETRO</td>\n",
       "      <td>12 - SUBSTITUICAO HID.</td>\n",
       "      <td>2022</td>\n",
       "    </tr>\n",
       "    <tr>\n",
       "      <th>16333</th>\n",
       "      <td>978971211</td>\n",
       "      <td>1</td>\n",
       "      <td>26 - MANUTENCAO DE HIDROMETRO</td>\n",
       "      <td>12 - SUBSTITUICAO HID.</td>\n",
       "      <td>2022</td>\n",
       "    </tr>\n",
       "  </tbody>\n",
       "</table>\n",
       "<p>6215 rows × 5 columns</p>\n",
       "</div>"
      ],
      "text/plain": [
       "              SS  OS                           Tipo  \\\n",
       "8854   950327746   1  26 - MANUTENCAO DE HIDROMETRO   \n",
       "8858   950331729   1  26 - MANUTENCAO DE HIDROMETRO   \n",
       "8861   951743416   1  26 - MANUTENCAO DE HIDROMETRO   \n",
       "8863   953725963   1  26 - MANUTENCAO DE HIDROMETRO   \n",
       "8864   953725964   1  26 - MANUTENCAO DE HIDROMETRO   \n",
       "...          ...  ..                            ...   \n",
       "16329  978970982   1  26 - MANUTENCAO DE HIDROMETRO   \n",
       "16330  978971018   1  26 - MANUTENCAO DE HIDROMETRO   \n",
       "16331  978971045   1  26 - MANUTENCAO DE HIDROMETRO   \n",
       "16332  978971157   1  26 - MANUTENCAO DE HIDROMETRO   \n",
       "16333  978971211   1  26 - MANUTENCAO DE HIDROMETRO   \n",
       "\n",
       "                           Serviço   Ano  \n",
       "8854        12 - SUBSTITUICAO HID.  2020  \n",
       "8858        12 - SUBSTITUICAO HID.  2020  \n",
       "8861        12 - SUBSTITUICAO HID.  2020  \n",
       "8863   766 - REV HIDROMETRO PARADO  2020  \n",
       "8864   766 - REV HIDROMETRO PARADO  2020  \n",
       "...                            ...   ...  \n",
       "16329       12 - SUBSTITUICAO HID.  2022  \n",
       "16330       12 - SUBSTITUICAO HID.  2022  \n",
       "16331       12 - SUBSTITUICAO HID.  2022  \n",
       "16332       12 - SUBSTITUICAO HID.  2022  \n",
       "16333       12 - SUBSTITUICAO HID.  2022  \n",
       "\n",
       "[6215 rows x 5 columns]"
      ]
     },
     "metadata": {},
     "output_type": "display_data"
    },
    {
     "name": "stdout",
     "output_type": "stream",
     "text": [
      "Número de linhas:  6215\n"
     ]
    }
   ],
   "source": [
    "df = pd.read_sql('SELECT * FROM [Hds700]', executar_conexao_bd())\n",
    "df = pd.DataFrame(df, columns = ['SS', 'OS','Tipo', 'Serviço','Ano'])\n",
    "#df = df.astype(str)\n",
    "\n",
    "# Filtra as linhas onde \"Tipo\" é igual a \"26 - MANUTENCAO DE HIDROMETRO\" e \"Serviço\" é igual a \"12 - SUBSTITUICAO HID.\" OU \"766 - REV HIDROMETRO PARADO\"\n",
    "df = df.loc[(df['Tipo'] == '26 - MANUTENCAO DE HIDROMETRO') & ((df['Serviço'] == '12 - SUBSTITUICAO HID.') | (df['Serviço'] == '766 - REV HIDROMETRO PARADO'))]\n",
    "\n",
    "# Seleciona apenas a coluna \"Serviço\"\n",
    "\n",
    "display(df)\n",
    "n_linhas = len(df)\n",
    "print(\"Número de linhas: \", n_linhas)\n",
    "\n"
   ]
  },
  {
   "cell_type": "code",
   "execution_count": 81,
   "id": "c816402c",
   "metadata": {},
   "outputs": [
    {
     "name": "stdout",
     "output_type": "stream",
     "text": [
      "\n"
     ]
    },
    {
     "name": "stderr",
     "output_type": "stream",
     "text": [
      "[WDM] - ====== WebDriver manager ======\n",
      "[WDM] - Current google-chrome version is 111.0.5563\n",
      "[WDM] - Get LATEST chromedriver version for 111.0.5563 google-chrome\n",
      "[WDM] - About to download new driver from https://chromedriver.storage.googleapis.com/111.0.5563.64/chromedriver_win32.zip\n",
      "[WDM] - Driver has been saved in cache [C:\\Users\\gleisson.santos\\.wdm\\drivers\\chromedriver\\win32\\111.0.5563.64]\n",
      "C:\\Users\\GLEISS~1.SAN\\AppData\\Local\\Temp/ipykernel_3244/3751352982.py:4: DeprecationWarning: executable_path has been deprecated, please pass in a Service object\n",
      "  driver = webdriver.Chrome(ChromeDriverManager().install())\n"
     ]
    }
   ],
   "source": [
    "#Inicinado automação / abrindo navegador\n",
    "options = Options()\n",
    "options.add_argument(\"start-maximized\")\n",
    "driver = webdriver.Chrome(ChromeDriverManager().install())\n",
    "chrome_options = webdriver.ChromeOptions()"
   ]
  },
  {
   "cell_type": "code",
   "execution_count": 82,
   "id": "9aefd81c",
   "metadata": {},
   "outputs": [],
   "source": [
    "login = 't034183'\n",
    "senha = 'CNB@2022'\n",
    "driver.get(\"https://sciweb.embasanet.ba.gov.br/sci-web/\")\n",
    "time.sleep(2)\n",
    "\n",
    "# Procurar a tag random do site / Login e senha\n",
    "randomtag = driver.find_element(By.ID, \"random-tag\").get_attribute('value')\n",
    "driver.find_element(By.ID, \"loginForm-usuario-{randomtag}\".format(randomtag=randomtag)).send_keys(login)\n",
    "driver.find_element(By.ID, \"loginForm-senha-{randomtag}\".format(randomtag=randomtag)).send_keys(senha)\n",
    "driver.find_element(By.ID, \"loginForm-submit\").click()\n",
    "time.sleep(2)"
   ]
  },
  {
   "cell_type": "code",
   "execution_count": 83,
   "id": "7a52746e",
   "metadata": {},
   "outputs": [],
   "source": [
    "#tipo: insu, menu: GOSI_anchor - ACESSAR MENU DE INSUMOS\n",
    "def arvore_acesso(driver, tipo, menu ):\n",
    "    # Proc detalhe da Os no campo de buscar\n",
    "    driver.find_element(By.ID, \"arvoreSearch\").send_keys(tipo)\n",
    "    # aguardar ate o elemento aparecer e/ou seguir codigo\n",
    "    wait = WebDriverWait(driver, 5)\n",
    "    element1 = wait.until(EC.element_to_be_clickable((By.ID, menu)))\n",
    "    # acessar Campo detalhe da Os\n",
    "    driver.find_element(By.ID, menu).click()\n",
    "    time.sleep(2)\n",
    "    #acessar camada frame do site\n",
    "    driver.switch_to.frame(\"frame-content\")\n",
    "\n",
    "#ACESSAR MENU PAR EXTRAR INSUMADOS\n",
    "arvore_acesso(driver, 'insum', 'GOSI_anchor')"
   ]
  },
  {
   "cell_type": "code",
   "execution_count": 85,
   "id": "19f077be",
   "metadata": {},
   "outputs": [],
   "source": [
    "#Consultar na label Material\n",
    "def preencher_ss(driver, lista, lista2):\n",
    "    driver.find_element(By.XPATH, '//*[@id=\"form-j_idt71-j_idt72-item\"]').clear()\n",
    "    driver.find_element(By.XPATH, '//*[@id=\"form-j_idt71-j_idt80-item\"]').clear()\n",
    "    \n",
    "    driver.find_element(By.XPATH, '//*[@id=\"form-j_idt71-j_idt72-item\"]').send_keys(lista)\n",
    "    time.sleep(0.5)\n",
    "    driver.find_element(By.XPATH, '//*[@id=\"form-j_idt71-j_idt80-item\"]').send_keys(lista2)\n",
    "    time.sleep(0.5)\n",
    "    # clinical em buscar\n",
    "    driver.find_element(By.XPATH, '//*[@id=\"form-j_idt71-panel\"]/input').click()\n",
    "    \n",
    "preencher_ss(driver, '978971045', '1')"
   ]
  },
  {
   "cell_type": "code",
   "execution_count": 78,
   "id": "011a8936",
   "metadata": {},
   "outputs": [],
   "source": [
    "um_meio = ['HIDROMETRO RES MONO 0,75M3/H 1/2\"S/C 45 - HD 1.5',\n",
    "           'CONJ CONEXOES HIDROM 1/2 PP 1,5 M3/H',\n",
    "          'REGISTRO PP 1/2\" ACIONAM RESTRITO PN10',\n",
    "          'LACRE TAMPA CX HIDROM AJUSTAVEL (AZUL)']\n",
    "\n",
    "\n",
    "\n",
    "de_tres = ['HIDROMETRO RES MULT 1,5M3/H 1/2\" S/C 45º',\n",
    "           'CONJ CONEXOES HIDROM 1/2 PP 3 E 1,5 M3/H',\n",
    "          'REGISTRO PP 1/2\" ACIONAM RESTRITO PN10',\n",
    "          'LACRE TAMPA CX HIDROM AJUSTAVEL (AZUL)']\n"
   ]
  },
  {
   "cell_type": "code",
   "execution_count": 89,
   "id": "73a454ca",
   "metadata": {},
   "outputs": [
    {
     "name": "stdout",
     "output_type": "stream",
     "text": [
      "EXECUTADO A INSTALACAO DO HD A22HW0076890 LT 000 LACRE FIO DE ACO 740133 APOS O FURTO DO HD ANTIGO Y22S166802, CAIXA MURETA, LIGACAO ABERTA, IMOVEL HABITADO - EQ 127-A GENILSON\n"
     ]
    }
   ],
   "source": [
    "campo = driver.find_element(By.XPATH, '//*[@id=\"form-j_idt135-j_idt147-item\"]')\n",
    "texto = campo.text\n",
    "print(texto)\n"
   ]
  },
  {
   "cell_type": "code",
   "execution_count": 94,
   "id": "0482e973",
   "metadata": {},
   "outputs": [],
   "source": [
    "#Acessando e inserindo material\n",
    "def campo_material(driver, material):\n",
    "    campo = driver.find_element(By.XPATH, '//*[@id=\"form-j_idt135-j_idt147-item\"]')\n",
    "    texto = campo.text\n",
    "    padrao = r\"A2[012]\\w+|Y2[012]\\w+\"\n",
    "    resultados = re.findall(padrao, texto)\n",
    "    if 'A22' or 'A20' or 'A21' in resultados:\n",
    "        for item in material:\n",
    "            campo1 = driver.find_element(By.XPATH,'//*[@id=\"form-cpnlAssociarInsumo-tmpCodigoAutoComp-codAutoComp_input\"]')\n",
    "            campo1.click()\n",
    "            time.sleep(0.4)\n",
    "            campo1.clear()\n",
    "            time.sleep(0.5)\n",
    "            campo1.send_keys(item)\n",
    "            time.sleep(2)\n",
    "            campo1.send_keys(Keys.RETURN)\n",
    "            time.sleep(1)\n",
    "    \n",
    "\n",
    "campo_material(driver, um_meio)"
   ]
  },
  {
   "cell_type": "code",
   "execution_count": 23,
   "id": "88d0731f",
   "metadata": {},
   "outputs": [],
   "source": [
    "#Acessando e inserindo quantidade e medir\n",
    "def campo_quantidade(driver, qtd, medir):\n",
    "    campo2 = driver.find_element(By.XPATH, '//*[@id=\"form-cpnlAssociarInsumo-quantidade-item\"]')\n",
    "    campo2.click()\n",
    "    campo2.clear()\n",
    "    campo2.send_keys(qtd)\n",
    "    time.sleep(0.5)\n",
    "    #Acessando e inserindo Disp p medir S/N\n",
    "    select_element = driver.find_element(By.ID, 'form-cpnlAssociarInsumo-j_idt290-comboBooleanSN-item')\n",
    "    select = Select(select_element)\n",
    "    select.select_by_value(medir)\n",
    "    # select.select_by_visible_text('Não')\n",
    "    time.sleep(0.5)\n",
    "    #Confirar insumo\n",
    "    driver.find_element(By.XPATH,'//*[@id=\"form-cpnlAssociarInsumo-confirmar\"]').click()\n",
    "    \n",
    "#campo_quantidade(driver, '3', 'N')"
   ]
  },
  {
   "cell_type": "code",
   "execution_count": null,
   "id": "ac4acd6d",
   "metadata": {},
   "outputs": [],
   "source": [
    "for index, row in df.iterrows():    \n",
    "    ID = row.Material\n",
    "    SS = row.SS\n",
    "    MT = row.Mureta\n",
    "    HD = row.Hd\n",
    "    #comando_sql = (f\"UPDATE [Janeiro26/12-25/01] SET Material='{ID}', Mureta='{MT}', Hd='{HD}' WHERE SS={SS} \")\n",
    "    comando_sql = \"UPDATE [Insumar] SET Material='{}', Mureta='{}', Hd='{}' WHERE SS={}\".format(\n",
    "    ID.replace(\"'\", \"''\"), MT.replace(\"'\", \"''\"), HD.replace(\"'\", \"''\"), SS)  \n",
    "    cursor.execute(comando_sql)\n",
    "    \n",
    "cursor.commit()"
   ]
  },
  {
   "cell_type": "code",
   "execution_count": null,
   "id": "8a6a11cf",
   "metadata": {},
   "outputs": [],
   "source": [
    "def geral():\n",
    "    #Inicinado automação / abrindo navegador\n",
    "    options = Options()\n",
    "    options.add_argument(\"start-maximized\")\n",
    "    driver = webdriver.Chrome(ChromeDriverManager().install())\n",
    "    chrome_options = webdriver.ChromeOptions()\n",
    "    time.sleep(1)\n",
    "    \n",
    "    login = 't034183'\n",
    "    senha = 'CNB@2022'\n",
    "    driver.get(\"https://sciweb.embasanet.ba.gov.br/sci-web/\")\n",
    "    time.sleep(1)\n",
    "      \n",
    "\n",
    "    # Procurar a tag random do site / Login e senha\n",
    "    randomtag = driver.find_element(By.ID, \"random-tag\").get_attribute('value')\n",
    "    driver.find_element(By.ID, \"loginForm-usuario-{randomtag}\".format(randomtag=randomtag)).send_keys(login)\n",
    "    driver.find_element(By.ID, \"loginForm-senha-{randomtag}\".format(randomtag=randomtag)).send_keys(senha)\n",
    "    driver.find_element(By.ID, \"loginForm-submit\").click()\n",
    "    time.sleep(1)\n",
    "    \n",
    "    arvore_acesso(driver, 'insum', 'GOSI_anchor')\n",
    "    time.sleep(1)\n",
    "    \n",
    "    itens = ['INTDIG01 - LUVA PVC JS 40MM', 'INTDIG01 - CAP PVC JS 25MM']\n",
    "\n",
    "    \n",
    "    for i, row in df.iterrows():\n",
    "        preencher_ss(driver, str(row['SS']), str(row['OS']))\n",
    "        time.sleep(1)\n",
    "        for item in itens:\n",
    "            campo_material(driver, item)            \n",
    "            time.sleep(1)\n",
    "            campo_quantidade(driver, '3', 'N')\n",
    "            time.sleep(1)\n",
    "            print(\"Materiais insumados com sucesso! :)\")\n",
    "   \n",
    "    "
   ]
  },
  {
   "cell_type": "code",
   "execution_count": 28,
   "id": "63c76525",
   "metadata": {},
   "outputs": [],
   "source": [
    "def esperar_sumir(driver):\n",
    "    wait = WebDriverWait(driver, 30)\n",
    "    element = wait.until(EC.invisibility_of_element_located((By.ID, \"j_idt24_modal\")))"
   ]
  },
  {
   "cell_type": "code",
   "execution_count": null,
   "id": "da436cc0",
   "metadata": {},
   "outputs": [],
   "source": [
    "geral()"
   ]
  },
  {
   "cell_type": "code",
   "execution_count": 25,
   "id": "a97d0767",
   "metadata": {},
   "outputs": [],
   "source": [
    "def login(driver, user, senha):\n",
    "    \n",
    "    # Esperar pela tag random do site / Login e senha\n",
    "    randomtag = driver.find_element(By.ID, \"random-tag\").get_attribute('value')\n",
    "    driver.find_element(By.ID, \"loginForm-usuario-{randomtag}\".format(randomtag=randomtag)).send_keys(user)\n",
    "    driver.find_element(By.ID, \"loginForm-senha-{randomtag}\".format(randomtag=randomtag)).send_keys(senha)\n",
    "    driver.find_element(By.ID, \"loginForm-submit\").click()\n",
    "    time.sleep(0.5)\n",
    "\n",
    "def geral2():\n",
    "    #Iniciando automação / abrindo navegador\n",
    "    options = Options()\n",
    "    options.add_argument(\"start-maximized\")\n",
    "    driver = webdriver.Chrome(ChromeDriverManager().install())\n",
    "    chrome_options = webdriver.ChromeOptions()\n",
    "    time.sleep(0.5)\n",
    "    \n",
    "    user = 't034183'\n",
    "    senha = 'CNB@2022'\n",
    "    driver.get(\"https://sciweb.embasanet.ba.gov.br/sci-web/\")\n",
    "    time.sleep(0.5)\n",
    "    \n",
    "    # Esperar pela tag random do site / Login e senha\n",
    "    randomtag = driver.find_element(By.ID, \"random-tag\").get_attribute('value')\n",
    "    driver.find_element(By.ID, \"loginForm-usuario-{randomtag}\".format(randomtag=randomtag)).send_keys(user)\n",
    "    driver.find_element(By.ID, \"loginForm-senha-{randomtag}\".format(randomtag=randomtag)).send_keys(senha)\n",
    "    driver.find_element(By.ID, \"loginForm-submit\").click()\n",
    "    time.sleep(0.5)\n",
    "    \n",
    "    arvore_acesso(driver, 'insum', 'GOSI_anchor')\n",
    "    time.sleep(1)\n",
    "    \n",
    "    itens = ['INTDIG01 - LUVA PVC JS 40MM', 'INTDIG01 - CAP PVC JS 25MM']\n",
    "    \n",
    "    contador = 0\n",
    "\n",
    "    for i, row in df.iterrows():\n",
    "        preencher_ss(driver, str(row['SS']), str(row['OS']))\n",
    "        time.sleep(1)\n",
    "        for item in itens:\n",
    "            campo_material(driver, item)            \n",
    "            time.sleep(0.5)\n",
    "            esperar_sumir(driver)\n",
    "            campo_quantidade(driver, 3, 'N')\n",
    "            time.sleep(0.5)\n",
    "            contador += 1\n",
    "\n",
    "    print(f\"{contador} Ss(s) insumada(s) com sucesso!\")\n",
    "\n"
   ]
  },
  {
   "cell_type": "code",
   "execution_count": null,
   "id": "2ffe99a4",
   "metadata": {},
   "outputs": [],
   "source": [
    "geral2()"
   ]
  },
  {
   "cell_type": "code",
   "execution_count": 73,
   "id": "363261bc",
   "metadata": {},
   "outputs": [],
   "source": [
    "import tkinter as tk\n",
    "\n",
    "def interface_grafica():\n",
    "    # Cria a janela da interface gráfica\n",
    "    janela = tk.Tk()\n",
    "    janela.geometry(\"300x300\")\n",
    "    janela.title(\"Insumação de SS\")\n",
    "\n",
    "    # Cria o frame onde serão adicionados os widgets\n",
    "    frame = tk.Frame(janela)\n",
    "    frame.pack(pady=20)\n",
    "\n",
    "    # Adiciona o label para o campo de itens\n",
    "    label_itens = tk.Label(frame, text=\"Itens:\")\n",
    "    label_itens.pack()\n",
    "\n",
    "    # Adiciona a caixa de entrada para os itens\n",
    "    entrada_itens = tk.Entry(frame)\n",
    "    entrada_itens.pack()\n",
    "\n",
    "    # Adiciona o label para o campo de quantidade\n",
    "    label_quantidade = tk.Label(frame, text=\"Quantidade:\")\n",
    "    label_quantidade.pack()\n",
    "\n",
    "    # Adiciona a caixa de entrada para a quantidade\n",
    "    entrada_quantidade = tk.Entry(frame)\n",
    "    entrada_quantidade.pack()\n",
    "\n",
    "    # Adiciona o label para o campo de medir\n",
    "    label_medir = tk.Label(frame, text=\"Medir:\")\n",
    "    label_medir.pack()\n",
    "\n",
    "    # Adiciona a caixa de seleção para o medir\n",
    "    medir = tk.StringVar()\n",
    "    medir.set('N')\n",
    "    selecao_medir = tk.OptionMenu(frame, medir, 'S', 'N')\n",
    "    selecao_medir.pack()\n",
    "\n",
    "    # Adiciona o botão de insumação\n",
    "    botao_insumar = tk.Button(frame, text=\"Insumar\", command=geral2)\n",
    "    botao_insumar.pack(pady=20)\n",
    "\n",
    "    # Inicia a janela\n",
    "    janela.mainloop()\n"
   ]
  },
  {
   "cell_type": "code",
   "execution_count": 74,
   "id": "ab926018",
   "metadata": {
    "collapsed": true
   },
   "outputs": [
    {
     "ename": "NameError",
     "evalue": "name 'geral2' is not defined",
     "output_type": "error",
     "traceback": [
      "\u001b[1;31m---------------------------------------------------------------------------\u001b[0m",
      "\u001b[1;31mNameError\u001b[0m                                 Traceback (most recent call last)",
      "\u001b[1;32mC:\\Users\\GLEISS~1.SAN\\AppData\\Local\\Temp/ipykernel_3244/3747728545.py\u001b[0m in \u001b[0;36m<module>\u001b[1;34m\u001b[0m\n\u001b[1;32m----> 1\u001b[1;33m \u001b[0minterface_grafica\u001b[0m\u001b[1;33m(\u001b[0m\u001b[1;33m)\u001b[0m\u001b[1;33m\u001b[0m\u001b[1;33m\u001b[0m\u001b[0m\n\u001b[0m",
      "\u001b[1;32mC:\\Users\\GLEISS~1.SAN\\AppData\\Local\\Temp/ipykernel_3244/2109381317.py\u001b[0m in \u001b[0;36minterface_grafica\u001b[1;34m()\u001b[0m\n\u001b[0;32m     38\u001b[0m \u001b[1;33m\u001b[0m\u001b[0m\n\u001b[0;32m     39\u001b[0m     \u001b[1;31m# Adiciona o botão de insumação\u001b[0m\u001b[1;33m\u001b[0m\u001b[1;33m\u001b[0m\u001b[0m\n\u001b[1;32m---> 40\u001b[1;33m     \u001b[0mbotao_insumar\u001b[0m \u001b[1;33m=\u001b[0m \u001b[0mtk\u001b[0m\u001b[1;33m.\u001b[0m\u001b[0mButton\u001b[0m\u001b[1;33m(\u001b[0m\u001b[0mframe\u001b[0m\u001b[1;33m,\u001b[0m \u001b[0mtext\u001b[0m\u001b[1;33m=\u001b[0m\u001b[1;34m\"Insumar\"\u001b[0m\u001b[1;33m,\u001b[0m \u001b[0mcommand\u001b[0m\u001b[1;33m=\u001b[0m\u001b[0mgeral2\u001b[0m\u001b[1;33m)\u001b[0m\u001b[1;33m\u001b[0m\u001b[1;33m\u001b[0m\u001b[0m\n\u001b[0m\u001b[0;32m     41\u001b[0m     \u001b[0mbotao_insumar\u001b[0m\u001b[1;33m.\u001b[0m\u001b[0mpack\u001b[0m\u001b[1;33m(\u001b[0m\u001b[0mpady\u001b[0m\u001b[1;33m=\u001b[0m\u001b[1;36m20\u001b[0m\u001b[1;33m)\u001b[0m\u001b[1;33m\u001b[0m\u001b[1;33m\u001b[0m\u001b[0m\n\u001b[0;32m     42\u001b[0m \u001b[1;33m\u001b[0m\u001b[0m\n",
      "\u001b[1;31mNameError\u001b[0m: name 'geral2' is not defined"
     ]
    }
   ],
   "source": [
    "interface_grafica()"
   ]
  },
  {
   "cell_type": "code",
   "execution_count": 77,
   "id": "d3e1210e",
   "metadata": {},
   "outputs": [
    {
     "name": "stdout",
     "output_type": "stream",
     "text": [
      "['A22HW0126338', 'Y22HW0126338', 'A22HW0078184']\n"
     ]
    }
   ],
   "source": [
    "import re\n",
    "\n",
    "texto = \"EXECUTADO A SUBSITUICAO DO HD A22HW0126338 Y22HW0126338 APOS FURTO E INSTALADO O HD NOVO A22HW0078184 LT 000 LACRE FIO DE ACO 714600. CAIXA MURETA, LIGACAO ABERTA, IMOVEL HABITADO. EQ 126-A LUIZ ANTONIO.\"\n",
    "\n",
    "padrao = r\"A2[012]\\w+|Y2[012]\\w+\"\n",
    "\n",
    "resultados = re.findall(padrao, texto)\n",
    "\n",
    "print(resultados)\n"
   ]
  }
 ],
 "metadata": {
  "kernelspec": {
   "display_name": "Python 3 (ipykernel)",
   "language": "python",
   "name": "python3"
  },
  "language_info": {
   "codemirror_mode": {
    "name": "ipython",
    "version": 3
   },
   "file_extension": ".py",
   "mimetype": "text/x-python",
   "name": "python",
   "nbconvert_exporter": "python",
   "pygments_lexer": "ipython3",
   "version": "3.9.7"
  }
 },
 "nbformat": 4,
 "nbformat_minor": 5
}
